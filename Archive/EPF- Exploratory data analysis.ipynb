{
 "cells": [
  {
   "cell_type": "markdown",
   "metadata": {},
   "source": [
    "# Electricity price forecasting"
   ]
  },
  {
   "cell_type": "code",
   "execution_count": 1,
   "metadata": {},
   "outputs": [],
   "source": [
    "import pandas as pd\n",
    "import numpy as np\n",
    "import warnings\n",
    "warnings.filterwarnings(\"ignore\")\n",
    "from datetime import datetime\n",
    "import sqlite3\n",
    "import pandas as pd\n",
    "import numpy as np\n",
    "import matplotlib.pyplot as plt\n",
    "%matplotlib notebook\n",
    "%matplotlib inline\n",
    "import seaborn as sns\n",
    "import pickle\n",
    "from tqdm import tqdm\n",
    "import math\n",
    "import os"
   ]
  },
  {
   "cell_type": "code",
   "execution_count": 2,
   "metadata": {},
   "outputs": [
    {
     "data": {
      "text/plain": [
       "'C:\\\\python\\\\Electricity price forecasting-Research project'"
      ]
     },
     "execution_count": 2,
     "metadata": {},
     "output_type": "execute_result"
    }
   ],
   "source": [
    "pwd"
   ]
  },
  {
   "cell_type": "code",
   "execution_count": 3,
   "metadata": {},
   "outputs": [
    {
     "data": {
      "text/plain": [
       "(177292, 7)"
      ]
     },
     "execution_count": 3,
     "metadata": {},
     "output_type": "execute_result"
    }
   ],
   "source": [
    "file= 'E:\\CIT\\MSc_AI\\Research project_NIMBUS\\Data\\prices_jan2019_to_aug2020.csv'\n",
    "data= pd.read_csv(file, delimiter= ';')\n",
    "data.shape"
   ]
  },
  {
   "cell_type": "code",
   "execution_count": 4,
   "metadata": {},
   "outputs": [
    {
     "data": {
      "text/html": [
       "<div>\n",
       "<style scoped>\n",
       "    .dataframe tbody tr th:only-of-type {\n",
       "        vertical-align: middle;\n",
       "    }\n",
       "\n",
       "    .dataframe tbody tr th {\n",
       "        vertical-align: top;\n",
       "    }\n",
       "\n",
       "    .dataframe thead th {\n",
       "        text-align: right;\n",
       "    }\n",
       "</style>\n",
       "<table border=\"1\" class=\"dataframe\">\n",
       "  <thead>\n",
       "    <tr style=\"text-align: right;\">\n",
       "      <th></th>\n",
       "      <th>id</th>\n",
       "      <th>applicable_date</th>\n",
       "      <th>measurement_name</th>\n",
       "      <th>market_name</th>\n",
       "      <th>val</th>\n",
       "      <th>time_interval_in_minutes</th>\n",
       "      <th>currency</th>\n",
       "    </tr>\n",
       "  </thead>\n",
       "  <tbody>\n",
       "    <tr>\n",
       "      <th>0</th>\n",
       "      <td>1</td>\n",
       "      <td>2019-11-11 23:00:00</td>\n",
       "      <td>isem_prices</td>\n",
       "      <td>NI-DA</td>\n",
       "      <td>0.00</td>\n",
       "      <td>60</td>\n",
       "      <td>EUR</td>\n",
       "    </tr>\n",
       "    <tr>\n",
       "      <th>1</th>\n",
       "      <td>2</td>\n",
       "      <td>2019-11-12 00:00:00</td>\n",
       "      <td>isem_prices</td>\n",
       "      <td>NI-DA</td>\n",
       "      <td>0.00</td>\n",
       "      <td>60</td>\n",
       "      <td>EUR</td>\n",
       "    </tr>\n",
       "    <tr>\n",
       "      <th>2</th>\n",
       "      <td>3</td>\n",
       "      <td>2019-11-12 01:00:00</td>\n",
       "      <td>isem_prices</td>\n",
       "      <td>NI-DA</td>\n",
       "      <td>-0.38</td>\n",
       "      <td>60</td>\n",
       "      <td>EUR</td>\n",
       "    </tr>\n",
       "    <tr>\n",
       "      <th>3</th>\n",
       "      <td>4</td>\n",
       "      <td>2019-11-12 02:00:00</td>\n",
       "      <td>isem_prices</td>\n",
       "      <td>NI-DA</td>\n",
       "      <td>-0.50</td>\n",
       "      <td>60</td>\n",
       "      <td>EUR</td>\n",
       "    </tr>\n",
       "    <tr>\n",
       "      <th>4</th>\n",
       "      <td>5</td>\n",
       "      <td>2019-11-12 03:00:00</td>\n",
       "      <td>isem_prices</td>\n",
       "      <td>NI-DA</td>\n",
       "      <td>-1.00</td>\n",
       "      <td>60</td>\n",
       "      <td>EUR</td>\n",
       "    </tr>\n",
       "  </tbody>\n",
       "</table>\n",
       "</div>"
      ],
      "text/plain": [
       "   id      applicable_date measurement_name market_name   val  \\\n",
       "0   1  2019-11-11 23:00:00      isem_prices       NI-DA  0.00   \n",
       "1   2  2019-11-12 00:00:00      isem_prices       NI-DA  0.00   \n",
       "2   3  2019-11-12 01:00:00      isem_prices       NI-DA -0.38   \n",
       "3   4  2019-11-12 02:00:00      isem_prices       NI-DA -0.50   \n",
       "4   5  2019-11-12 03:00:00      isem_prices       NI-DA -1.00   \n",
       "\n",
       "   time_interval_in_minutes currency  \n",
       "0                        60      EUR  \n",
       "1                        60      EUR  \n",
       "2                        60      EUR  \n",
       "3                        60      EUR  \n",
       "4                        60      EUR  "
      ]
     },
     "execution_count": 4,
     "metadata": {},
     "output_type": "execute_result"
    }
   ],
   "source": [
    "data.head()"
   ]
  },
  {
   "cell_type": "code",
   "execution_count": 5,
   "metadata": {},
   "outputs": [
    {
     "data": {
      "text/html": [
       "<div>\n",
       "<style scoped>\n",
       "    .dataframe tbody tr th:only-of-type {\n",
       "        vertical-align: middle;\n",
       "    }\n",
       "\n",
       "    .dataframe tbody tr th {\n",
       "        vertical-align: top;\n",
       "    }\n",
       "\n",
       "    .dataframe thead th {\n",
       "        text-align: right;\n",
       "    }\n",
       "</style>\n",
       "<table border=\"1\" class=\"dataframe\">\n",
       "  <thead>\n",
       "    <tr style=\"text-align: right;\">\n",
       "      <th></th>\n",
       "      <th>id</th>\n",
       "      <th>applicable_date</th>\n",
       "      <th>measurement_name</th>\n",
       "      <th>market_name</th>\n",
       "      <th>elec_prices</th>\n",
       "      <th>time_interval_in_minutes</th>\n",
       "      <th>currency</th>\n",
       "    </tr>\n",
       "  </thead>\n",
       "  <tbody>\n",
       "    <tr>\n",
       "      <th>0</th>\n",
       "      <td>1</td>\n",
       "      <td>2019-11-11 23:00:00</td>\n",
       "      <td>isem_prices</td>\n",
       "      <td>NI-DA</td>\n",
       "      <td>0.00</td>\n",
       "      <td>60</td>\n",
       "      <td>EUR</td>\n",
       "    </tr>\n",
       "    <tr>\n",
       "      <th>1</th>\n",
       "      <td>2</td>\n",
       "      <td>2019-11-12 00:00:00</td>\n",
       "      <td>isem_prices</td>\n",
       "      <td>NI-DA</td>\n",
       "      <td>0.00</td>\n",
       "      <td>60</td>\n",
       "      <td>EUR</td>\n",
       "    </tr>\n",
       "    <tr>\n",
       "      <th>2</th>\n",
       "      <td>3</td>\n",
       "      <td>2019-11-12 01:00:00</td>\n",
       "      <td>isem_prices</td>\n",
       "      <td>NI-DA</td>\n",
       "      <td>-0.38</td>\n",
       "      <td>60</td>\n",
       "      <td>EUR</td>\n",
       "    </tr>\n",
       "    <tr>\n",
       "      <th>3</th>\n",
       "      <td>4</td>\n",
       "      <td>2019-11-12 02:00:00</td>\n",
       "      <td>isem_prices</td>\n",
       "      <td>NI-DA</td>\n",
       "      <td>-0.50</td>\n",
       "      <td>60</td>\n",
       "      <td>EUR</td>\n",
       "    </tr>\n",
       "    <tr>\n",
       "      <th>4</th>\n",
       "      <td>5</td>\n",
       "      <td>2019-11-12 03:00:00</td>\n",
       "      <td>isem_prices</td>\n",
       "      <td>NI-DA</td>\n",
       "      <td>-1.00</td>\n",
       "      <td>60</td>\n",
       "      <td>EUR</td>\n",
       "    </tr>\n",
       "  </tbody>\n",
       "</table>\n",
       "</div>"
      ],
      "text/plain": [
       "   id      applicable_date measurement_name market_name  elec_prices  \\\n",
       "0   1  2019-11-11 23:00:00      isem_prices       NI-DA         0.00   \n",
       "1   2  2019-11-12 00:00:00      isem_prices       NI-DA         0.00   \n",
       "2   3  2019-11-12 01:00:00      isem_prices       NI-DA        -0.38   \n",
       "3   4  2019-11-12 02:00:00      isem_prices       NI-DA        -0.50   \n",
       "4   5  2019-11-12 03:00:00      isem_prices       NI-DA        -1.00   \n",
       "\n",
       "   time_interval_in_minutes currency  \n",
       "0                        60      EUR  \n",
       "1                        60      EUR  \n",
       "2                        60      EUR  \n",
       "3                        60      EUR  \n",
       "4                        60      EUR  "
      ]
     },
     "execution_count": 5,
     "metadata": {},
     "output_type": "execute_result"
    }
   ],
   "source": [
    "data= data.rename(columns={\"val\": \"elec_prices\"})\n",
    "data.head()"
   ]
  },
  {
   "cell_type": "code",
   "execution_count": 6,
   "metadata": {},
   "outputs": [
    {
     "name": "stdout",
     "output_type": "stream",
     "text": [
      "Unique values in measurement_name:  ['isem_prices' 'isem_predicted_volumes']\n",
      "Value counts: \n",
      " isem_prices               155278\n",
      "isem_predicted_volumes     22014\n",
      "Name: measurement_name, dtype: int64\n",
      "\n",
      "\n",
      "\n",
      "Unique values in market_name:  ['NI-DA' 'ROI-DA' 'NI-IDA1' 'ROI-IDA1' 'NI-IDA2' 'ROI-IDA2' 'NI-IDA3'\n",
      " 'ROI-IDA3']\n",
      "Value counts: \n",
      " NI-IDA1     41532\n",
      "ROI-IDA1    41531\n",
      "NI-DA       20767\n",
      "ROI-DA      20766\n",
      "NI-IDA2     17596\n",
      "ROI-IDA2    17596\n",
      "NI-IDA3      8752\n",
      "ROI-IDA3     8752\n",
      "Name: market_name, dtype: int64\n",
      "\n",
      "\n",
      "\n",
      "Unique values in elec_prices:  [ 0.    -0.38  -0.5   ... 40.359 43.946 48.888]\n",
      "Value counts: \n",
      " 0.0       1014\n",
      "55.0       657\n",
      "65.0       546\n",
      "70.0       517\n",
      "60.0       469\n",
      "          ... \n",
      "838.2        1\n",
      "3214.2       1\n",
      "564.5        1\n",
      "244.9        1\n",
      "526.0        1\n",
      "Name: elec_prices, Length: 35679, dtype: int64\n",
      "\n",
      "\n",
      "\n",
      "Unique values in time_interval_in_minutes:  [60 30]\n",
      "Value counts: \n",
      " 30    135759\n",
      "60     41533\n",
      "Name: time_interval_in_minutes, dtype: int64\n",
      "\n",
      "\n",
      "\n",
      "Unique values in currency:  ['EUR' 'GBP' nan]\n",
      "Value counts: \n",
      " EUR    77640\n",
      "GBP    77638\n",
      "Name: currency, dtype: int64\n",
      "\n",
      "\n",
      "\n"
     ]
    }
   ],
   "source": [
    "cols= data.columns[2:]\n",
    "for col in cols:\n",
    "    print(\"Unique values in \"+col+\": \",data[col].unique())\n",
    "    print(\"Value counts: \\n\",data[col].value_counts())\n",
    "    print(\"\\n\\n\")"
   ]
  },
  {
   "cell_type": "code",
   "execution_count": 7,
   "metadata": {},
   "outputs": [
    {
     "name": "stdout",
     "output_type": "stream",
     "text": [
      "id:  False\n",
      "applicable_date:  False\n",
      "measurement_name:  False\n",
      "market_name:  False\n",
      "elec_prices:  False\n",
      "time_interval_in_minutes:  False\n",
      "currency:  True\n"
     ]
    }
   ],
   "source": [
    "#checking for null values in all columns\n",
    "\n",
    "cols= data.columns\n",
    "for col in cols:\n",
    "    print(col+\": \",data[col].isnull().values.any())"
   ]
  },
  {
   "cell_type": "markdown",
   "metadata": {},
   "source": [
    "## Data cleaning"
   ]
  },
  {
   "cell_type": "code",
   "execution_count": 8,
   "metadata": {},
   "outputs": [
    {
     "data": {
      "text/plain": [
       "(9159, 7)"
      ]
     },
     "execution_count": 8,
     "metadata": {},
     "output_type": "execute_result"
    }
   ],
   "source": [
    "#data_= data\n",
    "data= data[(data['currency'] == 'EUR') & (data['time_interval_in_minutes'] == 60) & (data['market_name']== 'ROI-DA')]\n",
    "data.shape"
   ]
  },
  {
   "cell_type": "code",
   "execution_count": 9,
   "metadata": {},
   "outputs": [
    {
     "name": "stdout",
     "output_type": "stream",
     "text": [
      "Currency : False\n"
     ]
    }
   ],
   "source": [
    "print(\"Currency :\",data['currency'].isnull().values.any())"
   ]
  },
  {
   "cell_type": "code",
   "execution_count": 10,
   "metadata": {},
   "outputs": [
    {
     "data": {
      "text/html": [
       "<div>\n",
       "<style scoped>\n",
       "    .dataframe tbody tr th:only-of-type {\n",
       "        vertical-align: middle;\n",
       "    }\n",
       "\n",
       "    .dataframe tbody tr th {\n",
       "        vertical-align: top;\n",
       "    }\n",
       "\n",
       "    .dataframe thead th {\n",
       "        text-align: right;\n",
       "    }\n",
       "</style>\n",
       "<table border=\"1\" class=\"dataframe\">\n",
       "  <thead>\n",
       "    <tr style=\"text-align: right;\">\n",
       "      <th></th>\n",
       "      <th>id</th>\n",
       "      <th>applicable_date</th>\n",
       "      <th>measurement_name</th>\n",
       "      <th>market_name</th>\n",
       "      <th>elec_prices</th>\n",
       "      <th>time_interval_in_minutes</th>\n",
       "      <th>currency</th>\n",
       "    </tr>\n",
       "  </thead>\n",
       "  <tbody>\n",
       "    <tr>\n",
       "      <th>72</th>\n",
       "      <td>73</td>\n",
       "      <td>2019-11-11 23:00:00</td>\n",
       "      <td>isem_prices</td>\n",
       "      <td>ROI-DA</td>\n",
       "      <td>0.00</td>\n",
       "      <td>60</td>\n",
       "      <td>EUR</td>\n",
       "    </tr>\n",
       "    <tr>\n",
       "      <th>73</th>\n",
       "      <td>74</td>\n",
       "      <td>2019-11-12 00:00:00</td>\n",
       "      <td>isem_prices</td>\n",
       "      <td>ROI-DA</td>\n",
       "      <td>0.00</td>\n",
       "      <td>60</td>\n",
       "      <td>EUR</td>\n",
       "    </tr>\n",
       "    <tr>\n",
       "      <th>74</th>\n",
       "      <td>75</td>\n",
       "      <td>2019-11-12 01:00:00</td>\n",
       "      <td>isem_prices</td>\n",
       "      <td>ROI-DA</td>\n",
       "      <td>-0.38</td>\n",
       "      <td>60</td>\n",
       "      <td>EUR</td>\n",
       "    </tr>\n",
       "    <tr>\n",
       "      <th>75</th>\n",
       "      <td>76</td>\n",
       "      <td>2019-11-12 02:00:00</td>\n",
       "      <td>isem_prices</td>\n",
       "      <td>ROI-DA</td>\n",
       "      <td>-0.50</td>\n",
       "      <td>60</td>\n",
       "      <td>EUR</td>\n",
       "    </tr>\n",
       "    <tr>\n",
       "      <th>76</th>\n",
       "      <td>77</td>\n",
       "      <td>2019-11-12 03:00:00</td>\n",
       "      <td>isem_prices</td>\n",
       "      <td>ROI-DA</td>\n",
       "      <td>-1.00</td>\n",
       "      <td>60</td>\n",
       "      <td>EUR</td>\n",
       "    </tr>\n",
       "  </tbody>\n",
       "</table>\n",
       "</div>"
      ],
      "text/plain": [
       "    id      applicable_date measurement_name market_name  elec_prices  \\\n",
       "72  73  2019-11-11 23:00:00      isem_prices      ROI-DA         0.00   \n",
       "73  74  2019-11-12 00:00:00      isem_prices      ROI-DA         0.00   \n",
       "74  75  2019-11-12 01:00:00      isem_prices      ROI-DA        -0.38   \n",
       "75  76  2019-11-12 02:00:00      isem_prices      ROI-DA        -0.50   \n",
       "76  77  2019-11-12 03:00:00      isem_prices      ROI-DA        -1.00   \n",
       "\n",
       "    time_interval_in_minutes currency  \n",
       "72                        60      EUR  \n",
       "73                        60      EUR  \n",
       "74                        60      EUR  \n",
       "75                        60      EUR  \n",
       "76                        60      EUR  "
      ]
     },
     "execution_count": 10,
     "metadata": {},
     "output_type": "execute_result"
    }
   ],
   "source": [
    "data.head()"
   ]
  },
  {
   "cell_type": "code",
   "execution_count": 11,
   "metadata": {},
   "outputs": [],
   "source": [
    "#eliminating columns\n",
    "data= data.drop(['id', 'market_name','time_interval_in_minutes','currency'], axis=1)"
   ]
  },
  {
   "cell_type": "code",
   "execution_count": 12,
   "metadata": {},
   "outputs": [
    {
     "data": {
      "text/html": [
       "<div>\n",
       "<style scoped>\n",
       "    .dataframe tbody tr th:only-of-type {\n",
       "        vertical-align: middle;\n",
       "    }\n",
       "\n",
       "    .dataframe tbody tr th {\n",
       "        vertical-align: top;\n",
       "    }\n",
       "\n",
       "    .dataframe thead th {\n",
       "        text-align: right;\n",
       "    }\n",
       "</style>\n",
       "<table border=\"1\" class=\"dataframe\">\n",
       "  <thead>\n",
       "    <tr style=\"text-align: right;\">\n",
       "      <th></th>\n",
       "      <th>applicable_date</th>\n",
       "      <th>measurement_name</th>\n",
       "      <th>elec_prices</th>\n",
       "    </tr>\n",
       "  </thead>\n",
       "  <tbody>\n",
       "    <tr>\n",
       "      <th>72</th>\n",
       "      <td>2019-11-11 23:00:00</td>\n",
       "      <td>isem_prices</td>\n",
       "      <td>0.00</td>\n",
       "    </tr>\n",
       "    <tr>\n",
       "      <th>73</th>\n",
       "      <td>2019-11-12 00:00:00</td>\n",
       "      <td>isem_prices</td>\n",
       "      <td>0.00</td>\n",
       "    </tr>\n",
       "    <tr>\n",
       "      <th>74</th>\n",
       "      <td>2019-11-12 01:00:00</td>\n",
       "      <td>isem_prices</td>\n",
       "      <td>-0.38</td>\n",
       "    </tr>\n",
       "    <tr>\n",
       "      <th>75</th>\n",
       "      <td>2019-11-12 02:00:00</td>\n",
       "      <td>isem_prices</td>\n",
       "      <td>-0.50</td>\n",
       "    </tr>\n",
       "    <tr>\n",
       "      <th>76</th>\n",
       "      <td>2019-11-12 03:00:00</td>\n",
       "      <td>isem_prices</td>\n",
       "      <td>-1.00</td>\n",
       "    </tr>\n",
       "  </tbody>\n",
       "</table>\n",
       "</div>"
      ],
      "text/plain": [
       "        applicable_date measurement_name  elec_prices\n",
       "72  2019-11-11 23:00:00      isem_prices         0.00\n",
       "73  2019-11-12 00:00:00      isem_prices         0.00\n",
       "74  2019-11-12 01:00:00      isem_prices        -0.38\n",
       "75  2019-11-12 02:00:00      isem_prices        -0.50\n",
       "76  2019-11-12 03:00:00      isem_prices        -1.00"
      ]
     },
     "execution_count": 12,
     "metadata": {},
     "output_type": "execute_result"
    }
   ],
   "source": [
    "data.head()"
   ]
  },
  {
   "cell_type": "code",
   "execution_count": 13,
   "metadata": {},
   "outputs": [
    {
     "data": {
      "text/plain": [
       "isem_prices    9159\n",
       "Name: measurement_name, dtype: int64"
      ]
     },
     "execution_count": 13,
     "metadata": {},
     "output_type": "execute_result"
    }
   ],
   "source": [
    "data['measurement_name'].value_counts()"
   ]
  },
  {
   "cell_type": "code",
   "execution_count": 14,
   "metadata": {},
   "outputs": [
    {
     "data": {
      "text/html": [
       "<div>\n",
       "<style scoped>\n",
       "    .dataframe tbody tr th:only-of-type {\n",
       "        vertical-align: middle;\n",
       "    }\n",
       "\n",
       "    .dataframe tbody tr th {\n",
       "        vertical-align: top;\n",
       "    }\n",
       "\n",
       "    .dataframe thead th {\n",
       "        text-align: right;\n",
       "    }\n",
       "</style>\n",
       "<table border=\"1\" class=\"dataframe\">\n",
       "  <thead>\n",
       "    <tr style=\"text-align: right;\">\n",
       "      <th></th>\n",
       "      <th>applicable_date</th>\n",
       "      <th>measurement_name</th>\n",
       "      <th>elec_prices</th>\n",
       "    </tr>\n",
       "  </thead>\n",
       "  <tbody>\n",
       "    <tr>\n",
       "      <th>0</th>\n",
       "      <td>2019-11-11 23:00:00</td>\n",
       "      <td>isem_prices</td>\n",
       "      <td>0.00</td>\n",
       "    </tr>\n",
       "    <tr>\n",
       "      <th>1</th>\n",
       "      <td>2019-11-12 00:00:00</td>\n",
       "      <td>isem_prices</td>\n",
       "      <td>0.00</td>\n",
       "    </tr>\n",
       "    <tr>\n",
       "      <th>2</th>\n",
       "      <td>2019-11-12 01:00:00</td>\n",
       "      <td>isem_prices</td>\n",
       "      <td>-0.38</td>\n",
       "    </tr>\n",
       "    <tr>\n",
       "      <th>3</th>\n",
       "      <td>2019-11-12 02:00:00</td>\n",
       "      <td>isem_prices</td>\n",
       "      <td>-0.50</td>\n",
       "    </tr>\n",
       "    <tr>\n",
       "      <th>4</th>\n",
       "      <td>2019-11-12 03:00:00</td>\n",
       "      <td>isem_prices</td>\n",
       "      <td>-1.00</td>\n",
       "    </tr>\n",
       "  </tbody>\n",
       "</table>\n",
       "</div>"
      ],
      "text/plain": [
       "       applicable_date measurement_name  elec_prices\n",
       "0  2019-11-11 23:00:00      isem_prices         0.00\n",
       "1  2019-11-12 00:00:00      isem_prices         0.00\n",
       "2  2019-11-12 01:00:00      isem_prices        -0.38\n",
       "3  2019-11-12 02:00:00      isem_prices        -0.50\n",
       "4  2019-11-12 03:00:00      isem_prices        -1.00"
      ]
     },
     "execution_count": 14,
     "metadata": {},
     "output_type": "execute_result"
    }
   ],
   "source": [
    "data= data.reset_index(drop=True)\n",
    "data.head()"
   ]
  },
  {
   "cell_type": "code",
   "execution_count": 17,
   "metadata": {},
   "outputs": [
    {
     "data": {
      "text/plain": [
       "array(['isem_prices'], dtype=object)"
      ]
     },
     "execution_count": 17,
     "metadata": {},
     "output_type": "execute_result"
    }
   ],
   "source": [
    "data['measurement_name'].unique()"
   ]
  },
  {
   "cell_type": "code",
   "execution_count": 18,
   "metadata": {},
   "outputs": [],
   "source": [
    "data.to_excel('output.xlsx')"
   ]
  },
  {
   "cell_type": "code",
   "execution_count": 20,
   "metadata": {},
   "outputs": [
    {
     "name": "stdout",
     "output_type": "stream",
     "text": [
      "(9686, 3)\n"
     ]
    },
    {
     "data": {
      "text/html": [
       "<div>\n",
       "<style scoped>\n",
       "    .dataframe tbody tr th:only-of-type {\n",
       "        vertical-align: middle;\n",
       "    }\n",
       "\n",
       "    .dataframe tbody tr th {\n",
       "        vertical-align: top;\n",
       "    }\n",
       "\n",
       "    .dataframe thead th {\n",
       "        text-align: right;\n",
       "    }\n",
       "</style>\n",
       "<table border=\"1\" class=\"dataframe\">\n",
       "  <thead>\n",
       "    <tr style=\"text-align: right;\">\n",
       "      <th></th>\n",
       "      <th>applicable_date</th>\n",
       "      <th>measurement_name</th>\n",
       "      <th>elec_prices</th>\n",
       "    </tr>\n",
       "  </thead>\n",
       "  <tbody>\n",
       "    <tr>\n",
       "      <th>0</th>\n",
       "      <td>2019-11-11 23:00:00</td>\n",
       "      <td>isem_prices</td>\n",
       "      <td>0.00</td>\n",
       "    </tr>\n",
       "    <tr>\n",
       "      <th>1</th>\n",
       "      <td>2019-11-12 00:00:00</td>\n",
       "      <td>isem_prices</td>\n",
       "      <td>0.00</td>\n",
       "    </tr>\n",
       "    <tr>\n",
       "      <th>2</th>\n",
       "      <td>2019-11-12 01:00:00</td>\n",
       "      <td>isem_prices</td>\n",
       "      <td>-0.38</td>\n",
       "    </tr>\n",
       "    <tr>\n",
       "      <th>3</th>\n",
       "      <td>2019-11-12 02:00:00</td>\n",
       "      <td>isem_prices</td>\n",
       "      <td>-0.50</td>\n",
       "    </tr>\n",
       "    <tr>\n",
       "      <th>4</th>\n",
       "      <td>2019-11-12 03:00:00</td>\n",
       "      <td>isem_prices</td>\n",
       "      <td>-1.00</td>\n",
       "    </tr>\n",
       "  </tbody>\n",
       "</table>\n",
       "</div>"
      ],
      "text/plain": [
       "       applicable_date measurement_name  elec_prices\n",
       "0  2019-11-11 23:00:00      isem_prices         0.00\n",
       "1  2019-11-12 00:00:00      isem_prices         0.00\n",
       "2  2019-11-12 01:00:00      isem_prices        -0.38\n",
       "3  2019-11-12 02:00:00      isem_prices        -0.50\n",
       "4  2019-11-12 03:00:00      isem_prices        -1.00"
      ]
     },
     "execution_count": 20,
     "metadata": {},
     "output_type": "execute_result"
    }
   ],
   "source": [
    "data = pd.read_excel('E:\\CIT\\MSc_AI\\Research project_NIMBUS\\Data\\output.xlsx',dtype={'applicable_date': str})\n",
    "print(data.shape)\n",
    "data.head()"
   ]
  },
  {
   "cell_type": "code",
   "execution_count": 28,
   "metadata": {},
   "outputs": [],
   "source": [
    "data['date']= [d.split(\" \")[0] for d in data['applicable_date']]\n",
    "data['time_stamp']= [d.split(\" \")[1] for d in data['applicable_date']]"
   ]
  },
  {
   "cell_type": "code",
   "execution_count": 29,
   "metadata": {},
   "outputs": [
    {
     "data": {
      "text/html": [
       "<div>\n",
       "<style scoped>\n",
       "    .dataframe tbody tr th:only-of-type {\n",
       "        vertical-align: middle;\n",
       "    }\n",
       "\n",
       "    .dataframe tbody tr th {\n",
       "        vertical-align: top;\n",
       "    }\n",
       "\n",
       "    .dataframe thead th {\n",
       "        text-align: right;\n",
       "    }\n",
       "</style>\n",
       "<table border=\"1\" class=\"dataframe\">\n",
       "  <thead>\n",
       "    <tr style=\"text-align: right;\">\n",
       "      <th></th>\n",
       "      <th>applicable_date</th>\n",
       "      <th>measurement_name</th>\n",
       "      <th>elec_prices</th>\n",
       "      <th>date</th>\n",
       "      <th>time_stamp</th>\n",
       "    </tr>\n",
       "  </thead>\n",
       "  <tbody>\n",
       "    <tr>\n",
       "      <th>0</th>\n",
       "      <td>2019-11-11 23:00:00</td>\n",
       "      <td>isem_prices</td>\n",
       "      <td>0.00</td>\n",
       "      <td>2019-11-11</td>\n",
       "      <td>23:00:00</td>\n",
       "    </tr>\n",
       "    <tr>\n",
       "      <th>1</th>\n",
       "      <td>2019-11-12 00:00:00</td>\n",
       "      <td>isem_prices</td>\n",
       "      <td>0.00</td>\n",
       "      <td>2019-11-12</td>\n",
       "      <td>00:00:00</td>\n",
       "    </tr>\n",
       "    <tr>\n",
       "      <th>2</th>\n",
       "      <td>2019-11-12 01:00:00</td>\n",
       "      <td>isem_prices</td>\n",
       "      <td>-0.38</td>\n",
       "      <td>2019-11-12</td>\n",
       "      <td>01:00:00</td>\n",
       "    </tr>\n",
       "    <tr>\n",
       "      <th>3</th>\n",
       "      <td>2019-11-12 02:00:00</td>\n",
       "      <td>isem_prices</td>\n",
       "      <td>-0.50</td>\n",
       "      <td>2019-11-12</td>\n",
       "      <td>02:00:00</td>\n",
       "    </tr>\n",
       "    <tr>\n",
       "      <th>4</th>\n",
       "      <td>2019-11-12 03:00:00</td>\n",
       "      <td>isem_prices</td>\n",
       "      <td>-1.00</td>\n",
       "      <td>2019-11-12</td>\n",
       "      <td>03:00:00</td>\n",
       "    </tr>\n",
       "  </tbody>\n",
       "</table>\n",
       "</div>"
      ],
      "text/plain": [
       "       applicable_date measurement_name  elec_prices        date time_stamp\n",
       "0  2019-11-11 23:00:00      isem_prices         0.00  2019-11-11   23:00:00\n",
       "1  2019-11-12 00:00:00      isem_prices         0.00  2019-11-12   00:00:00\n",
       "2  2019-11-12 01:00:00      isem_prices        -0.38  2019-11-12   01:00:00\n",
       "3  2019-11-12 02:00:00      isem_prices        -0.50  2019-11-12   02:00:00\n",
       "4  2019-11-12 03:00:00      isem_prices        -1.00  2019-11-12   03:00:00"
      ]
     },
     "execution_count": 29,
     "metadata": {},
     "output_type": "execute_result"
    }
   ],
   "source": [
    "data.head()"
   ]
  },
  {
   "cell_type": "code",
   "execution_count": 30,
   "metadata": {},
   "outputs": [
    {
     "name": "stdout",
     "output_type": "stream",
     "text": [
      "2019 data instances: 7477\n"
     ]
    }
   ],
   "source": [
    "ind_2019= [index for index,d in enumerate(data['date']) if d.split(\"-\")[0]=='2019']\n",
    "print(\"2019 data instances:\",len(ind_2019))"
   ]
  },
  {
   "cell_type": "code",
   "execution_count": 31,
   "metadata": {},
   "outputs": [
    {
     "data": {
      "text/plain": [
       "(7477, 5)"
      ]
     },
     "execution_count": 31,
     "metadata": {},
     "output_type": "execute_result"
    }
   ],
   "source": [
    "data= data.iloc[ind_2019]\n",
    "data.shape"
   ]
  },
  {
   "cell_type": "code",
   "execution_count": null,
   "metadata": {},
   "outputs": [],
   "source": [
    "#data['new_date']= [d.split(\" \")[0]+\" \"+d.split(\" \")[1].split(\":\")[0]+\":\"+d.split(\" \")[1].split(\":\")[1] for d in data['applicable_date']]"
   ]
  },
  {
   "cell_type": "markdown",
   "metadata": {},
   "source": [
    "### Reading external data"
   ]
  },
  {
   "cell_type": "code",
   "execution_count": 33,
   "metadata": {},
   "outputs": [],
   "source": [
    "file= 'E:\\CIT\\MSc_AI\\Research project_NIMBUS\\Data\\External_data.xlsx'\n",
    "ext_data= pd.read_excel(file, sheet_name='exogenous', dtype={'date': str})"
   ]
  },
  {
   "cell_type": "code",
   "execution_count": 34,
   "metadata": {},
   "outputs": [
    {
     "data": {
      "text/html": [
       "<div>\n",
       "<style scoped>\n",
       "    .dataframe tbody tr th:only-of-type {\n",
       "        vertical-align: middle;\n",
       "    }\n",
       "\n",
       "    .dataframe tbody tr th {\n",
       "        vertical-align: top;\n",
       "    }\n",
       "\n",
       "    .dataframe thead th {\n",
       "        text-align: right;\n",
       "    }\n",
       "</style>\n",
       "<table border=\"1\" class=\"dataframe\">\n",
       "  <thead>\n",
       "    <tr style=\"text-align: right;\">\n",
       "      <th></th>\n",
       "      <th>date</th>\n",
       "      <th>rain_d</th>\n",
       "      <th>temp_d</th>\n",
       "      <th>wdsp_d</th>\n",
       "      <th>wddir_d</th>\n",
       "      <th>rain_c</th>\n",
       "      <th>temp_c</th>\n",
       "      <th>wdsp_c</th>\n",
       "      <th>wddir_c</th>\n",
       "      <th>rain_g</th>\n",
       "      <th>temp_g</th>\n",
       "      <th>wdsp_g</th>\n",
       "      <th>wddir_g</th>\n",
       "      <th>daily_oil_price</th>\n",
       "      <th>daily_natural_gas</th>\n",
       "    </tr>\n",
       "  </thead>\n",
       "  <tbody>\n",
       "    <tr>\n",
       "      <th>0</th>\n",
       "      <td>2019-01-01 00:00:00</td>\n",
       "      <td>0.0</td>\n",
       "      <td>8.8</td>\n",
       "      <td>9</td>\n",
       "      <td>250</td>\n",
       "      <td>0.0</td>\n",
       "      <td>8.5</td>\n",
       "      <td>4</td>\n",
       "      <td>240</td>\n",
       "      <td>0.0</td>\n",
       "      <td>9.9</td>\n",
       "      <td>4</td>\n",
       "      <td>260</td>\n",
       "      <td>59.41</td>\n",
       "      <td>2.93</td>\n",
       "    </tr>\n",
       "    <tr>\n",
       "      <th>1</th>\n",
       "      <td>2019-01-01 01:00:00</td>\n",
       "      <td>0.0</td>\n",
       "      <td>8.3</td>\n",
       "      <td>9</td>\n",
       "      <td>250</td>\n",
       "      <td>0.0</td>\n",
       "      <td>8.5</td>\n",
       "      <td>3</td>\n",
       "      <td>270</td>\n",
       "      <td>0.0</td>\n",
       "      <td>9.3</td>\n",
       "      <td>4</td>\n",
       "      <td>240</td>\n",
       "      <td>59.41</td>\n",
       "      <td>2.93</td>\n",
       "    </tr>\n",
       "    <tr>\n",
       "      <th>2</th>\n",
       "      <td>2019-01-01 02:00:00</td>\n",
       "      <td>0.0</td>\n",
       "      <td>8.4</td>\n",
       "      <td>8</td>\n",
       "      <td>240</td>\n",
       "      <td>0.0</td>\n",
       "      <td>8.4</td>\n",
       "      <td>3</td>\n",
       "      <td>280</td>\n",
       "      <td>0.0</td>\n",
       "      <td>9.2</td>\n",
       "      <td>5</td>\n",
       "      <td>240</td>\n",
       "      <td>59.41</td>\n",
       "      <td>2.93</td>\n",
       "    </tr>\n",
       "    <tr>\n",
       "      <th>3</th>\n",
       "      <td>2019-01-01 03:00:00</td>\n",
       "      <td>0.0</td>\n",
       "      <td>8.6</td>\n",
       "      <td>8</td>\n",
       "      <td>250</td>\n",
       "      <td>0.0</td>\n",
       "      <td>8.5</td>\n",
       "      <td>5</td>\n",
       "      <td>260</td>\n",
       "      <td>0.0</td>\n",
       "      <td>9.1</td>\n",
       "      <td>5</td>\n",
       "      <td>250</td>\n",
       "      <td>59.41</td>\n",
       "      <td>2.93</td>\n",
       "    </tr>\n",
       "    <tr>\n",
       "      <th>4</th>\n",
       "      <td>2019-01-01 04:00:00</td>\n",
       "      <td>0.0</td>\n",
       "      <td>8.4</td>\n",
       "      <td>10</td>\n",
       "      <td>250</td>\n",
       "      <td>0.0</td>\n",
       "      <td>8.5</td>\n",
       "      <td>5</td>\n",
       "      <td>270</td>\n",
       "      <td>0.0</td>\n",
       "      <td>8.8</td>\n",
       "      <td>4</td>\n",
       "      <td>250</td>\n",
       "      <td>59.41</td>\n",
       "      <td>2.93</td>\n",
       "    </tr>\n",
       "  </tbody>\n",
       "</table>\n",
       "</div>"
      ],
      "text/plain": [
       "                  date  rain_d  temp_d  wdsp_d  wddir_d  rain_c  temp_c  \\\n",
       "0  2019-01-01 00:00:00     0.0     8.8       9      250     0.0     8.5   \n",
       "1  2019-01-01 01:00:00     0.0     8.3       9      250     0.0     8.5   \n",
       "2  2019-01-01 02:00:00     0.0     8.4       8      240     0.0     8.4   \n",
       "3  2019-01-01 03:00:00     0.0     8.6       8      250     0.0     8.5   \n",
       "4  2019-01-01 04:00:00     0.0     8.4      10      250     0.0     8.5   \n",
       "\n",
       "   wdsp_c  wddir_c  rain_g  temp_g  wdsp_g  wddir_g  daily_oil_price  \\\n",
       "0       4      240     0.0     9.9       4      260            59.41   \n",
       "1       3      270     0.0     9.3       4      240            59.41   \n",
       "2       3      280     0.0     9.2       5      240            59.41   \n",
       "3       5      260     0.0     9.1       5      250            59.41   \n",
       "4       5      270     0.0     8.8       4      250            59.41   \n",
       "\n",
       "   daily_natural_gas  \n",
       "0               2.93  \n",
       "1               2.93  \n",
       "2               2.93  \n",
       "3               2.93  \n",
       "4               2.93  "
      ]
     },
     "execution_count": 34,
     "metadata": {},
     "output_type": "execute_result"
    }
   ],
   "source": [
    "ext_data.head()"
   ]
  },
  {
   "cell_type": "code",
   "execution_count": 35,
   "metadata": {},
   "outputs": [
    {
     "data": {
      "text/plain": [
       "(8760, 15)"
      ]
     },
     "execution_count": 35,
     "metadata": {},
     "output_type": "execute_result"
    }
   ],
   "source": [
    "ext_data.shape"
   ]
  },
  {
   "cell_type": "markdown",
   "metadata": {},
   "source": [
    "### Merging external data and ISEM price data"
   ]
  },
  {
   "cell_type": "code",
   "execution_count": 36,
   "metadata": {},
   "outputs": [],
   "source": [
    "data = data.join(ext_data.set_index('date'), on='applicable_date')"
   ]
  },
  {
   "cell_type": "code",
   "execution_count": 37,
   "metadata": {},
   "outputs": [
    {
     "data": {
      "text/html": [
       "<div>\n",
       "<style scoped>\n",
       "    .dataframe tbody tr th:only-of-type {\n",
       "        vertical-align: middle;\n",
       "    }\n",
       "\n",
       "    .dataframe tbody tr th {\n",
       "        vertical-align: top;\n",
       "    }\n",
       "\n",
       "    .dataframe thead th {\n",
       "        text-align: right;\n",
       "    }\n",
       "</style>\n",
       "<table border=\"1\" class=\"dataframe\">\n",
       "  <thead>\n",
       "    <tr style=\"text-align: right;\">\n",
       "      <th></th>\n",
       "      <th>applicable_date</th>\n",
       "      <th>measurement_name</th>\n",
       "      <th>elec_prices</th>\n",
       "      <th>date</th>\n",
       "      <th>time_stamp</th>\n",
       "      <th>rain_d</th>\n",
       "      <th>temp_d</th>\n",
       "      <th>wdsp_d</th>\n",
       "      <th>wddir_d</th>\n",
       "      <th>rain_c</th>\n",
       "      <th>temp_c</th>\n",
       "      <th>wdsp_c</th>\n",
       "      <th>wddir_c</th>\n",
       "      <th>rain_g</th>\n",
       "      <th>temp_g</th>\n",
       "      <th>wdsp_g</th>\n",
       "      <th>wddir_g</th>\n",
       "      <th>daily_oil_price</th>\n",
       "      <th>daily_natural_gas</th>\n",
       "    </tr>\n",
       "  </thead>\n",
       "  <tbody>\n",
       "    <tr>\n",
       "      <th>0</th>\n",
       "      <td>2019-11-11 23:00:00</td>\n",
       "      <td>isem_prices</td>\n",
       "      <td>0.00</td>\n",
       "      <td>2019-11-11</td>\n",
       "      <td>23:00:00</td>\n",
       "      <td>0.0</td>\n",
       "      <td>3.1</td>\n",
       "      <td>15</td>\n",
       "      <td>260</td>\n",
       "      <td>0.1</td>\n",
       "      <td>3.9</td>\n",
       "      <td>11</td>\n",
       "      <td>260</td>\n",
       "      <td>0.0</td>\n",
       "      <td>4.3</td>\n",
       "      <td>9</td>\n",
       "      <td>290</td>\n",
       "      <td>62.58</td>\n",
       "      <td>2.50</td>\n",
       "    </tr>\n",
       "    <tr>\n",
       "      <th>1</th>\n",
       "      <td>2019-11-12 00:00:00</td>\n",
       "      <td>isem_prices</td>\n",
       "      <td>0.00</td>\n",
       "      <td>2019-11-12</td>\n",
       "      <td>00:00:00</td>\n",
       "      <td>0.0</td>\n",
       "      <td>2.8</td>\n",
       "      <td>15</td>\n",
       "      <td>260</td>\n",
       "      <td>0.1</td>\n",
       "      <td>3.8</td>\n",
       "      <td>12</td>\n",
       "      <td>270</td>\n",
       "      <td>0.1</td>\n",
       "      <td>3.9</td>\n",
       "      <td>9</td>\n",
       "      <td>290</td>\n",
       "      <td>62.19</td>\n",
       "      <td>2.72</td>\n",
       "    </tr>\n",
       "    <tr>\n",
       "      <th>2</th>\n",
       "      <td>2019-11-12 01:00:00</td>\n",
       "      <td>isem_prices</td>\n",
       "      <td>-0.38</td>\n",
       "      <td>2019-11-12</td>\n",
       "      <td>01:00:00</td>\n",
       "      <td>0.0</td>\n",
       "      <td>3.0</td>\n",
       "      <td>9</td>\n",
       "      <td>250</td>\n",
       "      <td>0.0</td>\n",
       "      <td>3.8</td>\n",
       "      <td>15</td>\n",
       "      <td>280</td>\n",
       "      <td>0.0</td>\n",
       "      <td>3.8</td>\n",
       "      <td>7</td>\n",
       "      <td>290</td>\n",
       "      <td>62.19</td>\n",
       "      <td>2.72</td>\n",
       "    </tr>\n",
       "    <tr>\n",
       "      <th>3</th>\n",
       "      <td>2019-11-12 02:00:00</td>\n",
       "      <td>isem_prices</td>\n",
       "      <td>-0.50</td>\n",
       "      <td>2019-11-12</td>\n",
       "      <td>02:00:00</td>\n",
       "      <td>0.0</td>\n",
       "      <td>2.3</td>\n",
       "      <td>10</td>\n",
       "      <td>250</td>\n",
       "      <td>0.1</td>\n",
       "      <td>3.5</td>\n",
       "      <td>11</td>\n",
       "      <td>280</td>\n",
       "      <td>0.0</td>\n",
       "      <td>3.6</td>\n",
       "      <td>6</td>\n",
       "      <td>290</td>\n",
       "      <td>62.19</td>\n",
       "      <td>2.72</td>\n",
       "    </tr>\n",
       "    <tr>\n",
       "      <th>4</th>\n",
       "      <td>2019-11-12 03:00:00</td>\n",
       "      <td>isem_prices</td>\n",
       "      <td>-1.00</td>\n",
       "      <td>2019-11-12</td>\n",
       "      <td>03:00:00</td>\n",
       "      <td>0.0</td>\n",
       "      <td>2.6</td>\n",
       "      <td>12</td>\n",
       "      <td>260</td>\n",
       "      <td>0.0</td>\n",
       "      <td>3.6</td>\n",
       "      <td>9</td>\n",
       "      <td>280</td>\n",
       "      <td>0.0</td>\n",
       "      <td>3.5</td>\n",
       "      <td>7</td>\n",
       "      <td>280</td>\n",
       "      <td>62.19</td>\n",
       "      <td>2.72</td>\n",
       "    </tr>\n",
       "  </tbody>\n",
       "</table>\n",
       "</div>"
      ],
      "text/plain": [
       "       applicable_date measurement_name  elec_prices        date time_stamp  \\\n",
       "0  2019-11-11 23:00:00      isem_prices         0.00  2019-11-11   23:00:00   \n",
       "1  2019-11-12 00:00:00      isem_prices         0.00  2019-11-12   00:00:00   \n",
       "2  2019-11-12 01:00:00      isem_prices        -0.38  2019-11-12   01:00:00   \n",
       "3  2019-11-12 02:00:00      isem_prices        -0.50  2019-11-12   02:00:00   \n",
       "4  2019-11-12 03:00:00      isem_prices        -1.00  2019-11-12   03:00:00   \n",
       "\n",
       "   rain_d  temp_d  wdsp_d  wddir_d  rain_c  temp_c  wdsp_c  wddir_c  rain_g  \\\n",
       "0     0.0     3.1      15      260     0.1     3.9      11      260     0.0   \n",
       "1     0.0     2.8      15      260     0.1     3.8      12      270     0.1   \n",
       "2     0.0     3.0       9      250     0.0     3.8      15      280     0.0   \n",
       "3     0.0     2.3      10      250     0.1     3.5      11      280     0.0   \n",
       "4     0.0     2.6      12      260     0.0     3.6       9      280     0.0   \n",
       "\n",
       "   temp_g  wdsp_g  wddir_g  daily_oil_price  daily_natural_gas  \n",
       "0     4.3       9      290            62.58               2.50  \n",
       "1     3.9       9      290            62.19               2.72  \n",
       "2     3.8       7      290            62.19               2.72  \n",
       "3     3.6       6      290            62.19               2.72  \n",
       "4     3.5       7      280            62.19               2.72  "
      ]
     },
     "execution_count": 37,
     "metadata": {},
     "output_type": "execute_result"
    }
   ],
   "source": [
    "data.head()"
   ]
  },
  {
   "cell_type": "code",
   "execution_count": 38,
   "metadata": {},
   "outputs": [
    {
     "data": {
      "text/plain": [
       "(7477, 19)"
      ]
     },
     "execution_count": 38,
     "metadata": {},
     "output_type": "execute_result"
    }
   ],
   "source": [
    "data.shape"
   ]
  },
  {
   "cell_type": "code",
   "execution_count": 39,
   "metadata": {},
   "outputs": [
    {
     "data": {
      "text/plain": [
       "False"
      ]
     },
     "execution_count": 39,
     "metadata": {},
     "output_type": "execute_result"
    }
   ],
   "source": [
    "data.isnull().values.any()"
   ]
  },
  {
   "cell_type": "markdown",
   "metadata": {},
   "source": [
    "### Conversions"
   ]
  },
  {
   "cell_type": "code",
   "execution_count": 40,
   "metadata": {},
   "outputs": [],
   "source": [
    "#converting natural gas spot prices to euros\n",
    "data['daily_natural_gas'] = round(data['daily_natural_gas']*0.893,2) #average conversion rate from $ to euro= 0.893\n",
    "#converting wind speed from knots to m/s\n",
    "data['wdsp_d'] = data['wdsp_d']*0.514\n",
    "data['wdsp_c'] = data['wdsp_c']*0.514\n",
    "data['wdsp_g'] = data['wdsp_g']*0.514"
   ]
  },
  {
   "cell_type": "code",
   "execution_count": 41,
   "metadata": {},
   "outputs": [
    {
     "data": {
      "text/html": [
       "<div>\n",
       "<style scoped>\n",
       "    .dataframe tbody tr th:only-of-type {\n",
       "        vertical-align: middle;\n",
       "    }\n",
       "\n",
       "    .dataframe tbody tr th {\n",
       "        vertical-align: top;\n",
       "    }\n",
       "\n",
       "    .dataframe thead th {\n",
       "        text-align: right;\n",
       "    }\n",
       "</style>\n",
       "<table border=\"1\" class=\"dataframe\">\n",
       "  <thead>\n",
       "    <tr style=\"text-align: right;\">\n",
       "      <th></th>\n",
       "      <th>applicable_date</th>\n",
       "      <th>measurement_name</th>\n",
       "      <th>elec_prices</th>\n",
       "      <th>date</th>\n",
       "      <th>time_stamp</th>\n",
       "      <th>rain_d</th>\n",
       "      <th>temp_d</th>\n",
       "      <th>wdsp_d</th>\n",
       "      <th>wddir_d</th>\n",
       "      <th>rain_c</th>\n",
       "      <th>temp_c</th>\n",
       "      <th>wdsp_c</th>\n",
       "      <th>wddir_c</th>\n",
       "      <th>rain_g</th>\n",
       "      <th>temp_g</th>\n",
       "      <th>wdsp_g</th>\n",
       "      <th>wddir_g</th>\n",
       "      <th>daily_oil_price</th>\n",
       "      <th>daily_natural_gas</th>\n",
       "    </tr>\n",
       "  </thead>\n",
       "  <tbody>\n",
       "    <tr>\n",
       "      <th>0</th>\n",
       "      <td>2019-11-11 23:00:00</td>\n",
       "      <td>isem_prices</td>\n",
       "      <td>0.00</td>\n",
       "      <td>2019-11-11</td>\n",
       "      <td>23:00:00</td>\n",
       "      <td>0.0</td>\n",
       "      <td>3.1</td>\n",
       "      <td>7.710</td>\n",
       "      <td>260</td>\n",
       "      <td>0.1</td>\n",
       "      <td>3.9</td>\n",
       "      <td>5.654</td>\n",
       "      <td>260</td>\n",
       "      <td>0.0</td>\n",
       "      <td>4.3</td>\n",
       "      <td>4.626</td>\n",
       "      <td>290</td>\n",
       "      <td>62.58</td>\n",
       "      <td>2.23</td>\n",
       "    </tr>\n",
       "    <tr>\n",
       "      <th>1</th>\n",
       "      <td>2019-11-12 00:00:00</td>\n",
       "      <td>isem_prices</td>\n",
       "      <td>0.00</td>\n",
       "      <td>2019-11-12</td>\n",
       "      <td>00:00:00</td>\n",
       "      <td>0.0</td>\n",
       "      <td>2.8</td>\n",
       "      <td>7.710</td>\n",
       "      <td>260</td>\n",
       "      <td>0.1</td>\n",
       "      <td>3.8</td>\n",
       "      <td>6.168</td>\n",
       "      <td>270</td>\n",
       "      <td>0.1</td>\n",
       "      <td>3.9</td>\n",
       "      <td>4.626</td>\n",
       "      <td>290</td>\n",
       "      <td>62.19</td>\n",
       "      <td>2.43</td>\n",
       "    </tr>\n",
       "    <tr>\n",
       "      <th>2</th>\n",
       "      <td>2019-11-12 01:00:00</td>\n",
       "      <td>isem_prices</td>\n",
       "      <td>-0.38</td>\n",
       "      <td>2019-11-12</td>\n",
       "      <td>01:00:00</td>\n",
       "      <td>0.0</td>\n",
       "      <td>3.0</td>\n",
       "      <td>4.626</td>\n",
       "      <td>250</td>\n",
       "      <td>0.0</td>\n",
       "      <td>3.8</td>\n",
       "      <td>7.710</td>\n",
       "      <td>280</td>\n",
       "      <td>0.0</td>\n",
       "      <td>3.8</td>\n",
       "      <td>3.598</td>\n",
       "      <td>290</td>\n",
       "      <td>62.19</td>\n",
       "      <td>2.43</td>\n",
       "    </tr>\n",
       "    <tr>\n",
       "      <th>3</th>\n",
       "      <td>2019-11-12 02:00:00</td>\n",
       "      <td>isem_prices</td>\n",
       "      <td>-0.50</td>\n",
       "      <td>2019-11-12</td>\n",
       "      <td>02:00:00</td>\n",
       "      <td>0.0</td>\n",
       "      <td>2.3</td>\n",
       "      <td>5.140</td>\n",
       "      <td>250</td>\n",
       "      <td>0.1</td>\n",
       "      <td>3.5</td>\n",
       "      <td>5.654</td>\n",
       "      <td>280</td>\n",
       "      <td>0.0</td>\n",
       "      <td>3.6</td>\n",
       "      <td>3.084</td>\n",
       "      <td>290</td>\n",
       "      <td>62.19</td>\n",
       "      <td>2.43</td>\n",
       "    </tr>\n",
       "    <tr>\n",
       "      <th>4</th>\n",
       "      <td>2019-11-12 03:00:00</td>\n",
       "      <td>isem_prices</td>\n",
       "      <td>-1.00</td>\n",
       "      <td>2019-11-12</td>\n",
       "      <td>03:00:00</td>\n",
       "      <td>0.0</td>\n",
       "      <td>2.6</td>\n",
       "      <td>6.168</td>\n",
       "      <td>260</td>\n",
       "      <td>0.0</td>\n",
       "      <td>3.6</td>\n",
       "      <td>4.626</td>\n",
       "      <td>280</td>\n",
       "      <td>0.0</td>\n",
       "      <td>3.5</td>\n",
       "      <td>3.598</td>\n",
       "      <td>280</td>\n",
       "      <td>62.19</td>\n",
       "      <td>2.43</td>\n",
       "    </tr>\n",
       "  </tbody>\n",
       "</table>\n",
       "</div>"
      ],
      "text/plain": [
       "       applicable_date measurement_name  elec_prices        date time_stamp  \\\n",
       "0  2019-11-11 23:00:00      isem_prices         0.00  2019-11-11   23:00:00   \n",
       "1  2019-11-12 00:00:00      isem_prices         0.00  2019-11-12   00:00:00   \n",
       "2  2019-11-12 01:00:00      isem_prices        -0.38  2019-11-12   01:00:00   \n",
       "3  2019-11-12 02:00:00      isem_prices        -0.50  2019-11-12   02:00:00   \n",
       "4  2019-11-12 03:00:00      isem_prices        -1.00  2019-11-12   03:00:00   \n",
       "\n",
       "   rain_d  temp_d  wdsp_d  wddir_d  rain_c  temp_c  wdsp_c  wddir_c  rain_g  \\\n",
       "0     0.0     3.1   7.710      260     0.1     3.9   5.654      260     0.0   \n",
       "1     0.0     2.8   7.710      260     0.1     3.8   6.168      270     0.1   \n",
       "2     0.0     3.0   4.626      250     0.0     3.8   7.710      280     0.0   \n",
       "3     0.0     2.3   5.140      250     0.1     3.5   5.654      280     0.0   \n",
       "4     0.0     2.6   6.168      260     0.0     3.6   4.626      280     0.0   \n",
       "\n",
       "   temp_g  wdsp_g  wddir_g  daily_oil_price  daily_natural_gas  \n",
       "0     4.3   4.626      290            62.58               2.23  \n",
       "1     3.9   4.626      290            62.19               2.43  \n",
       "2     3.8   3.598      290            62.19               2.43  \n",
       "3     3.6   3.084      290            62.19               2.43  \n",
       "4     3.5   3.598      280            62.19               2.43  "
      ]
     },
     "execution_count": 41,
     "metadata": {},
     "output_type": "execute_result"
    }
   ],
   "source": [
    "data.head(5)"
   ]
  },
  {
   "cell_type": "markdown",
   "metadata": {},
   "source": [
    "## Exploratory data analysis"
   ]
  },
  {
   "cell_type": "code",
   "execution_count": 42,
   "metadata": {},
   "outputs": [],
   "source": [
    "def plot_pdf(data,feature):\n",
    "    import warnings \n",
    "    warnings.filterwarnings(\"ignore\")\n",
    "\n",
    "    sns.FacetGrid(data,size=5) \\\n",
    "       .map(sns.distplot,feature) \\\n",
    "       .add_legend()\n",
    "    plt.ylabel('PDF')\n",
    "    plt.title(\"Probability distribution of \"+feature)\n",
    "    plt.grid()\n",
    "    plt.show()"
   ]
  },
  {
   "cell_type": "code",
   "execution_count": 43,
   "metadata": {},
   "outputs": [],
   "source": [
    "def scatter_plot(x,y,col_name):\n",
    "    plt.figure(figsize=(15,6))\n",
    "    plt.plot(x, y, 'o', color='blue')\n",
    "    plt.title(\"Scatter plot of \"+col_name)\n",
    "    plt.xlabel(\"instances\")\n",
    "    plt.ylabel(col_name)"
   ]
  },
  {
   "cell_type": "markdown",
   "metadata": {},
   "source": [
    "### Univariate Analysis of the target variable (price) "
   ]
  },
  {
   "cell_type": "code",
   "execution_count": 44,
   "metadata": {},
   "outputs": [
    {
     "data": {
      "text/plain": [
       "count    7477.000000\n",
       "mean       50.687397\n",
       "std        24.000456\n",
       "min       -11.860000\n",
       "25%        38.230000\n",
       "50%        47.669000\n",
       "75%        59.540000\n",
       "max       365.040000\n",
       "Name: elec_prices, dtype: float64"
      ]
     },
     "execution_count": 44,
     "metadata": {},
     "output_type": "execute_result"
    }
   ],
   "source": [
    "# Basic stats:\n",
    "data.elec_prices.describe()"
   ]
  },
  {
   "cell_type": "code",
   "execution_count": 45,
   "metadata": {},
   "outputs": [
    {
     "data": {
      "image/png": "[encoded data removed]",
      "text/plain": [
       "<Figure size 368x360 with 1 Axes>"
      ]
     },
     "metadata": {
      "needs_background": "light"
     },
     "output_type": "display_data"
    }
   ],
   "source": [
    "plot_pdf(data,'elec_prices')"
   ]
  },
  {
   "cell_type": "code",
   "execution_count": 46,
   "metadata": {},
   "outputs": [
    {
     "data": {
      "image/png": "[encoded data removed]",
      "text/plain": [
       "<Figure size 1080x432 with 1 Axes>"
      ]
     },
     "metadata": {
      "needs_background": "light"
     },
     "output_type": "display_data"
    }
   ],
   "source": [
    "scatter_plot(range(data.shape[0]),data[\"elec_prices\"].values,'elec_prices')"
   ]
  },
  {
   "cell_type": "code",
   "execution_count": 47,
   "metadata": {},
   "outputs": [
    {
     "data": {
      "text/plain": [
       "Text(0, 0.5, 'elec_prices')"
      ]
     },
     "execution_count": 47,
     "metadata": {},
     "output_type": "execute_result"
    },
    {
     "data": {
      "image/png": "[encoded data removed]",
      "text/plain": [
       "<Figure size 1296x576 with 1 Axes>"
      ]
     },
     "metadata": {
      "needs_background": "light"
     },
     "output_type": "display_data"
    }
   ],
   "source": [
    "plt.figure(figsize=(18,8))\n",
    "plt.plot(range(data.shape[0]), data[\"elec_prices\"].values,color='red')\n",
    "plt.title(\"Line plot of elec_prices\")\n",
    "plt.xlabel(\"instances\")\n",
    "plt.ylabel(\"elec_prices\")"
   ]
  },
  {
   "cell_type": "markdown",
   "metadata": {},
   "source": [
    "### Outlier removal"
   ]
  },
  {
   "cell_type": "code",
   "execution_count": 48,
   "metadata": {},
   "outputs": [
    {
     "data": {
      "text/plain": [
       "(7477, 19)"
      ]
     },
     "execution_count": 48,
     "metadata": {},
     "output_type": "execute_result"
    }
   ],
   "source": [
    "data.shape"
   ]
  },
  {
   "cell_type": "code",
   "execution_count": 49,
   "metadata": {},
   "outputs": [
    {
     "name": "stdout",
     "output_type": "stream",
     "text": [
      "Lower limit:  -45.30800875817871\n",
      "Upper limit:  146.68280292696298\n"
     ]
    }
   ],
   "source": [
    "from numpy import std\n",
    "from numpy import mean\n",
    "y= data.elec_prices.values\n",
    "sigma= std(y)\n",
    "data_mean= mean(y)\n",
    "cut_off = 4*sigma\n",
    "lower,upper= data_mean-4*sigma, data_mean+4*sigma\n",
    "print(\"Lower limit: \",lower)\n",
    "print(\"Upper limit: \", upper)\n",
    "data= data[(data['elec_prices'] > lower) & (data['elec_prices'] < upper)]"
   ]
  },
  {
   "cell_type": "code",
   "execution_count": 50,
   "metadata": {},
   "outputs": [
    {
     "data": {
      "text/plain": [
       "(7416, 19)"
      ]
     },
     "execution_count": 50,
     "metadata": {},
     "output_type": "execute_result"
    }
   ],
   "source": [
    "data.shape"
   ]
  },
  {
   "cell_type": "code",
   "execution_count": 51,
   "metadata": {},
   "outputs": [
    {
     "name": "stdout",
     "output_type": "stream",
     "text": [
      "Number of outliers removed:  61\n",
      "Percentage :  0.82\n"
     ]
    }
   ],
   "source": [
    "print(\"Number of outliers removed: \",len(y)-data.shape[0])\n",
    "print(\"Percentage : \", round((len(y)-data.shape[0])/len(y)*100,2))"
   ]
  },
  {
   "cell_type": "code",
   "execution_count": 52,
   "metadata": {},
   "outputs": [
    {
     "data": {
      "image/png": "[encoded data removed]",
      "text/plain": [
       "<Figure size 1080x432 with 1 Axes>"
      ]
     },
     "metadata": {
      "needs_background": "light"
     },
     "output_type": "display_data"
    }
   ],
   "source": [
    "scatter_plot(range(data.shape[0]),data[\"elec_prices\"].values,'elec_prices')"
   ]
  },
  {
   "cell_type": "code",
   "execution_count": 53,
   "metadata": {},
   "outputs": [
    {
     "data": {
      "image/png": "[encoded data removed]",
      "text/plain": [
       "<Figure size 368x360 with 1 Axes>"
      ]
     },
     "metadata": {
      "needs_background": "light"
     },
     "output_type": "display_data"
    }
   ],
   "source": [
    "plot_pdf(data,'elec_prices')"
   ]
  },
  {
   "cell_type": "markdown",
   "metadata": {},
   "source": [
    "### Feature correlation"
   ]
  },
  {
   "cell_type": "code",
   "execution_count": 54,
   "metadata": {},
   "outputs": [],
   "source": [
    "def calc_PCC(x,y,feature):\n",
    "    '''Function that takes 2 continuous variables and returns teh PCC value'''\n",
    "    from scipy.stats import pearsonr\n",
    "    corr, _ = pearsonr(x, y)\n",
    "    print('Pearsons correlation for '+feature+ ' with electricity price: %.3f' % corr)"
   ]
  },
  {
   "cell_type": "code",
   "execution_count": 59,
   "metadata": {},
   "outputs": [
    {
     "name": "stdout",
     "output_type": "stream",
     "text": [
      "Pearsons correlation for rain_d with electricity price: -0.020\n",
      "Pearsons correlation for temp_d with electricity price: -0.150\n",
      "Pearsons correlation for wdsp_d with electricity price: -0.252\n",
      "Pearsons correlation for wddir_d with electricity price: -0.013\n",
      "Pearsons correlation for rain_c with electricity price: -0.054\n",
      "Pearsons correlation for temp_c with electricity price: -0.127\n",
      "Pearsons correlation for wdsp_c with electricity price: -0.297\n",
      "Pearsons correlation for wddir_c with electricity price: -0.024\n",
      "Pearsons correlation for rain_g with electricity price: -0.102\n",
      "Pearsons correlation for temp_g with electricity price: -0.115\n",
      "Pearsons correlation for wdsp_g with electricity price: -0.328\n",
      "Pearsons correlation for wddir_g with electricity price: -0.043\n",
      "Pearsons correlation for daily_oil_price with electricity price: -0.058\n",
      "Pearsons correlation for daily_natural_gas with electricity price: 0.266\n"
     ]
    }
   ],
   "source": [
    "cols = data.columns.to_list()\n",
    "x= data.elec_prices.values\n",
    "for col in range(5,len(cols)):\n",
    "    y = data[cols[col]].values\n",
    "    calc_PCC(x,y,cols[col])"
   ]
  },
  {
   "cell_type": "markdown",
   "metadata": {},
   "source": [
    "### Feature engineering"
   ]
  },
  {
   "cell_type": "code",
   "execution_count": 60,
   "metadata": {},
   "outputs": [
    {
     "data": {
      "text/plain": [
       "array(['isem_prices'], dtype=object)"
      ]
     },
     "execution_count": 60,
     "metadata": {},
     "output_type": "execute_result"
    }
   ],
   "source": [
    "data.measurement_name.unique()"
   ]
  },
  {
   "cell_type": "code",
   "execution_count": 61,
   "metadata": {},
   "outputs": [
    {
     "data": {
      "text/html": [
       "<div>\n",
       "<style scoped>\n",
       "    .dataframe tbody tr th:only-of-type {\n",
       "        vertical-align: middle;\n",
       "    }\n",
       "\n",
       "    .dataframe tbody tr th {\n",
       "        vertical-align: top;\n",
       "    }\n",
       "\n",
       "    .dataframe thead th {\n",
       "        text-align: right;\n",
       "    }\n",
       "</style>\n",
       "<table border=\"1\" class=\"dataframe\">\n",
       "  <thead>\n",
       "    <tr style=\"text-align: right;\">\n",
       "      <th></th>\n",
       "      <th>applicable_date</th>\n",
       "      <th>measurement_name</th>\n",
       "      <th>elec_prices</th>\n",
       "      <th>date</th>\n",
       "      <th>time_stamp</th>\n",
       "      <th>rain_d</th>\n",
       "      <th>temp_d</th>\n",
       "      <th>wdsp_d</th>\n",
       "      <th>wddir_d</th>\n",
       "      <th>rain_c</th>\n",
       "      <th>temp_c</th>\n",
       "      <th>wdsp_c</th>\n",
       "      <th>wddir_c</th>\n",
       "      <th>rain_g</th>\n",
       "      <th>temp_g</th>\n",
       "      <th>wdsp_g</th>\n",
       "      <th>wddir_g</th>\n",
       "      <th>daily_oil_price</th>\n",
       "      <th>daily_natural_gas</th>\n",
       "    </tr>\n",
       "  </thead>\n",
       "  <tbody>\n",
       "    <tr>\n",
       "      <th>0</th>\n",
       "      <td>2019-11-11 23:00:00</td>\n",
       "      <td>isem_prices</td>\n",
       "      <td>0.00</td>\n",
       "      <td>2019-11-11</td>\n",
       "      <td>23:00:00</td>\n",
       "      <td>0.0</td>\n",
       "      <td>3.1</td>\n",
       "      <td>7.710</td>\n",
       "      <td>260</td>\n",
       "      <td>0.1</td>\n",
       "      <td>3.9</td>\n",
       "      <td>5.654</td>\n",
       "      <td>260</td>\n",
       "      <td>0.0</td>\n",
       "      <td>4.3</td>\n",
       "      <td>4.626</td>\n",
       "      <td>290</td>\n",
       "      <td>62.58</td>\n",
       "      <td>2.23</td>\n",
       "    </tr>\n",
       "    <tr>\n",
       "      <th>1</th>\n",
       "      <td>2019-11-12 00:00:00</td>\n",
       "      <td>isem_prices</td>\n",
       "      <td>0.00</td>\n",
       "      <td>2019-11-12</td>\n",
       "      <td>00:00:00</td>\n",
       "      <td>0.0</td>\n",
       "      <td>2.8</td>\n",
       "      <td>7.710</td>\n",
       "      <td>260</td>\n",
       "      <td>0.1</td>\n",
       "      <td>3.8</td>\n",
       "      <td>6.168</td>\n",
       "      <td>270</td>\n",
       "      <td>0.1</td>\n",
       "      <td>3.9</td>\n",
       "      <td>4.626</td>\n",
       "      <td>290</td>\n",
       "      <td>62.19</td>\n",
       "      <td>2.43</td>\n",
       "    </tr>\n",
       "    <tr>\n",
       "      <th>2</th>\n",
       "      <td>2019-11-12 01:00:00</td>\n",
       "      <td>isem_prices</td>\n",
       "      <td>-0.38</td>\n",
       "      <td>2019-11-12</td>\n",
       "      <td>01:00:00</td>\n",
       "      <td>0.0</td>\n",
       "      <td>3.0</td>\n",
       "      <td>4.626</td>\n",
       "      <td>250</td>\n",
       "      <td>0.0</td>\n",
       "      <td>3.8</td>\n",
       "      <td>7.710</td>\n",
       "      <td>280</td>\n",
       "      <td>0.0</td>\n",
       "      <td>3.8</td>\n",
       "      <td>3.598</td>\n",
       "      <td>290</td>\n",
       "      <td>62.19</td>\n",
       "      <td>2.43</td>\n",
       "    </tr>\n",
       "    <tr>\n",
       "      <th>3</th>\n",
       "      <td>2019-11-12 02:00:00</td>\n",
       "      <td>isem_prices</td>\n",
       "      <td>-0.50</td>\n",
       "      <td>2019-11-12</td>\n",
       "      <td>02:00:00</td>\n",
       "      <td>0.0</td>\n",
       "      <td>2.3</td>\n",
       "      <td>5.140</td>\n",
       "      <td>250</td>\n",
       "      <td>0.1</td>\n",
       "      <td>3.5</td>\n",
       "      <td>5.654</td>\n",
       "      <td>280</td>\n",
       "      <td>0.0</td>\n",
       "      <td>3.6</td>\n",
       "      <td>3.084</td>\n",
       "      <td>290</td>\n",
       "      <td>62.19</td>\n",
       "      <td>2.43</td>\n",
       "    </tr>\n",
       "    <tr>\n",
       "      <th>4</th>\n",
       "      <td>2019-11-12 03:00:00</td>\n",
       "      <td>isem_prices</td>\n",
       "      <td>-1.00</td>\n",
       "      <td>2019-11-12</td>\n",
       "      <td>03:00:00</td>\n",
       "      <td>0.0</td>\n",
       "      <td>2.6</td>\n",
       "      <td>6.168</td>\n",
       "      <td>260</td>\n",
       "      <td>0.0</td>\n",
       "      <td>3.6</td>\n",
       "      <td>4.626</td>\n",
       "      <td>280</td>\n",
       "      <td>0.0</td>\n",
       "      <td>3.5</td>\n",
       "      <td>3.598</td>\n",
       "      <td>280</td>\n",
       "      <td>62.19</td>\n",
       "      <td>2.43</td>\n",
       "    </tr>\n",
       "  </tbody>\n",
       "</table>\n",
       "</div>"
      ],
      "text/plain": [
       "       applicable_date measurement_name  elec_prices        date time_stamp  \\\n",
       "0  2019-11-11 23:00:00      isem_prices         0.00  2019-11-11   23:00:00   \n",
       "1  2019-11-12 00:00:00      isem_prices         0.00  2019-11-12   00:00:00   \n",
       "2  2019-11-12 01:00:00      isem_prices        -0.38  2019-11-12   01:00:00   \n",
       "3  2019-11-12 02:00:00      isem_prices        -0.50  2019-11-12   02:00:00   \n",
       "4  2019-11-12 03:00:00      isem_prices        -1.00  2019-11-12   03:00:00   \n",
       "\n",
       "   rain_d  temp_d  wdsp_d  wddir_d  rain_c  temp_c  wdsp_c  wddir_c  rain_g  \\\n",
       "0     0.0     3.1   7.710      260     0.1     3.9   5.654      260     0.0   \n",
       "1     0.0     2.8   7.710      260     0.1     3.8   6.168      270     0.1   \n",
       "2     0.0     3.0   4.626      250     0.0     3.8   7.710      280     0.0   \n",
       "3     0.0     2.3   5.140      250     0.1     3.5   5.654      280     0.0   \n",
       "4     0.0     2.6   6.168      260     0.0     3.6   4.626      280     0.0   \n",
       "\n",
       "   temp_g  wdsp_g  wddir_g  daily_oil_price  daily_natural_gas  \n",
       "0     4.3   4.626      290            62.58               2.23  \n",
       "1     3.9   4.626      290            62.19               2.43  \n",
       "2     3.8   3.598      290            62.19               2.43  \n",
       "3     3.6   3.084      290            62.19               2.43  \n",
       "4     3.5   3.598      280            62.19               2.43  "
      ]
     },
     "execution_count": 61,
     "metadata": {},
     "output_type": "execute_result"
    }
   ],
   "source": [
    "data.head()"
   ]
  },
  {
   "cell_type": "markdown",
   "metadata": {},
   "source": [
    "#### Rain"
   ]
  },
  {
   "cell_type": "code",
   "execution_count": 62,
   "metadata": {},
   "outputs": [
    {
     "name": "stdout",
     "output_type": "stream",
     "text": [
      "Pearsons correlation for rain_sum with electricity price: -0.090\n",
      "Pearsons correlation for rain_sq with electricity price: -0.036\n",
      "Pearsons correlation for rain_sum_log with electricity price: -0.137\n",
      "Pearsons correlation for rain_sum_sqrt with electricity price: -0.127\n"
     ]
    }
   ],
   "source": [
    "x= data.elec_prices.values\n",
    "rain_sum= (data['rain_d']+data['rain_c']+data['rain_g']).values\n",
    "rain_sq= (data['rain_d']*data['rain_d']+data['rain_c']*data['rain_c']+data['rain_g']*data['rain_g']).values\n",
    "rain_sum_log= np.log(rain_sum+ 0.00001)\n",
    "rain_sum_sqrt= np.sqrt(rain_sum)\n",
    "\n",
    "calc_PCC(x,rain_sum,'rain_sum')\n",
    "calc_PCC(x,rain_sq,'rain_sq')\n",
    "calc_PCC(x,rain_sum_log,'rain_sum_log')\n",
    "calc_PCC(x,rain_sum_sqrt,'rain_sum_sqrt')"
   ]
  },
  {
   "cell_type": "markdown",
   "metadata": {},
   "source": [
    "#### Wind direction"
   ]
  },
  {
   "cell_type": "code",
   "execution_count": 63,
   "metadata": {},
   "outputs": [
    {
     "name": "stdout",
     "output_type": "stream",
     "text": [
      "Pearsons correlation for wind_sum with electricity price: -0.033\n",
      "Pearsons correlation for wind_sqr with electricity price: -0.017\n",
      "Pearsons correlation for wind_sum_log with electricity price: -0.031\n",
      "Pearsons correlation for wind_sum_sqrt with electricity price: -0.033\n"
     ]
    }
   ],
   "source": [
    "x= data.elec_prices.values\n",
    "wind_sum= (data['wddir_d']+data['wddir_c']+data['wddir_g']).values\n",
    "wind_sqr= (data['wddir_d']*data['wddir_d']+data['wddir_c']*data['wddir_c']+data['wddir_g']*data['wddir_g']).values\n",
    "wind_sum_log= np.log(wind_sum)\n",
    "wind_sum_sqrt= np.sqrt(wind_sum)\n",
    "\n",
    "calc_PCC(x,wind_sum,'wind_sum')\n",
    "calc_PCC(x,wind_sqr,'wind_sqr')\n",
    "calc_PCC(x,wind_sum_log,'wind_sum_log')\n",
    "calc_PCC(x,wind_sum_sqrt,'wind_sum_sqrt')"
   ]
  },
  {
   "cell_type": "markdown",
   "metadata": {},
   "source": [
    "#### Oil prices"
   ]
  },
  {
   "cell_type": "code",
   "execution_count": 64,
   "metadata": {},
   "outputs": [
    {
     "name": "stdout",
     "output_type": "stream",
     "text": [
      "Pearsons correlation for oil_sqr with electricity price: -0.054\n",
      "Pearsons correlation for oil_sqrt with electricity price: -0.060\n",
      "Pearsons correlation for oil_log with electricity price: -0.062\n"
     ]
    }
   ],
   "source": [
    "x= data.elec_prices.values\n",
    "oil= data['daily_oil_price'].values\n",
    "oil_sqr= oil*oil\n",
    "oil_sqrt= np.sqrt(oil)\n",
    "oil_log= np.log(oil)\n",
    "\n",
    "calc_PCC(x,oil_sqr,'oil_sqr')\n",
    "calc_PCC(x,oil_sqrt,'oil_sqrt')\n",
    "calc_PCC(x,oil_log,'oil_log')"
   ]
  },
  {
   "cell_type": "markdown",
   "metadata": {},
   "source": [
    "#### Natural gas prices"
   ]
  },
  {
   "cell_type": "code",
   "execution_count": 65,
   "metadata": {},
   "outputs": [
    {
     "name": "stdout",
     "output_type": "stream",
     "text": [
      "Pearsons correlation for ng_sqr with electricity price: 0.262\n",
      "Pearsons correlation for ng_sqrt with electricity price: 0.267\n",
      "Pearsons correlation for ng_log with electricity price: 0.266\n"
     ]
    }
   ],
   "source": [
    "x= data.elec_prices.values\n",
    "ng = data.daily_natural_gas.values\n",
    "ng_sqr = ng*ng\n",
    "ng_sqrt = np.sqrt(ng)\n",
    "ng_log= np.log(ng)\n",
    "\n",
    "calc_PCC(x,ng_sqr,'ng_sqr')\n",
    "calc_PCC(x,ng_sqrt,'ng_sqrt')\n",
    "calc_PCC(x,ng_log,'ng_log')"
   ]
  },
  {
   "cell_type": "markdown",
   "metadata": {},
   "source": [
    "#### temperature"
   ]
  },
  {
   "cell_type": "code",
   "execution_count": 66,
   "metadata": {},
   "outputs": [
    {
     "name": "stdout",
     "output_type": "stream",
     "text": [
      "Pearsons correlation for temp_sum with electricity price: -0.136\n",
      "Pearsons correlation for temp_sqr with electricity price: -0.116\n",
      "Pearsons correlation for temp_sum_log with electricity price: -0.136\n",
      "Pearsons correlation for temp_sum_sqrt with electricity price: -0.140\n"
     ]
    }
   ],
   "source": [
    "temp_sum= (data['temp_d']+data['temp_c']+data['temp_g'])\n",
    "temp_sqr= (data['temp_d']*data['temp_d']+data['temp_c']*data['temp_c']+data['temp_g']*data['temp_g'])\n",
    "temp_sum_log= np.log(temp_sum+ 00000.1)\n",
    "temp_sum_log = temp_sum_log.ffill(axis = 0)\n",
    "temp_sum_sqrt= np.sqrt(temp_sum)\n",
    "temp_sum_sqrt= temp_sum_sqrt.ffill(axis = 0)\n",
    "\n",
    "calc_PCC(x,temp_sum.values,'temp_sum')\n",
    "calc_PCC(x,temp_sqr.values,'temp_sqr')\n",
    "calc_PCC(x,temp_sum_log.values,'temp_sum_log')\n",
    "calc_PCC(x,temp_sum_sqrt.values,'temp_sum_sqrt')"
   ]
  },
  {
   "cell_type": "markdown",
   "metadata": {},
   "source": [
    "#### wind speed"
   ]
  },
  {
   "cell_type": "code",
   "execution_count": 68,
   "metadata": {},
   "outputs": [
    {
     "name": "stdout",
     "output_type": "stream",
     "text": [
      "Pearsons correlation for wdsp_sum with electricity price: -0.333\n",
      "Pearsons correlation for wdsp_sqr with electricity price: -0.326\n",
      "Pearsons correlation for wdsp_sum_log with electricity price: -0.304\n",
      "Pearsons correlation for wdsp_sum_sqrt with electricity price: -0.323\n"
     ]
    }
   ],
   "source": [
    "wdsp_sum= (data['wdsp_d']+data['wdsp_c']+data['wdsp_g']).values\n",
    "wdsp_sqr= (data['wdsp_d']*data['wdsp_d']+data['wdsp_c']*data['wdsp_c']+data['wdsp_g']*data['wdsp_g']).values\n",
    "wdsp_sum_log= np.log(wdsp_sum)\n",
    "wdsp_sum_sqrt= np.sqrt(wdsp_sum)\n",
    "\n",
    "calc_PCC(x,wdsp_sum,'wdsp_sum')\n",
    "calc_PCC(x,wdsp_sqr,'wdsp_sqr')\n",
    "calc_PCC(x,wdsp_sum_log,'wdsp_sum_log')\n",
    "calc_PCC(x,wdsp_sum_sqrt,'wdsp_sum_sqrt')"
   ]
  },
  {
   "cell_type": "code",
   "execution_count": 69,
   "metadata": {},
   "outputs": [],
   "source": [
    "backup = data.copy()"
   ]
  },
  {
   "cell_type": "code",
   "execution_count": 70,
   "metadata": {},
   "outputs": [
    {
     "data": {
      "text/html": [
       "<div>\n",
       "<style scoped>\n",
       "    .dataframe tbody tr th:only-of-type {\n",
       "        vertical-align: middle;\n",
       "    }\n",
       "\n",
       "    .dataframe tbody tr th {\n",
       "        vertical-align: top;\n",
       "    }\n",
       "\n",
       "    .dataframe thead th {\n",
       "        text-align: right;\n",
       "    }\n",
       "</style>\n",
       "<table border=\"1\" class=\"dataframe\">\n",
       "  <thead>\n",
       "    <tr style=\"text-align: right;\">\n",
       "      <th></th>\n",
       "      <th>applicable_date</th>\n",
       "      <th>measurement_name</th>\n",
       "      <th>elec_prices</th>\n",
       "      <th>date</th>\n",
       "      <th>time_stamp</th>\n",
       "      <th>rain_d</th>\n",
       "      <th>temp_d</th>\n",
       "      <th>wdsp_d</th>\n",
       "      <th>wddir_d</th>\n",
       "      <th>rain_c</th>\n",
       "      <th>temp_c</th>\n",
       "      <th>wdsp_c</th>\n",
       "      <th>wddir_c</th>\n",
       "      <th>rain_g</th>\n",
       "      <th>temp_g</th>\n",
       "      <th>wdsp_g</th>\n",
       "      <th>wddir_g</th>\n",
       "      <th>daily_oil_price</th>\n",
       "      <th>daily_natural_gas</th>\n",
       "    </tr>\n",
       "  </thead>\n",
       "  <tbody>\n",
       "    <tr>\n",
       "      <th>0</th>\n",
       "      <td>2019-11-11 23:00:00</td>\n",
       "      <td>isem_prices</td>\n",
       "      <td>0.00</td>\n",
       "      <td>2019-11-11</td>\n",
       "      <td>23:00:00</td>\n",
       "      <td>0.0</td>\n",
       "      <td>3.1</td>\n",
       "      <td>7.710</td>\n",
       "      <td>260</td>\n",
       "      <td>0.1</td>\n",
       "      <td>3.9</td>\n",
       "      <td>5.654</td>\n",
       "      <td>260</td>\n",
       "      <td>0.0</td>\n",
       "      <td>4.3</td>\n",
       "      <td>4.626</td>\n",
       "      <td>290</td>\n",
       "      <td>62.58</td>\n",
       "      <td>2.23</td>\n",
       "    </tr>\n",
       "    <tr>\n",
       "      <th>1</th>\n",
       "      <td>2019-11-12 00:00:00</td>\n",
       "      <td>isem_prices</td>\n",
       "      <td>0.00</td>\n",
       "      <td>2019-11-12</td>\n",
       "      <td>00:00:00</td>\n",
       "      <td>0.0</td>\n",
       "      <td>2.8</td>\n",
       "      <td>7.710</td>\n",
       "      <td>260</td>\n",
       "      <td>0.1</td>\n",
       "      <td>3.8</td>\n",
       "      <td>6.168</td>\n",
       "      <td>270</td>\n",
       "      <td>0.1</td>\n",
       "      <td>3.9</td>\n",
       "      <td>4.626</td>\n",
       "      <td>290</td>\n",
       "      <td>62.19</td>\n",
       "      <td>2.43</td>\n",
       "    </tr>\n",
       "    <tr>\n",
       "      <th>2</th>\n",
       "      <td>2019-11-12 01:00:00</td>\n",
       "      <td>isem_prices</td>\n",
       "      <td>-0.38</td>\n",
       "      <td>2019-11-12</td>\n",
       "      <td>01:00:00</td>\n",
       "      <td>0.0</td>\n",
       "      <td>3.0</td>\n",
       "      <td>4.626</td>\n",
       "      <td>250</td>\n",
       "      <td>0.0</td>\n",
       "      <td>3.8</td>\n",
       "      <td>7.710</td>\n",
       "      <td>280</td>\n",
       "      <td>0.0</td>\n",
       "      <td>3.8</td>\n",
       "      <td>3.598</td>\n",
       "      <td>290</td>\n",
       "      <td>62.19</td>\n",
       "      <td>2.43</td>\n",
       "    </tr>\n",
       "    <tr>\n",
       "      <th>3</th>\n",
       "      <td>2019-11-12 02:00:00</td>\n",
       "      <td>isem_prices</td>\n",
       "      <td>-0.50</td>\n",
       "      <td>2019-11-12</td>\n",
       "      <td>02:00:00</td>\n",
       "      <td>0.0</td>\n",
       "      <td>2.3</td>\n",
       "      <td>5.140</td>\n",
       "      <td>250</td>\n",
       "      <td>0.1</td>\n",
       "      <td>3.5</td>\n",
       "      <td>5.654</td>\n",
       "      <td>280</td>\n",
       "      <td>0.0</td>\n",
       "      <td>3.6</td>\n",
       "      <td>3.084</td>\n",
       "      <td>290</td>\n",
       "      <td>62.19</td>\n",
       "      <td>2.43</td>\n",
       "    </tr>\n",
       "    <tr>\n",
       "      <th>4</th>\n",
       "      <td>2019-11-12 03:00:00</td>\n",
       "      <td>isem_prices</td>\n",
       "      <td>-1.00</td>\n",
       "      <td>2019-11-12</td>\n",
       "      <td>03:00:00</td>\n",
       "      <td>0.0</td>\n",
       "      <td>2.6</td>\n",
       "      <td>6.168</td>\n",
       "      <td>260</td>\n",
       "      <td>0.0</td>\n",
       "      <td>3.6</td>\n",
       "      <td>4.626</td>\n",
       "      <td>280</td>\n",
       "      <td>0.0</td>\n",
       "      <td>3.5</td>\n",
       "      <td>3.598</td>\n",
       "      <td>280</td>\n",
       "      <td>62.19</td>\n",
       "      <td>2.43</td>\n",
       "    </tr>\n",
       "  </tbody>\n",
       "</table>\n",
       "</div>"
      ],
      "text/plain": [
       "       applicable_date measurement_name  elec_prices        date time_stamp  \\\n",
       "0  2019-11-11 23:00:00      isem_prices         0.00  2019-11-11   23:00:00   \n",
       "1  2019-11-12 00:00:00      isem_prices         0.00  2019-11-12   00:00:00   \n",
       "2  2019-11-12 01:00:00      isem_prices        -0.38  2019-11-12   01:00:00   \n",
       "3  2019-11-12 02:00:00      isem_prices        -0.50  2019-11-12   02:00:00   \n",
       "4  2019-11-12 03:00:00      isem_prices        -1.00  2019-11-12   03:00:00   \n",
       "\n",
       "   rain_d  temp_d  wdsp_d  wddir_d  rain_c  temp_c  wdsp_c  wddir_c  rain_g  \\\n",
       "0     0.0     3.1   7.710      260     0.1     3.9   5.654      260     0.0   \n",
       "1     0.0     2.8   7.710      260     0.1     3.8   6.168      270     0.1   \n",
       "2     0.0     3.0   4.626      250     0.0     3.8   7.710      280     0.0   \n",
       "3     0.0     2.3   5.140      250     0.1     3.5   5.654      280     0.0   \n",
       "4     0.0     2.6   6.168      260     0.0     3.6   4.626      280     0.0   \n",
       "\n",
       "   temp_g  wdsp_g  wddir_g  daily_oil_price  daily_natural_gas  \n",
       "0     4.3   4.626      290            62.58               2.23  \n",
       "1     3.9   4.626      290            62.19               2.43  \n",
       "2     3.8   3.598      290            62.19               2.43  \n",
       "3     3.6   3.084      290            62.19               2.43  \n",
       "4     3.5   3.598      280            62.19               2.43  "
      ]
     },
     "execution_count": 70,
     "metadata": {},
     "output_type": "execute_result"
    }
   ],
   "source": [
    "backup.head()"
   ]
  },
  {
   "cell_type": "code",
   "execution_count": 71,
   "metadata": {},
   "outputs": [
    {
     "name": "stdout",
     "output_type": "stream",
     "text": [
      "<class 'pandas.core.frame.DataFrame'>\n",
      "Int64Index: 7416 entries, 0 to 7476\n",
      "Data columns (total 19 columns):\n",
      " #   Column             Non-Null Count  Dtype         \n",
      "---  ------             --------------  -----         \n",
      " 0   applicable_date    7416 non-null   datetime64[ns]\n",
      " 1   measurement_name   7416 non-null   object        \n",
      " 2   elec_prices        7416 non-null   float64       \n",
      " 3   date               7416 non-null   object        \n",
      " 4   time_stamp         7416 non-null   object        \n",
      " 5   rain_d             7416 non-null   float64       \n",
      " 6   temp_d             7416 non-null   float64       \n",
      " 7   wdsp_d             7416 non-null   float64       \n",
      " 8   wddir_d            7416 non-null   int64         \n",
      " 9   rain_c             7416 non-null   float64       \n",
      " 10  temp_c             7416 non-null   float64       \n",
      " 11  wdsp_c             7416 non-null   float64       \n",
      " 12  wddir_c            7416 non-null   int64         \n",
      " 13  rain_g             7416 non-null   float64       \n",
      " 14  temp_g             7416 non-null   float64       \n",
      " 15  wdsp_g             7416 non-null   float64       \n",
      " 16  wddir_g            7416 non-null   int64         \n",
      " 17  daily_oil_price    7416 non-null   float64       \n",
      " 18  daily_natural_gas  7416 non-null   float64       \n",
      "dtypes: datetime64[ns](1), float64(12), int64(3), object(3)\n",
      "memory usage: 1.1+ MB\n"
     ]
    }
   ],
   "source": [
    "data['applicable_date'] = pd.to_datetime(data['applicable_date'],format='%Y-%m-%d %H:%M:%S')\n",
    "data.info()"
   ]
  },
  {
   "cell_type": "code",
   "execution_count": 72,
   "metadata": {},
   "outputs": [
    {
     "data": {
      "text/html": [
       "<div>\n",
       "<style scoped>\n",
       "    .dataframe tbody tr th:only-of-type {\n",
       "        vertical-align: middle;\n",
       "    }\n",
       "\n",
       "    .dataframe tbody tr th {\n",
       "        vertical-align: top;\n",
       "    }\n",
       "\n",
       "    .dataframe thead th {\n",
       "        text-align: right;\n",
       "    }\n",
       "</style>\n",
       "<table border=\"1\" class=\"dataframe\">\n",
       "  <thead>\n",
       "    <tr style=\"text-align: right;\">\n",
       "      <th></th>\n",
       "      <th>applicable_date</th>\n",
       "      <th>measurement_name</th>\n",
       "      <th>elec_prices</th>\n",
       "      <th>date</th>\n",
       "      <th>time_stamp</th>\n",
       "      <th>rain_d</th>\n",
       "      <th>temp_d</th>\n",
       "      <th>wdsp_d</th>\n",
       "      <th>wddir_d</th>\n",
       "      <th>rain_c</th>\n",
       "      <th>temp_c</th>\n",
       "      <th>wdsp_c</th>\n",
       "      <th>wddir_c</th>\n",
       "      <th>rain_g</th>\n",
       "      <th>temp_g</th>\n",
       "      <th>wdsp_g</th>\n",
       "      <th>wddir_g</th>\n",
       "      <th>daily_oil_price</th>\n",
       "      <th>daily_natural_gas</th>\n",
       "    </tr>\n",
       "  </thead>\n",
       "  <tbody>\n",
       "    <tr>\n",
       "      <th>0</th>\n",
       "      <td>2019-01-01 00:00:00</td>\n",
       "      <td>isem_prices</td>\n",
       "      <td>70.28</td>\n",
       "      <td>2019-01-01</td>\n",
       "      <td>00:00:00</td>\n",
       "      <td>0.0</td>\n",
       "      <td>8.8</td>\n",
       "      <td>4.626</td>\n",
       "      <td>250</td>\n",
       "      <td>0.0</td>\n",
       "      <td>8.5</td>\n",
       "      <td>2.056</td>\n",
       "      <td>240</td>\n",
       "      <td>0.0</td>\n",
       "      <td>9.9</td>\n",
       "      <td>2.056</td>\n",
       "      <td>260</td>\n",
       "      <td>59.41</td>\n",
       "      <td>2.62</td>\n",
       "    </tr>\n",
       "    <tr>\n",
       "      <th>1</th>\n",
       "      <td>2019-01-01 01:00:00</td>\n",
       "      <td>isem_prices</td>\n",
       "      <td>65.18</td>\n",
       "      <td>2019-01-01</td>\n",
       "      <td>01:00:00</td>\n",
       "      <td>0.0</td>\n",
       "      <td>8.3</td>\n",
       "      <td>4.626</td>\n",
       "      <td>250</td>\n",
       "      <td>0.0</td>\n",
       "      <td>8.5</td>\n",
       "      <td>1.542</td>\n",
       "      <td>270</td>\n",
       "      <td>0.0</td>\n",
       "      <td>9.3</td>\n",
       "      <td>2.056</td>\n",
       "      <td>240</td>\n",
       "      <td>59.41</td>\n",
       "      <td>2.62</td>\n",
       "    </tr>\n",
       "    <tr>\n",
       "      <th>2</th>\n",
       "      <td>2019-01-01 02:00:00</td>\n",
       "      <td>isem_prices</td>\n",
       "      <td>60.91</td>\n",
       "      <td>2019-01-01</td>\n",
       "      <td>02:00:00</td>\n",
       "      <td>0.0</td>\n",
       "      <td>8.4</td>\n",
       "      <td>4.112</td>\n",
       "      <td>240</td>\n",
       "      <td>0.0</td>\n",
       "      <td>8.4</td>\n",
       "      <td>1.542</td>\n",
       "      <td>280</td>\n",
       "      <td>0.0</td>\n",
       "      <td>9.2</td>\n",
       "      <td>2.570</td>\n",
       "      <td>240</td>\n",
       "      <td>59.41</td>\n",
       "      <td>2.62</td>\n",
       "    </tr>\n",
       "    <tr>\n",
       "      <th>3</th>\n",
       "      <td>2019-01-01 03:00:00</td>\n",
       "      <td>isem_prices</td>\n",
       "      <td>65.16</td>\n",
       "      <td>2019-01-01</td>\n",
       "      <td>03:00:00</td>\n",
       "      <td>0.0</td>\n",
       "      <td>8.6</td>\n",
       "      <td>4.112</td>\n",
       "      <td>250</td>\n",
       "      <td>0.0</td>\n",
       "      <td>8.5</td>\n",
       "      <td>2.570</td>\n",
       "      <td>260</td>\n",
       "      <td>0.0</td>\n",
       "      <td>9.1</td>\n",
       "      <td>2.570</td>\n",
       "      <td>250</td>\n",
       "      <td>59.41</td>\n",
       "      <td>2.62</td>\n",
       "    </tr>\n",
       "    <tr>\n",
       "      <th>4</th>\n",
       "      <td>2019-01-01 04:00:00</td>\n",
       "      <td>isem_prices</td>\n",
       "      <td>65.16</td>\n",
       "      <td>2019-01-01</td>\n",
       "      <td>04:00:00</td>\n",
       "      <td>0.0</td>\n",
       "      <td>8.4</td>\n",
       "      <td>5.140</td>\n",
       "      <td>250</td>\n",
       "      <td>0.0</td>\n",
       "      <td>8.5</td>\n",
       "      <td>2.570</td>\n",
       "      <td>270</td>\n",
       "      <td>0.0</td>\n",
       "      <td>8.8</td>\n",
       "      <td>2.056</td>\n",
       "      <td>250</td>\n",
       "      <td>59.41</td>\n",
       "      <td>2.62</td>\n",
       "    </tr>\n",
       "  </tbody>\n",
       "</table>\n",
       "</div>"
      ],
      "text/plain": [
       "      applicable_date measurement_name  elec_prices        date time_stamp  \\\n",
       "0 2019-01-01 00:00:00      isem_prices        70.28  2019-01-01   00:00:00   \n",
       "1 2019-01-01 01:00:00      isem_prices        65.18  2019-01-01   01:00:00   \n",
       "2 2019-01-01 02:00:00      isem_prices        60.91  2019-01-01   02:00:00   \n",
       "3 2019-01-01 03:00:00      isem_prices        65.16  2019-01-01   03:00:00   \n",
       "4 2019-01-01 04:00:00      isem_prices        65.16  2019-01-01   04:00:00   \n",
       "\n",
       "   rain_d  temp_d  wdsp_d  wddir_d  rain_c  temp_c  wdsp_c  wddir_c  rain_g  \\\n",
       "0     0.0     8.8   4.626      250     0.0     8.5   2.056      240     0.0   \n",
       "1     0.0     8.3   4.626      250     0.0     8.5   1.542      270     0.0   \n",
       "2     0.0     8.4   4.112      240     0.0     8.4   1.542      280     0.0   \n",
       "3     0.0     8.6   4.112      250     0.0     8.5   2.570      260     0.0   \n",
       "4     0.0     8.4   5.140      250     0.0     8.5   2.570      270     0.0   \n",
       "\n",
       "   temp_g  wdsp_g  wddir_g  daily_oil_price  daily_natural_gas  \n",
       "0     9.9   2.056      260            59.41               2.62  \n",
       "1     9.3   2.056      240            59.41               2.62  \n",
       "2     9.2   2.570      240            59.41               2.62  \n",
       "3     9.1   2.570      250            59.41               2.62  \n",
       "4     8.8   2.056      250            59.41               2.62  "
      ]
     },
     "execution_count": 72,
     "metadata": {},
     "output_type": "execute_result"
    }
   ],
   "source": [
    "data= data.sort_values(by='applicable_date')\n",
    "data= data.reset_index(drop=True)\n",
    "data.head()"
   ]
  },
  {
   "cell_type": "code",
   "execution_count": 73,
   "metadata": {},
   "outputs": [
    {
     "data": {
      "text/plain": [
       "False"
      ]
     },
     "execution_count": 73,
     "metadata": {},
     "output_type": "execute_result"
    }
   ],
   "source": [
    "data.isnull().values.any()"
   ]
  },
  {
   "cell_type": "code",
   "execution_count": 74,
   "metadata": {},
   "outputs": [
    {
     "data": {
      "text/plain": [
       "(7416, 19)"
      ]
     },
     "execution_count": 74,
     "metadata": {},
     "output_type": "execute_result"
    }
   ],
   "source": [
    "data.shape"
   ]
  },
  {
   "cell_type": "code",
   "execution_count": 75,
   "metadata": {},
   "outputs": [
    {
     "data": {
      "text/html": [
       "<div>\n",
       "<style scoped>\n",
       "    .dataframe tbody tr th:only-of-type {\n",
       "        vertical-align: middle;\n",
       "    }\n",
       "\n",
       "    .dataframe tbody tr th {\n",
       "        vertical-align: top;\n",
       "    }\n",
       "\n",
       "    .dataframe thead th {\n",
       "        text-align: right;\n",
       "    }\n",
       "</style>\n",
       "<table border=\"1\" class=\"dataframe\">\n",
       "  <thead>\n",
       "    <tr style=\"text-align: right;\">\n",
       "      <th></th>\n",
       "      <th>applicable_date</th>\n",
       "      <th>elec_prices</th>\n",
       "      <th>rain_d</th>\n",
       "      <th>temp_d</th>\n",
       "      <th>wdsp_d</th>\n",
       "      <th>wddir_d</th>\n",
       "      <th>rain_c</th>\n",
       "      <th>temp_c</th>\n",
       "      <th>wdsp_c</th>\n",
       "      <th>wddir_c</th>\n",
       "      <th>rain_g</th>\n",
       "      <th>temp_g</th>\n",
       "      <th>wdsp_g</th>\n",
       "      <th>wddir_g</th>\n",
       "      <th>daily_oil_price</th>\n",
       "      <th>daily_natural_gas</th>\n",
       "    </tr>\n",
       "  </thead>\n",
       "  <tbody>\n",
       "    <tr>\n",
       "      <th>0</th>\n",
       "      <td>2019-01-01 00:00:00</td>\n",
       "      <td>70.28</td>\n",
       "      <td>0.0</td>\n",
       "      <td>8.8</td>\n",
       "      <td>4.626</td>\n",
       "      <td>250</td>\n",
       "      <td>0.0</td>\n",
       "      <td>8.5</td>\n",
       "      <td>2.056</td>\n",
       "      <td>240</td>\n",
       "      <td>0.0</td>\n",
       "      <td>9.9</td>\n",
       "      <td>2.056</td>\n",
       "      <td>260</td>\n",
       "      <td>59.41</td>\n",
       "      <td>2.62</td>\n",
       "    </tr>\n",
       "    <tr>\n",
       "      <th>1</th>\n",
       "      <td>2019-01-01 01:00:00</td>\n",
       "      <td>65.18</td>\n",
       "      <td>0.0</td>\n",
       "      <td>8.3</td>\n",
       "      <td>4.626</td>\n",
       "      <td>250</td>\n",
       "      <td>0.0</td>\n",
       "      <td>8.5</td>\n",
       "      <td>1.542</td>\n",
       "      <td>270</td>\n",
       "      <td>0.0</td>\n",
       "      <td>9.3</td>\n",
       "      <td>2.056</td>\n",
       "      <td>240</td>\n",
       "      <td>59.41</td>\n",
       "      <td>2.62</td>\n",
       "    </tr>\n",
       "    <tr>\n",
       "      <th>2</th>\n",
       "      <td>2019-01-01 02:00:00</td>\n",
       "      <td>60.91</td>\n",
       "      <td>0.0</td>\n",
       "      <td>8.4</td>\n",
       "      <td>4.112</td>\n",
       "      <td>240</td>\n",
       "      <td>0.0</td>\n",
       "      <td>8.4</td>\n",
       "      <td>1.542</td>\n",
       "      <td>280</td>\n",
       "      <td>0.0</td>\n",
       "      <td>9.2</td>\n",
       "      <td>2.570</td>\n",
       "      <td>240</td>\n",
       "      <td>59.41</td>\n",
       "      <td>2.62</td>\n",
       "    </tr>\n",
       "    <tr>\n",
       "      <th>3</th>\n",
       "      <td>2019-01-01 03:00:00</td>\n",
       "      <td>65.16</td>\n",
       "      <td>0.0</td>\n",
       "      <td>8.6</td>\n",
       "      <td>4.112</td>\n",
       "      <td>250</td>\n",
       "      <td>0.0</td>\n",
       "      <td>8.5</td>\n",
       "      <td>2.570</td>\n",
       "      <td>260</td>\n",
       "      <td>0.0</td>\n",
       "      <td>9.1</td>\n",
       "      <td>2.570</td>\n",
       "      <td>250</td>\n",
       "      <td>59.41</td>\n",
       "      <td>2.62</td>\n",
       "    </tr>\n",
       "    <tr>\n",
       "      <th>4</th>\n",
       "      <td>2019-01-01 04:00:00</td>\n",
       "      <td>65.16</td>\n",
       "      <td>0.0</td>\n",
       "      <td>8.4</td>\n",
       "      <td>5.140</td>\n",
       "      <td>250</td>\n",
       "      <td>0.0</td>\n",
       "      <td>8.5</td>\n",
       "      <td>2.570</td>\n",
       "      <td>270</td>\n",
       "      <td>0.0</td>\n",
       "      <td>8.8</td>\n",
       "      <td>2.056</td>\n",
       "      <td>250</td>\n",
       "      <td>59.41</td>\n",
       "      <td>2.62</td>\n",
       "    </tr>\n",
       "  </tbody>\n",
       "</table>\n",
       "</div>"
      ],
      "text/plain": [
       "      applicable_date  elec_prices  rain_d  temp_d  wdsp_d  wddir_d  rain_c  \\\n",
       "0 2019-01-01 00:00:00        70.28     0.0     8.8   4.626      250     0.0   \n",
       "1 2019-01-01 01:00:00        65.18     0.0     8.3   4.626      250     0.0   \n",
       "2 2019-01-01 02:00:00        60.91     0.0     8.4   4.112      240     0.0   \n",
       "3 2019-01-01 03:00:00        65.16     0.0     8.6   4.112      250     0.0   \n",
       "4 2019-01-01 04:00:00        65.16     0.0     8.4   5.140      250     0.0   \n",
       "\n",
       "   temp_c  wdsp_c  wddir_c  rain_g  temp_g  wdsp_g  wddir_g  daily_oil_price  \\\n",
       "0     8.5   2.056      240     0.0     9.9   2.056      260            59.41   \n",
       "1     8.5   1.542      270     0.0     9.3   2.056      240            59.41   \n",
       "2     8.4   1.542      280     0.0     9.2   2.570      240            59.41   \n",
       "3     8.5   2.570      260     0.0     9.1   2.570      250            59.41   \n",
       "4     8.5   2.570      270     0.0     8.8   2.056      250            59.41   \n",
       "\n",
       "   daily_natural_gas  \n",
       "0               2.62  \n",
       "1               2.62  \n",
       "2               2.62  \n",
       "3               2.62  \n",
       "4               2.62  "
      ]
     },
     "execution_count": 75,
     "metadata": {},
     "output_type": "execute_result"
    }
   ],
   "source": [
    "data= data.drop(['measurement_name', 'date','time_stamp'], axis=1)\n",
    "data.head()"
   ]
  },
  {
   "cell_type": "code",
   "execution_count": 76,
   "metadata": {},
   "outputs": [
    {
     "data": {
      "text/plain": [
       "(7416, 16)"
      ]
     },
     "execution_count": 76,
     "metadata": {},
     "output_type": "execute_result"
    }
   ],
   "source": [
    "data.shape"
   ]
  },
  {
   "cell_type": "code",
   "execution_count": 77,
   "metadata": {},
   "outputs": [],
   "source": [
    "data.to_csv('final_data_2019.csv')"
   ]
  },
  {
   "cell_type": "code",
   "execution_count": 78,
   "metadata": {},
   "outputs": [],
   "source": [
    "data.to_excel('final_data_2019.xlsx')"
   ]
  },
  {
   "cell_type": "markdown",
   "metadata": {},
   "source": [
    "#### Expanding Window Feature"
   ]
  },
  {
   "cell_type": "code",
   "execution_count": 80,
   "metadata": {},
   "outputs": [
    {
     "name": "stdout",
     "output_type": "stream",
     "text": [
      "Pearsons correlation for expanding_window_price with electricity price: 0.353\n"
     ]
    }
   ],
   "source": [
    "x= data.elec_prices.values\n",
    "y = data['elec_prices'].expanding().mean()\n",
    "calc_PCC(x,y.values,'expanding_window_price')"
   ]
  },
  {
   "cell_type": "code",
   "execution_count": 81,
   "metadata": {},
   "outputs": [
    {
     "name": "stdout",
     "output_type": "stream",
     "text": [
      "Pearsons correlation for expanding_window_price_lag1 with electricity price: 0.350\n"
     ]
    }
   ],
   "source": [
    "# lag of expanding window feature\n",
    "y = data['elec_prices'].expanding().mean()\n",
    "y_lag1 = y.shift(1)\n",
    "y_lag1 = y_lag1.bfill(axis ='rows')\n",
    "\n",
    "calc_PCC(x,y_lag1.values,'expanding_window_price_lag1')"
   ]
  },
  {
   "cell_type": "markdown",
   "metadata": {},
   "source": [
    "## Feature importance using RF"
   ]
  },
  {
   "cell_type": "code",
   "execution_count": 82,
   "metadata": {},
   "outputs": [
    {
     "data": {
      "text/html": [
       "<div>\n",
       "<style scoped>\n",
       "    .dataframe tbody tr th:only-of-type {\n",
       "        vertical-align: middle;\n",
       "    }\n",
       "\n",
       "    .dataframe tbody tr th {\n",
       "        vertical-align: top;\n",
       "    }\n",
       "\n",
       "    .dataframe thead th {\n",
       "        text-align: right;\n",
       "    }\n",
       "</style>\n",
       "<table border=\"1\" class=\"dataframe\">\n",
       "  <thead>\n",
       "    <tr style=\"text-align: right;\">\n",
       "      <th></th>\n",
       "      <th>applicable_date</th>\n",
       "      <th>elec_prices</th>\n",
       "      <th>rain_d</th>\n",
       "      <th>temp_d</th>\n",
       "      <th>wdsp_d</th>\n",
       "      <th>wddir_d</th>\n",
       "      <th>rain_c</th>\n",
       "      <th>temp_c</th>\n",
       "      <th>wdsp_c</th>\n",
       "      <th>wddir_c</th>\n",
       "      <th>rain_g</th>\n",
       "      <th>temp_g</th>\n",
       "      <th>wdsp_g</th>\n",
       "      <th>wddir_g</th>\n",
       "      <th>daily_oil_price</th>\n",
       "      <th>daily_natural_gas</th>\n",
       "    </tr>\n",
       "  </thead>\n",
       "  <tbody>\n",
       "    <tr>\n",
       "      <th>0</th>\n",
       "      <td>2019-01-01 00:00:00</td>\n",
       "      <td>70.28</td>\n",
       "      <td>0.0</td>\n",
       "      <td>8.8</td>\n",
       "      <td>4.626</td>\n",
       "      <td>250</td>\n",
       "      <td>0.0</td>\n",
       "      <td>8.5</td>\n",
       "      <td>2.056</td>\n",
       "      <td>240</td>\n",
       "      <td>0.0</td>\n",
       "      <td>9.9</td>\n",
       "      <td>2.056</td>\n",
       "      <td>260</td>\n",
       "      <td>59.41</td>\n",
       "      <td>2.62</td>\n",
       "    </tr>\n",
       "    <tr>\n",
       "      <th>1</th>\n",
       "      <td>2019-01-01 01:00:00</td>\n",
       "      <td>65.18</td>\n",
       "      <td>0.0</td>\n",
       "      <td>8.3</td>\n",
       "      <td>4.626</td>\n",
       "      <td>250</td>\n",
       "      <td>0.0</td>\n",
       "      <td>8.5</td>\n",
       "      <td>1.542</td>\n",
       "      <td>270</td>\n",
       "      <td>0.0</td>\n",
       "      <td>9.3</td>\n",
       "      <td>2.056</td>\n",
       "      <td>240</td>\n",
       "      <td>59.41</td>\n",
       "      <td>2.62</td>\n",
       "    </tr>\n",
       "    <tr>\n",
       "      <th>2</th>\n",
       "      <td>2019-01-01 02:00:00</td>\n",
       "      <td>60.91</td>\n",
       "      <td>0.0</td>\n",
       "      <td>8.4</td>\n",
       "      <td>4.112</td>\n",
       "      <td>240</td>\n",
       "      <td>0.0</td>\n",
       "      <td>8.4</td>\n",
       "      <td>1.542</td>\n",
       "      <td>280</td>\n",
       "      <td>0.0</td>\n",
       "      <td>9.2</td>\n",
       "      <td>2.570</td>\n",
       "      <td>240</td>\n",
       "      <td>59.41</td>\n",
       "      <td>2.62</td>\n",
       "    </tr>\n",
       "    <tr>\n",
       "      <th>3</th>\n",
       "      <td>2019-01-01 03:00:00</td>\n",
       "      <td>65.16</td>\n",
       "      <td>0.0</td>\n",
       "      <td>8.6</td>\n",
       "      <td>4.112</td>\n",
       "      <td>250</td>\n",
       "      <td>0.0</td>\n",
       "      <td>8.5</td>\n",
       "      <td>2.570</td>\n",
       "      <td>260</td>\n",
       "      <td>0.0</td>\n",
       "      <td>9.1</td>\n",
       "      <td>2.570</td>\n",
       "      <td>250</td>\n",
       "      <td>59.41</td>\n",
       "      <td>2.62</td>\n",
       "    </tr>\n",
       "    <tr>\n",
       "      <th>4</th>\n",
       "      <td>2019-01-01 04:00:00</td>\n",
       "      <td>65.16</td>\n",
       "      <td>0.0</td>\n",
       "      <td>8.4</td>\n",
       "      <td>5.140</td>\n",
       "      <td>250</td>\n",
       "      <td>0.0</td>\n",
       "      <td>8.5</td>\n",
       "      <td>2.570</td>\n",
       "      <td>270</td>\n",
       "      <td>0.0</td>\n",
       "      <td>8.8</td>\n",
       "      <td>2.056</td>\n",
       "      <td>250</td>\n",
       "      <td>59.41</td>\n",
       "      <td>2.62</td>\n",
       "    </tr>\n",
       "  </tbody>\n",
       "</table>\n",
       "</div>"
      ],
      "text/plain": [
       "      applicable_date  elec_prices  rain_d  temp_d  wdsp_d  wddir_d  rain_c  \\\n",
       "0 2019-01-01 00:00:00        70.28     0.0     8.8   4.626      250     0.0   \n",
       "1 2019-01-01 01:00:00        65.18     0.0     8.3   4.626      250     0.0   \n",
       "2 2019-01-01 02:00:00        60.91     0.0     8.4   4.112      240     0.0   \n",
       "3 2019-01-01 03:00:00        65.16     0.0     8.6   4.112      250     0.0   \n",
       "4 2019-01-01 04:00:00        65.16     0.0     8.4   5.140      250     0.0   \n",
       "\n",
       "   temp_c  wdsp_c  wddir_c  rain_g  temp_g  wdsp_g  wddir_g  daily_oil_price  \\\n",
       "0     8.5   2.056      240     0.0     9.9   2.056      260            59.41   \n",
       "1     8.5   1.542      270     0.0     9.3   2.056      240            59.41   \n",
       "2     8.4   1.542      280     0.0     9.2   2.570      240            59.41   \n",
       "3     8.5   2.570      260     0.0     9.1   2.570      250            59.41   \n",
       "4     8.5   2.570      270     0.0     8.8   2.056      250            59.41   \n",
       "\n",
       "   daily_natural_gas  \n",
       "0               2.62  \n",
       "1               2.62  \n",
       "2               2.62  \n",
       "3               2.62  \n",
       "4               2.62  "
      ]
     },
     "execution_count": 82,
     "metadata": {},
     "output_type": "execute_result"
    }
   ],
   "source": [
    "data.head()"
   ]
  },
  {
   "cell_type": "code",
   "execution_count": 83,
   "metadata": {},
   "outputs": [
    {
     "data": {
      "text/html": [
       "<div>\n",
       "<style scoped>\n",
       "    .dataframe tbody tr th:only-of-type {\n",
       "        vertical-align: middle;\n",
       "    }\n",
       "\n",
       "    .dataframe tbody tr th {\n",
       "        vertical-align: top;\n",
       "    }\n",
       "\n",
       "    .dataframe thead th {\n",
       "        text-align: right;\n",
       "    }\n",
       "</style>\n",
       "<table border=\"1\" class=\"dataframe\">\n",
       "  <thead>\n",
       "    <tr style=\"text-align: right;\">\n",
       "      <th></th>\n",
       "      <th>rain_d</th>\n",
       "      <th>temp_d</th>\n",
       "      <th>wdsp_d</th>\n",
       "      <th>wddir_d</th>\n",
       "      <th>rain_c</th>\n",
       "      <th>temp_c</th>\n",
       "      <th>wdsp_c</th>\n",
       "      <th>wddir_c</th>\n",
       "      <th>rain_g</th>\n",
       "      <th>temp_g</th>\n",
       "      <th>wdsp_g</th>\n",
       "      <th>wddir_g</th>\n",
       "      <th>daily_oil_price</th>\n",
       "      <th>daily_natural_gas</th>\n",
       "    </tr>\n",
       "  </thead>\n",
       "  <tbody>\n",
       "    <tr>\n",
       "      <th>0</th>\n",
       "      <td>0.0</td>\n",
       "      <td>8.8</td>\n",
       "      <td>4.626</td>\n",
       "      <td>250</td>\n",
       "      <td>0.0</td>\n",
       "      <td>8.5</td>\n",
       "      <td>2.056</td>\n",
       "      <td>240</td>\n",
       "      <td>0.0</td>\n",
       "      <td>9.9</td>\n",
       "      <td>2.056</td>\n",
       "      <td>260</td>\n",
       "      <td>59.41</td>\n",
       "      <td>2.62</td>\n",
       "    </tr>\n",
       "    <tr>\n",
       "      <th>1</th>\n",
       "      <td>0.0</td>\n",
       "      <td>8.3</td>\n",
       "      <td>4.626</td>\n",
       "      <td>250</td>\n",
       "      <td>0.0</td>\n",
       "      <td>8.5</td>\n",
       "      <td>1.542</td>\n",
       "      <td>270</td>\n",
       "      <td>0.0</td>\n",
       "      <td>9.3</td>\n",
       "      <td>2.056</td>\n",
       "      <td>240</td>\n",
       "      <td>59.41</td>\n",
       "      <td>2.62</td>\n",
       "    </tr>\n",
       "    <tr>\n",
       "      <th>2</th>\n",
       "      <td>0.0</td>\n",
       "      <td>8.4</td>\n",
       "      <td>4.112</td>\n",
       "      <td>240</td>\n",
       "      <td>0.0</td>\n",
       "      <td>8.4</td>\n",
       "      <td>1.542</td>\n",
       "      <td>280</td>\n",
       "      <td>0.0</td>\n",
       "      <td>9.2</td>\n",
       "      <td>2.570</td>\n",
       "      <td>240</td>\n",
       "      <td>59.41</td>\n",
       "      <td>2.62</td>\n",
       "    </tr>\n",
       "    <tr>\n",
       "      <th>3</th>\n",
       "      <td>0.0</td>\n",
       "      <td>8.6</td>\n",
       "      <td>4.112</td>\n",
       "      <td>250</td>\n",
       "      <td>0.0</td>\n",
       "      <td>8.5</td>\n",
       "      <td>2.570</td>\n",
       "      <td>260</td>\n",
       "      <td>0.0</td>\n",
       "      <td>9.1</td>\n",
       "      <td>2.570</td>\n",
       "      <td>250</td>\n",
       "      <td>59.41</td>\n",
       "      <td>2.62</td>\n",
       "    </tr>\n",
       "    <tr>\n",
       "      <th>4</th>\n",
       "      <td>0.0</td>\n",
       "      <td>8.4</td>\n",
       "      <td>5.140</td>\n",
       "      <td>250</td>\n",
       "      <td>0.0</td>\n",
       "      <td>8.5</td>\n",
       "      <td>2.570</td>\n",
       "      <td>270</td>\n",
       "      <td>0.0</td>\n",
       "      <td>8.8</td>\n",
       "      <td>2.056</td>\n",
       "      <td>250</td>\n",
       "      <td>59.41</td>\n",
       "      <td>2.62</td>\n",
       "    </tr>\n",
       "  </tbody>\n",
       "</table>\n",
       "</div>"
      ],
      "text/plain": [
       "   rain_d  temp_d  wdsp_d  wddir_d  rain_c  temp_c  wdsp_c  wddir_c  rain_g  \\\n",
       "0     0.0     8.8   4.626      250     0.0     8.5   2.056      240     0.0   \n",
       "1     0.0     8.3   4.626      250     0.0     8.5   1.542      270     0.0   \n",
       "2     0.0     8.4   4.112      240     0.0     8.4   1.542      280     0.0   \n",
       "3     0.0     8.6   4.112      250     0.0     8.5   2.570      260     0.0   \n",
       "4     0.0     8.4   5.140      250     0.0     8.5   2.570      270     0.0   \n",
       "\n",
       "   temp_g  wdsp_g  wddir_g  daily_oil_price  daily_natural_gas  \n",
       "0     9.9   2.056      260            59.41               2.62  \n",
       "1     9.3   2.056      240            59.41               2.62  \n",
       "2     9.2   2.570      240            59.41               2.62  \n",
       "3     9.1   2.570      250            59.41               2.62  \n",
       "4     8.8   2.056      250            59.41               2.62  "
      ]
     },
     "execution_count": 83,
     "metadata": {},
     "output_type": "execute_result"
    }
   ],
   "source": [
    "rf_data= data.copy()\n",
    "rf_y= rf_data['elec_prices']\n",
    "rf_data = rf_data.drop(['applicable_date','elec_prices'], axis=1)\n",
    "rf_data.head()"
   ]
  },
  {
   "cell_type": "code",
   "execution_count": 84,
   "metadata": {},
   "outputs": [
    {
     "name": "stdout",
     "output_type": "stream",
     "text": [
      "Feature: 0, Score: 0.01266\n",
      "Feature: 1, Score: 0.07834\n",
      "Feature: 2, Score: 0.05682\n",
      "Feature: 3, Score: 0.05979\n",
      "Feature: 4, Score: 0.01531\n",
      "Feature: 5, Score: 0.07956\n",
      "Feature: 6, Score: 0.06653\n",
      "Feature: 7, Score: 0.04950\n",
      "Feature: 8, Score: 0.01784\n",
      "Feature: 9, Score: 0.08478\n",
      "Feature: 10, Score: 0.13457\n",
      "Feature: 11, Score: 0.05093\n",
      "Feature: 12, Score: 0.12374\n",
      "Feature: 13, Score: 0.16962\n"
     ]
    }
   ],
   "source": [
    "from sklearn.ensemble import RandomForestRegressor\n",
    "from matplotlib import pyplot\n",
    "\n",
    "model = RandomForestRegressor()\n",
    "model.fit(rf_data, rf_y)\n",
    "importance = model.feature_importances_\n",
    "\n",
    "for i,v in enumerate(importance):\n",
    "    print('Feature: %0d, Score: %.5f' % (i,v))"
   ]
  },
  {
   "cell_type": "code",
   "execution_count": 85,
   "metadata": {},
   "outputs": [
    {
     "data": {
      "image/png": "[encoded data removed]",
      "text/plain": [
       "<Figure size 1800x432 with 1 Axes>"
      ]
     },
     "metadata": {
      "needs_background": "light"
     },
     "output_type": "display_data"
    }
   ],
   "source": [
    "# plot feature importance\n",
    "cols= rf_data.columns.tolist()\n",
    "plt.figure(figsize=(25,6))\n",
    "pyplot.bar([cols[x] for x in range(len(importance))], importance)\n",
    "pyplot.show()"
   ]
  },
  {
   "cell_type": "markdown",
   "metadata": {},
   "source": [
    "### Time based features"
   ]
  },
  {
   "cell_type": "code",
   "execution_count": 86,
   "metadata": {},
   "outputs": [
    {
     "data": {
      "text/html": [
       "<div>\n",
       "<style scoped>\n",
       "    .dataframe tbody tr th:only-of-type {\n",
       "        vertical-align: middle;\n",
       "    }\n",
       "\n",
       "    .dataframe tbody tr th {\n",
       "        vertical-align: top;\n",
       "    }\n",
       "\n",
       "    .dataframe thead th {\n",
       "        text-align: right;\n",
       "    }\n",
       "</style>\n",
       "<table border=\"1\" class=\"dataframe\">\n",
       "  <thead>\n",
       "    <tr style=\"text-align: right;\">\n",
       "      <th></th>\n",
       "      <th>applicable_date</th>\n",
       "      <th>elec_prices</th>\n",
       "      <th>rain_d</th>\n",
       "      <th>temp_d</th>\n",
       "      <th>wdsp_d</th>\n",
       "      <th>wddir_d</th>\n",
       "      <th>rain_c</th>\n",
       "      <th>temp_c</th>\n",
       "      <th>wdsp_c</th>\n",
       "      <th>wddir_c</th>\n",
       "      <th>rain_g</th>\n",
       "      <th>temp_g</th>\n",
       "      <th>wdsp_g</th>\n",
       "      <th>wddir_g</th>\n",
       "      <th>daily_oil_price</th>\n",
       "      <th>daily_natural_gas</th>\n",
       "    </tr>\n",
       "  </thead>\n",
       "  <tbody>\n",
       "    <tr>\n",
       "      <th>0</th>\n",
       "      <td>2019-01-01 00:00:00</td>\n",
       "      <td>70.28</td>\n",
       "      <td>0.0</td>\n",
       "      <td>8.8</td>\n",
       "      <td>4.626</td>\n",
       "      <td>250</td>\n",
       "      <td>0.0</td>\n",
       "      <td>8.5</td>\n",
       "      <td>2.056</td>\n",
       "      <td>240</td>\n",
       "      <td>0.0</td>\n",
       "      <td>9.9</td>\n",
       "      <td>2.056</td>\n",
       "      <td>260</td>\n",
       "      <td>59.41</td>\n",
       "      <td>2.62</td>\n",
       "    </tr>\n",
       "    <tr>\n",
       "      <th>1</th>\n",
       "      <td>2019-01-01 01:00:00</td>\n",
       "      <td>65.18</td>\n",
       "      <td>0.0</td>\n",
       "      <td>8.3</td>\n",
       "      <td>4.626</td>\n",
       "      <td>250</td>\n",
       "      <td>0.0</td>\n",
       "      <td>8.5</td>\n",
       "      <td>1.542</td>\n",
       "      <td>270</td>\n",
       "      <td>0.0</td>\n",
       "      <td>9.3</td>\n",
       "      <td>2.056</td>\n",
       "      <td>240</td>\n",
       "      <td>59.41</td>\n",
       "      <td>2.62</td>\n",
       "    </tr>\n",
       "    <tr>\n",
       "      <th>2</th>\n",
       "      <td>2019-01-01 02:00:00</td>\n",
       "      <td>60.91</td>\n",
       "      <td>0.0</td>\n",
       "      <td>8.4</td>\n",
       "      <td>4.112</td>\n",
       "      <td>240</td>\n",
       "      <td>0.0</td>\n",
       "      <td>8.4</td>\n",
       "      <td>1.542</td>\n",
       "      <td>280</td>\n",
       "      <td>0.0</td>\n",
       "      <td>9.2</td>\n",
       "      <td>2.570</td>\n",
       "      <td>240</td>\n",
       "      <td>59.41</td>\n",
       "      <td>2.62</td>\n",
       "    </tr>\n",
       "    <tr>\n",
       "      <th>3</th>\n",
       "      <td>2019-01-01 03:00:00</td>\n",
       "      <td>65.16</td>\n",
       "      <td>0.0</td>\n",
       "      <td>8.6</td>\n",
       "      <td>4.112</td>\n",
       "      <td>250</td>\n",
       "      <td>0.0</td>\n",
       "      <td>8.5</td>\n",
       "      <td>2.570</td>\n",
       "      <td>260</td>\n",
       "      <td>0.0</td>\n",
       "      <td>9.1</td>\n",
       "      <td>2.570</td>\n",
       "      <td>250</td>\n",
       "      <td>59.41</td>\n",
       "      <td>2.62</td>\n",
       "    </tr>\n",
       "    <tr>\n",
       "      <th>4</th>\n",
       "      <td>2019-01-01 04:00:00</td>\n",
       "      <td>65.16</td>\n",
       "      <td>0.0</td>\n",
       "      <td>8.4</td>\n",
       "      <td>5.140</td>\n",
       "      <td>250</td>\n",
       "      <td>0.0</td>\n",
       "      <td>8.5</td>\n",
       "      <td>2.570</td>\n",
       "      <td>270</td>\n",
       "      <td>0.0</td>\n",
       "      <td>8.8</td>\n",
       "      <td>2.056</td>\n",
       "      <td>250</td>\n",
       "      <td>59.41</td>\n",
       "      <td>2.62</td>\n",
       "    </tr>\n",
       "  </tbody>\n",
       "</table>\n",
       "</div>"
      ],
      "text/plain": [
       "      applicable_date  elec_prices  rain_d  temp_d  wdsp_d  wddir_d  rain_c  \\\n",
       "0 2019-01-01 00:00:00        70.28     0.0     8.8   4.626      250     0.0   \n",
       "1 2019-01-01 01:00:00        65.18     0.0     8.3   4.626      250     0.0   \n",
       "2 2019-01-01 02:00:00        60.91     0.0     8.4   4.112      240     0.0   \n",
       "3 2019-01-01 03:00:00        65.16     0.0     8.6   4.112      250     0.0   \n",
       "4 2019-01-01 04:00:00        65.16     0.0     8.4   5.140      250     0.0   \n",
       "\n",
       "   temp_c  wdsp_c  wddir_c  rain_g  temp_g  wdsp_g  wddir_g  daily_oil_price  \\\n",
       "0     8.5   2.056      240     0.0     9.9   2.056      260            59.41   \n",
       "1     8.5   1.542      270     0.0     9.3   2.056      240            59.41   \n",
       "2     8.4   1.542      280     0.0     9.2   2.570      240            59.41   \n",
       "3     8.5   2.570      260     0.0     9.1   2.570      250            59.41   \n",
       "4     8.5   2.570      270     0.0     8.8   2.056      250            59.41   \n",
       "\n",
       "   daily_natural_gas  \n",
       "0               2.62  \n",
       "1               2.62  \n",
       "2               2.62  \n",
       "3               2.62  \n",
       "4               2.62  "
      ]
     },
     "execution_count": 86,
     "metadata": {},
     "output_type": "execute_result"
    }
   ],
   "source": [
    "data.head()"
   ]
  },
  {
   "cell_type": "code",
   "execution_count": 87,
   "metadata": {},
   "outputs": [
    {
     "data": {
      "text/plain": [
       "(7416, 16)"
      ]
     },
     "execution_count": 87,
     "metadata": {},
     "output_type": "execute_result"
    }
   ],
   "source": [
    "data_= data.copy()\n",
    "data_.shape"
   ]
  },
  {
   "cell_type": "code",
   "execution_count": 88,
   "metadata": {},
   "outputs": [
    {
     "data": {
      "text/plain": [
       "applicable_date      2019-12-12 22:00:00\n",
       "elec_prices                        37.04\n",
       "rain_d                               0.2\n",
       "temp_d                               4.2\n",
       "wdsp_d                             9.766\n",
       "wddir_d                              270\n",
       "rain_c                               0.2\n",
       "temp_c                               4.9\n",
       "wdsp_c                             9.252\n",
       "wddir_c                              280\n",
       "rain_g                               0.5\n",
       "temp_g                               5.3\n",
       "wdsp_g                             5.654\n",
       "wddir_g                              290\n",
       "daily_oil_price                    66.67\n",
       "daily_natural_gas                   2.04\n",
       "Name: 7415, dtype: object"
      ]
     },
     "execution_count": 88,
     "metadata": {},
     "output_type": "execute_result"
    }
   ],
   "source": [
    "data_.iloc[-1]"
   ]
  },
  {
   "cell_type": "code",
   "execution_count": 89,
   "metadata": {},
   "outputs": [
    {
     "data": {
      "text/html": [
       "<div>\n",
       "<style scoped>\n",
       "    .dataframe tbody tr th:only-of-type {\n",
       "        vertical-align: middle;\n",
       "    }\n",
       "\n",
       "    .dataframe tbody tr th {\n",
       "        vertical-align: top;\n",
       "    }\n",
       "\n",
       "    .dataframe thead th {\n",
       "        text-align: right;\n",
       "    }\n",
       "</style>\n",
       "<table border=\"1\" class=\"dataframe\">\n",
       "  <thead>\n",
       "    <tr style=\"text-align: right;\">\n",
       "      <th></th>\n",
       "      <th>applicable_date</th>\n",
       "      <th>elec_prices</th>\n",
       "    </tr>\n",
       "  </thead>\n",
       "  <tbody>\n",
       "    <tr>\n",
       "      <th>0</th>\n",
       "      <td>2019-01-01 00:00:00</td>\n",
       "      <td>70.28</td>\n",
       "    </tr>\n",
       "    <tr>\n",
       "      <th>1</th>\n",
       "      <td>2019-01-01 01:00:00</td>\n",
       "      <td>65.18</td>\n",
       "    </tr>\n",
       "    <tr>\n",
       "      <th>2</th>\n",
       "      <td>2019-01-01 02:00:00</td>\n",
       "      <td>60.91</td>\n",
       "    </tr>\n",
       "    <tr>\n",
       "      <th>3</th>\n",
       "      <td>2019-01-01 03:00:00</td>\n",
       "      <td>65.16</td>\n",
       "    </tr>\n",
       "    <tr>\n",
       "      <th>4</th>\n",
       "      <td>2019-01-01 04:00:00</td>\n",
       "      <td>65.16</td>\n",
       "    </tr>\n",
       "  </tbody>\n",
       "</table>\n",
       "</div>"
      ],
      "text/plain": [
       "      applicable_date  elec_prices\n",
       "0 2019-01-01 00:00:00        70.28\n",
       "1 2019-01-01 01:00:00        65.18\n",
       "2 2019-01-01 02:00:00        60.91\n",
       "3 2019-01-01 03:00:00        65.16\n",
       "4 2019-01-01 04:00:00        65.16"
      ]
     },
     "execution_count": 89,
     "metadata": {},
     "output_type": "execute_result"
    }
   ],
   "source": [
    "time_data= data_.copy()\n",
    "time_data= time_data[['applicable_date','elec_prices']]\n",
    "time_data.head()"
   ]
  },
  {
   "cell_type": "code",
   "execution_count": 90,
   "metadata": {},
   "outputs": [
    {
     "data": {
      "text/html": [
       "<div>\n",
       "<style scoped>\n",
       "    .dataframe tbody tr th:only-of-type {\n",
       "        vertical-align: middle;\n",
       "    }\n",
       "\n",
       "    .dataframe tbody tr th {\n",
       "        vertical-align: top;\n",
       "    }\n",
       "\n",
       "    .dataframe thead th {\n",
       "        text-align: right;\n",
       "    }\n",
       "</style>\n",
       "<table border=\"1\" class=\"dataframe\">\n",
       "  <thead>\n",
       "    <tr style=\"text-align: right;\">\n",
       "      <th></th>\n",
       "      <th>applicable_date</th>\n",
       "      <th>elec_prices</th>\n",
       "      <th>month</th>\n",
       "      <th>day</th>\n",
       "      <th>dayofweek_num</th>\n",
       "      <th>dayofyear_num</th>\n",
       "      <th>weekofyear_num</th>\n",
       "      <th>dayofweek_name</th>\n",
       "      <th>Hour</th>\n",
       "    </tr>\n",
       "  </thead>\n",
       "  <tbody>\n",
       "    <tr>\n",
       "      <th>0</th>\n",
       "      <td>2019-01-01 00:00:00</td>\n",
       "      <td>70.28</td>\n",
       "      <td>1</td>\n",
       "      <td>1</td>\n",
       "      <td>1</td>\n",
       "      <td>1</td>\n",
       "      <td>1</td>\n",
       "      <td>Tuesday</td>\n",
       "      <td>0</td>\n",
       "    </tr>\n",
       "    <tr>\n",
       "      <th>1</th>\n",
       "      <td>2019-01-01 01:00:00</td>\n",
       "      <td>65.18</td>\n",
       "      <td>1</td>\n",
       "      <td>1</td>\n",
       "      <td>1</td>\n",
       "      <td>1</td>\n",
       "      <td>1</td>\n",
       "      <td>Tuesday</td>\n",
       "      <td>1</td>\n",
       "    </tr>\n",
       "    <tr>\n",
       "      <th>2</th>\n",
       "      <td>2019-01-01 02:00:00</td>\n",
       "      <td>60.91</td>\n",
       "      <td>1</td>\n",
       "      <td>1</td>\n",
       "      <td>1</td>\n",
       "      <td>1</td>\n",
       "      <td>1</td>\n",
       "      <td>Tuesday</td>\n",
       "      <td>2</td>\n",
       "    </tr>\n",
       "    <tr>\n",
       "      <th>3</th>\n",
       "      <td>2019-01-01 03:00:00</td>\n",
       "      <td>65.16</td>\n",
       "      <td>1</td>\n",
       "      <td>1</td>\n",
       "      <td>1</td>\n",
       "      <td>1</td>\n",
       "      <td>1</td>\n",
       "      <td>Tuesday</td>\n",
       "      <td>3</td>\n",
       "    </tr>\n",
       "    <tr>\n",
       "      <th>4</th>\n",
       "      <td>2019-01-01 04:00:00</td>\n",
       "      <td>65.16</td>\n",
       "      <td>1</td>\n",
       "      <td>1</td>\n",
       "      <td>1</td>\n",
       "      <td>1</td>\n",
       "      <td>1</td>\n",
       "      <td>Tuesday</td>\n",
       "      <td>4</td>\n",
       "    </tr>\n",
       "  </tbody>\n",
       "</table>\n",
       "</div>"
      ],
      "text/plain": [
       "      applicable_date  elec_prices  month  day  dayofweek_num  dayofyear_num  \\\n",
       "0 2019-01-01 00:00:00        70.28      1    1              1              1   \n",
       "1 2019-01-01 01:00:00        65.18      1    1              1              1   \n",
       "2 2019-01-01 02:00:00        60.91      1    1              1              1   \n",
       "3 2019-01-01 03:00:00        65.16      1    1              1              1   \n",
       "4 2019-01-01 04:00:00        65.16      1    1              1              1   \n",
       "\n",
       "   weekofyear_num dayofweek_name  Hour  \n",
       "0               1        Tuesday     0  \n",
       "1               1        Tuesday     1  \n",
       "2               1        Tuesday     2  \n",
       "3               1        Tuesday     3  \n",
       "4               1        Tuesday     4  "
      ]
     },
     "execution_count": 90,
     "metadata": {},
     "output_type": "execute_result"
    }
   ],
   "source": [
    "#time_data['year']=time_data['applicable_date'].dt.year \n",
    "time_data['month']=time_data['applicable_date'].dt.month \n",
    "time_data['day']=time_data['applicable_date'].dt.day\n",
    "\n",
    "time_data['dayofweek_num']=time_data['applicable_date'].dt.dayofweek\n",
    "time_data['dayofyear_num']=time_data['applicable_date'].dt.dayofyear\n",
    "time_data['weekofyear_num']=time_data['applicable_date'].dt.weekofyear\n",
    "time_data['dayofweek_name']=time_data['applicable_date'].dt.day_name()\n",
    "\n",
    "time_data['Hour'] = time_data['applicable_date'].dt.hour\n",
    "\n",
    "time_data.head()"
   ]
  },
  {
   "cell_type": "code",
   "execution_count": 91,
   "metadata": {},
   "outputs": [
    {
     "data": {
      "text/plain": [
       "False"
      ]
     },
     "execution_count": 91,
     "metadata": {},
     "output_type": "execute_result"
    }
   ],
   "source": [
    "time_data.isnull().values.any()"
   ]
  },
  {
   "cell_type": "markdown",
   "metadata": {},
   "source": [
    "time_data= time_data.drop(['year'], axis=1)\n",
    "time_data.head()"
   ]
  },
  {
   "cell_type": "code",
   "execution_count": 92,
   "metadata": {},
   "outputs": [
    {
     "data": {
      "text/plain": [
       "array([1, 2, 3, 4, 5, 6, 0], dtype=int64)"
      ]
     },
     "execution_count": 92,
     "metadata": {},
     "output_type": "execute_result"
    }
   ],
   "source": [
    "time_data['dayofweek_num'].unique()"
   ]
  },
  {
   "cell_type": "code",
   "execution_count": 93,
   "metadata": {},
   "outputs": [
    {
     "data": {
      "text/plain": [
       "array([  1,   2,   3,   4,   5,   6,   7,   8,   9,  10,  11,  12,  13,\n",
       "        14,  15,  16,  17,  18,  19,  20,  21,  22,  23,  24,  25,  26,\n",
       "        27,  28,  29,  30,  31,  32,  33,  34,  35,  36,  37,  38,  39,\n",
       "        40,  41,  42,  43,  44,  45,  46,  47,  48,  49,  50,  51,  52,\n",
       "        53,  54,  55,  56,  57,  58,  59,  60,  61,  62,  63,  64,  65,\n",
       "        66,  67,  68,  69,  70,  71,  72,  73,  74,  75,  76,  77,  78,\n",
       "        79,  80,  81,  82,  83,  84,  85,  86,  87,  88,  89,  90,  91,\n",
       "        92,  93,  94,  95,  96,  97,  98,  99, 100, 101, 102, 103, 104,\n",
       "       105, 106, 107, 108, 109, 110, 111, 112, 113, 114, 115, 116, 117,\n",
       "       118, 119, 120, 121, 122, 123, 124, 125, 126, 127, 128, 129, 130,\n",
       "       131, 132, 133, 134, 135, 136, 137, 138, 139, 140, 141, 142, 143,\n",
       "       144, 145, 146, 147, 148, 149, 150, 151, 152, 153, 154, 155, 156,\n",
       "       157, 158, 159, 160, 161, 162, 163, 164, 165, 166, 167, 168, 169,\n",
       "       170, 171, 172, 173, 174, 175, 176, 177, 178, 179, 180, 181, 182,\n",
       "       183, 184, 185, 186, 187, 188, 223, 224, 225, 226, 227, 228, 229,\n",
       "       230, 231, 232, 233, 234, 235, 236, 237, 238, 239, 240, 241, 242,\n",
       "       243, 244, 245, 246, 247, 248, 249, 250, 251, 252, 253, 254, 255,\n",
       "       256, 257, 258, 259, 260, 261, 262, 263, 264, 265, 266, 267, 268,\n",
       "       269, 270, 271, 272, 273, 274, 275, 276, 277, 278, 279, 280, 281,\n",
       "       282, 283, 284, 285, 286, 287, 288, 289, 290, 291, 292, 293, 294,\n",
       "       295, 296, 297, 298, 299, 300, 301, 302, 303, 304, 305, 306, 307,\n",
       "       308, 309, 310, 311, 312, 313, 314, 315, 316, 317, 318, 319, 320,\n",
       "       321, 322, 323, 324, 325, 326, 327, 328, 329, 330, 331, 332, 333,\n",
       "       334, 335, 336, 337, 338, 339, 340, 341, 342, 343, 344, 345, 346],\n",
       "      dtype=int64)"
      ]
     },
     "execution_count": 93,
     "metadata": {},
     "output_type": "execute_result"
    }
   ],
   "source": [
    "time_data['dayofyear_num'].unique()"
   ]
  },
  {
   "cell_type": "code",
   "execution_count": 94,
   "metadata": {},
   "outputs": [
    {
     "data": {
      "text/plain": [
       "array([ 1,  2,  3,  4,  5,  6,  7,  8,  9, 10, 11, 12, 13, 14, 15, 16, 17,\n",
       "       18, 19, 20, 21, 22, 23, 24, 25, 26, 27, 32, 33, 34, 35, 36, 37, 38,\n",
       "       39, 40, 41, 42, 43, 44, 45, 46, 47, 48, 49, 50], dtype=int64)"
      ]
     },
     "execution_count": 94,
     "metadata": {},
     "output_type": "execute_result"
    }
   ],
   "source": [
    "time_data['weekofyear_num'].unique()"
   ]
  },
  {
   "cell_type": "code",
   "execution_count": 95,
   "metadata": {},
   "outputs": [
    {
     "data": {
      "text/plain": [
       "array(['Tuesday', 'Wednesday', 'Thursday', 'Friday', 'Saturday', 'Sunday',\n",
       "       'Monday'], dtype=object)"
      ]
     },
     "execution_count": 95,
     "metadata": {},
     "output_type": "execute_result"
    }
   ],
   "source": [
    "time_data['dayofweek_name'].unique()"
   ]
  },
  {
   "cell_type": "code",
   "execution_count": 96,
   "metadata": {},
   "outputs": [
    {
     "data": {
      "text/plain": [
       "array([ 0,  1,  2,  3,  4,  5,  6,  7,  8,  9, 10, 11, 12, 13, 14, 15, 20,\n",
       "       21, 22, 23, 19, 16, 18, 17], dtype=int64)"
      ]
     },
     "execution_count": 96,
     "metadata": {},
     "output_type": "execute_result"
    }
   ],
   "source": [
    "time_data['Hour'].unique()"
   ]
  },
  {
   "cell_type": "code",
   "execution_count": 97,
   "metadata": {},
   "outputs": [
    {
     "name": "stdout",
     "output_type": "stream",
     "text": [
      "Pearsons correlation for month with electricity price: -0.244\n"
     ]
    }
   ],
   "source": [
    "x= time_data['elec_prices'].values\n",
    "y = time_data['month'].values\n",
    "calc_PCC(x,y,'month')"
   ]
  },
  {
   "cell_type": "code",
   "execution_count": 98,
   "metadata": {},
   "outputs": [
    {
     "name": "stdout",
     "output_type": "stream",
     "text": [
      "Pearsons correlation for day with electricity price: -0.005\n"
     ]
    }
   ],
   "source": [
    "y = time_data['day'].values\n",
    "calc_PCC(x,y,'day')"
   ]
  },
  {
   "cell_type": "code",
   "execution_count": 99,
   "metadata": {},
   "outputs": [
    {
     "name": "stdout",
     "output_type": "stream",
     "text": [
      "Pearsons correlation for dayofweek_num with electricity price: -0.128\n"
     ]
    }
   ],
   "source": [
    "y = time_data['dayofweek_num'].values\n",
    "calc_PCC(x,y,'dayofweek_num')"
   ]
  },
  {
   "cell_type": "code",
   "execution_count": 100,
   "metadata": {},
   "outputs": [
    {
     "name": "stdout",
     "output_type": "stream",
     "text": [
      "Pearsons correlation for Hour with electricity price: 0.292\n"
     ]
    }
   ],
   "source": [
    "y = time_data['Hour'].values\n",
    "calc_PCC(x,y,'Hour')"
   ]
  },
  {
   "cell_type": "code",
   "execution_count": 101,
   "metadata": {},
   "outputs": [
    {
     "name": "stdout",
     "output_type": "stream",
     "text": [
      "Pearsons correlation for dayofyear_num with electricity price: -0.244\n"
     ]
    }
   ],
   "source": [
    "y = time_data['dayofyear_num'].values\n",
    "calc_PCC(x,y,'dayofyear_num')"
   ]
  },
  {
   "cell_type": "code",
   "execution_count": 102,
   "metadata": {},
   "outputs": [
    {
     "name": "stdout",
     "output_type": "stream",
     "text": [
      "Pearsons correlation for weekofyear_num with electricity price: -0.241\n"
     ]
    }
   ],
   "source": [
    "y = time_data['weekofyear_num'].values\n",
    "calc_PCC(x,y,'weekofyear_num')"
   ]
  },
  {
   "cell_type": "markdown",
   "metadata": {},
   "source": [
    "### correlation between dayofweek_name & price"
   ]
  },
  {
   "cell_type": "code",
   "execution_count": 103,
   "metadata": {},
   "outputs": [],
   "source": [
    "from sklearn import preprocessing\n",
    "day_name= time_data['dayofweek_name'].values\n",
    "le = preprocessing.LabelEncoder()\n",
    "labels= le.fit_transform(day_name)"
   ]
  },
  {
   "cell_type": "code",
   "execution_count": 104,
   "metadata": {},
   "outputs": [
    {
     "data": {
      "text/plain": [
       "7416"
      ]
     },
     "execution_count": 104,
     "metadata": {},
     "output_type": "execute_result"
    }
   ],
   "source": [
    "len(labels)"
   ]
  },
  {
   "cell_type": "code",
   "execution_count": 105,
   "metadata": {},
   "outputs": [
    {
     "data": {
      "text/plain": [
       "array(['Friday', 'Monday', 'Saturday', 'Sunday', 'Thursday', 'Tuesday',\n",
       "       'Wednesday'], dtype=object)"
      ]
     },
     "execution_count": 105,
     "metadata": {},
     "output_type": "execute_result"
    }
   ],
   "source": [
    "le.classes_"
   ]
  },
  {
   "cell_type": "code",
   "execution_count": 106,
   "metadata": {},
   "outputs": [
    {
     "name": "stdout",
     "output_type": "stream",
     "text": [
      "Pearsons correlation for dayofweek_name with electricity price: 0.039\n"
     ]
    }
   ],
   "source": [
    "y = labels\n",
    "calc_PCC(x,y,'dayofweek_name')"
   ]
  },
  {
   "cell_type": "markdown",
   "metadata": {},
   "source": [
    "### Random forest importance"
   ]
  },
  {
   "cell_type": "code",
   "execution_count": 107,
   "metadata": {},
   "outputs": [
    {
     "data": {
      "text/html": [
       "<div>\n",
       "<style scoped>\n",
       "    .dataframe tbody tr th:only-of-type {\n",
       "        vertical-align: middle;\n",
       "    }\n",
       "\n",
       "    .dataframe tbody tr th {\n",
       "        vertical-align: top;\n",
       "    }\n",
       "\n",
       "    .dataframe thead th {\n",
       "        text-align: right;\n",
       "    }\n",
       "</style>\n",
       "<table border=\"1\" class=\"dataframe\">\n",
       "  <thead>\n",
       "    <tr style=\"text-align: right;\">\n",
       "      <th></th>\n",
       "      <th>applicable_date</th>\n",
       "      <th>elec_prices</th>\n",
       "      <th>month</th>\n",
       "      <th>day</th>\n",
       "      <th>dayofweek_num</th>\n",
       "      <th>dayofyear_num</th>\n",
       "      <th>weekofyear_num</th>\n",
       "      <th>dayofweek_name</th>\n",
       "      <th>Hour</th>\n",
       "    </tr>\n",
       "  </thead>\n",
       "  <tbody>\n",
       "    <tr>\n",
       "      <th>0</th>\n",
       "      <td>2019-01-01 00:00:00</td>\n",
       "      <td>70.28</td>\n",
       "      <td>1</td>\n",
       "      <td>1</td>\n",
       "      <td>1</td>\n",
       "      <td>1</td>\n",
       "      <td>1</td>\n",
       "      <td>Tuesday</td>\n",
       "      <td>0</td>\n",
       "    </tr>\n",
       "    <tr>\n",
       "      <th>1</th>\n",
       "      <td>2019-01-01 01:00:00</td>\n",
       "      <td>65.18</td>\n",
       "      <td>1</td>\n",
       "      <td>1</td>\n",
       "      <td>1</td>\n",
       "      <td>1</td>\n",
       "      <td>1</td>\n",
       "      <td>Tuesday</td>\n",
       "      <td>1</td>\n",
       "    </tr>\n",
       "    <tr>\n",
       "      <th>2</th>\n",
       "      <td>2019-01-01 02:00:00</td>\n",
       "      <td>60.91</td>\n",
       "      <td>1</td>\n",
       "      <td>1</td>\n",
       "      <td>1</td>\n",
       "      <td>1</td>\n",
       "      <td>1</td>\n",
       "      <td>Tuesday</td>\n",
       "      <td>2</td>\n",
       "    </tr>\n",
       "    <tr>\n",
       "      <th>3</th>\n",
       "      <td>2019-01-01 03:00:00</td>\n",
       "      <td>65.16</td>\n",
       "      <td>1</td>\n",
       "      <td>1</td>\n",
       "      <td>1</td>\n",
       "      <td>1</td>\n",
       "      <td>1</td>\n",
       "      <td>Tuesday</td>\n",
       "      <td>3</td>\n",
       "    </tr>\n",
       "    <tr>\n",
       "      <th>4</th>\n",
       "      <td>2019-01-01 04:00:00</td>\n",
       "      <td>65.16</td>\n",
       "      <td>1</td>\n",
       "      <td>1</td>\n",
       "      <td>1</td>\n",
       "      <td>1</td>\n",
       "      <td>1</td>\n",
       "      <td>Tuesday</td>\n",
       "      <td>4</td>\n",
       "    </tr>\n",
       "  </tbody>\n",
       "</table>\n",
       "</div>"
      ],
      "text/plain": [
       "      applicable_date  elec_prices  month  day  dayofweek_num  dayofyear_num  \\\n",
       "0 2019-01-01 00:00:00        70.28      1    1              1              1   \n",
       "1 2019-01-01 01:00:00        65.18      1    1              1              1   \n",
       "2 2019-01-01 02:00:00        60.91      1    1              1              1   \n",
       "3 2019-01-01 03:00:00        65.16      1    1              1              1   \n",
       "4 2019-01-01 04:00:00        65.16      1    1              1              1   \n",
       "\n",
       "   weekofyear_num dayofweek_name  Hour  \n",
       "0               1        Tuesday     0  \n",
       "1               1        Tuesday     1  \n",
       "2               1        Tuesday     2  \n",
       "3               1        Tuesday     3  \n",
       "4               1        Tuesday     4  "
      ]
     },
     "execution_count": 107,
     "metadata": {},
     "output_type": "execute_result"
    }
   ],
   "source": [
    "time_data.head()"
   ]
  },
  {
   "cell_type": "code",
   "execution_count": 108,
   "metadata": {},
   "outputs": [
    {
     "name": "stdout",
     "output_type": "stream",
     "text": [
      "(7416, 7)\n",
      "(7416,)\n"
     ]
    }
   ],
   "source": [
    "y= time_data['elec_prices']\n",
    "X= time_data.drop(['applicable_date','elec_prices'], axis=1)\n",
    "X['dayofweek_name']= labels\n",
    "print(X.shape)\n",
    "print(y.shape)"
   ]
  },
  {
   "cell_type": "code",
   "execution_count": 109,
   "metadata": {},
   "outputs": [
    {
     "data": {
      "text/html": [
       "<div>\n",
       "<style scoped>\n",
       "    .dataframe tbody tr th:only-of-type {\n",
       "        vertical-align: middle;\n",
       "    }\n",
       "\n",
       "    .dataframe tbody tr th {\n",
       "        vertical-align: top;\n",
       "    }\n",
       "\n",
       "    .dataframe thead th {\n",
       "        text-align: right;\n",
       "    }\n",
       "</style>\n",
       "<table border=\"1\" class=\"dataframe\">\n",
       "  <thead>\n",
       "    <tr style=\"text-align: right;\">\n",
       "      <th></th>\n",
       "      <th>month</th>\n",
       "      <th>day</th>\n",
       "      <th>dayofweek_num</th>\n",
       "      <th>dayofyear_num</th>\n",
       "      <th>weekofyear_num</th>\n",
       "      <th>dayofweek_name</th>\n",
       "      <th>Hour</th>\n",
       "    </tr>\n",
       "  </thead>\n",
       "  <tbody>\n",
       "    <tr>\n",
       "      <th>0</th>\n",
       "      <td>1</td>\n",
       "      <td>1</td>\n",
       "      <td>1</td>\n",
       "      <td>1</td>\n",
       "      <td>1</td>\n",
       "      <td>5</td>\n",
       "      <td>0</td>\n",
       "    </tr>\n",
       "    <tr>\n",
       "      <th>1</th>\n",
       "      <td>1</td>\n",
       "      <td>1</td>\n",
       "      <td>1</td>\n",
       "      <td>1</td>\n",
       "      <td>1</td>\n",
       "      <td>5</td>\n",
       "      <td>1</td>\n",
       "    </tr>\n",
       "    <tr>\n",
       "      <th>2</th>\n",
       "      <td>1</td>\n",
       "      <td>1</td>\n",
       "      <td>1</td>\n",
       "      <td>1</td>\n",
       "      <td>1</td>\n",
       "      <td>5</td>\n",
       "      <td>2</td>\n",
       "    </tr>\n",
       "    <tr>\n",
       "      <th>3</th>\n",
       "      <td>1</td>\n",
       "      <td>1</td>\n",
       "      <td>1</td>\n",
       "      <td>1</td>\n",
       "      <td>1</td>\n",
       "      <td>5</td>\n",
       "      <td>3</td>\n",
       "    </tr>\n",
       "    <tr>\n",
       "      <th>4</th>\n",
       "      <td>1</td>\n",
       "      <td>1</td>\n",
       "      <td>1</td>\n",
       "      <td>1</td>\n",
       "      <td>1</td>\n",
       "      <td>5</td>\n",
       "      <td>4</td>\n",
       "    </tr>\n",
       "  </tbody>\n",
       "</table>\n",
       "</div>"
      ],
      "text/plain": [
       "   month  day  dayofweek_num  dayofyear_num  weekofyear_num  dayofweek_name  \\\n",
       "0      1    1              1              1               1               5   \n",
       "1      1    1              1              1               1               5   \n",
       "2      1    1              1              1               1               5   \n",
       "3      1    1              1              1               1               5   \n",
       "4      1    1              1              1               1               5   \n",
       "\n",
       "   Hour  \n",
       "0     0  \n",
       "1     1  \n",
       "2     2  \n",
       "3     3  \n",
       "4     4  "
      ]
     },
     "execution_count": 109,
     "metadata": {},
     "output_type": "execute_result"
    }
   ],
   "source": [
    "X.head()"
   ]
  },
  {
   "cell_type": "code",
   "execution_count": 110,
   "metadata": {},
   "outputs": [
    {
     "data": {
      "text/plain": [
       "0    70.28\n",
       "1    65.18\n",
       "2    60.91\n",
       "3    65.16\n",
       "4    65.16\n",
       "Name: elec_prices, dtype: float64"
      ]
     },
     "execution_count": 110,
     "metadata": {},
     "output_type": "execute_result"
    }
   ],
   "source": [
    "y.head()"
   ]
  },
  {
   "cell_type": "code",
   "execution_count": 111,
   "metadata": {},
   "outputs": [
    {
     "name": "stdout",
     "output_type": "stream",
     "text": [
      "Feature: 0, Score: 0.00951\n",
      "Feature: 1, Score: 0.11358\n",
      "Feature: 2, Score: 0.07361\n",
      "Feature: 3, Score: 0.37492\n",
      "Feature: 4, Score: 0.04324\n",
      "Feature: 5, Score: 0.03568\n",
      "Feature: 6, Score: 0.34946\n"
     ]
    }
   ],
   "source": [
    "from sklearn.ensemble import RandomForestRegressor\n",
    "from matplotlib import pyplot\n",
    "\n",
    "model = RandomForestRegressor()\n",
    "model.fit(X, y)\n",
    "importance = model.feature_importances_\n",
    "\n",
    "for i,v in enumerate(importance):\n",
    "    print('Feature: %0d, Score: %.5f' % (i,v))"
   ]
  },
  {
   "cell_type": "code",
   "execution_count": 112,
   "metadata": {},
   "outputs": [
    {
     "data": {
      "text/plain": [
       "['month',\n",
       " 'day',\n",
       " 'dayofweek_num',\n",
       " 'dayofyear_num',\n",
       " 'weekofyear_num',\n",
       " 'dayofweek_name',\n",
       " 'Hour']"
      ]
     },
     "execution_count": 112,
     "metadata": {},
     "output_type": "execute_result"
    }
   ],
   "source": [
    "X.columns.tolist()"
   ]
  },
  {
   "cell_type": "code",
   "execution_count": 113,
   "metadata": {},
   "outputs": [
    {
     "data": {
      "image/png": "[encoded data removed]",
      "text/plain": [
       "<Figure size 1080x432 with 1 Axes>"
      ]
     },
     "metadata": {
      "needs_background": "light"
     },
     "output_type": "display_data"
    }
   ],
   "source": [
    "# plot feature importance\n",
    "cols= X.columns.tolist()\n",
    "plt.figure(figsize=(15,6))\n",
    "pyplot.bar([cols[x] for x in range(len(importance))], importance)\n",
    "pyplot.show()"
   ]
  },
  {
   "cell_type": "code",
   "execution_count": null,
   "metadata": {},
   "outputs": [],
   "source": []
  }
 ],
 "metadata": {
  "kernelspec": {
   "display_name": "Python 3",
   "language": "python",
   "name": "python3"
  },
  "language_info": {
   "codemirror_mode": {
    "name": "ipython",
    "version": 3
   },
   "file_extension": ".py",
   "mimetype": "text/x-python",
   "name": "python",
   "nbconvert_exporter": "python",
   "pygments_lexer": "ipython3",
   "version": "3.8.3"
  }
 },
 "nbformat": 4,
 "nbformat_minor": 4
}
