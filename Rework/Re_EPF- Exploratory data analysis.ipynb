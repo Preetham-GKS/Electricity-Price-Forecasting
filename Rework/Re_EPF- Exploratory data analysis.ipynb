{
 "cells": [
  {
   "cell_type": "markdown",
   "metadata": {},
   "source": [
    "# Electricity price forecasting"
   ]
  },
  {
   "cell_type": "code",
   "execution_count": 1,
   "metadata": {},
   "outputs": [],
   "source": [
    "import pandas as pd\n",
    "import numpy as np\n",
    "import warnings\n",
    "warnings.filterwarnings(\"ignore\")\n",
    "from datetime import datetime\n",
    "import sqlite3\n",
    "import pandas as pd\n",
    "import numpy as np\n",
    "import matplotlib.pyplot as plt\n",
    "%matplotlib notebook\n",
    "%matplotlib inline\n",
    "import seaborn as sns\n",
    "import pickle\n",
    "from tqdm import tqdm\n",
    "import math\n",
    "import os"
   ]
  },
  {
   "cell_type": "code",
   "execution_count": 2,
   "metadata": {},
   "outputs": [
    {
     "name": "stdout",
     "output_type": "stream",
     "text": [
      "(8304, 16)\n"
     ]
    },
    {
     "data": {
      "text/html": [
       "<div>\n",
       "<style scoped>\n",
       "    .dataframe tbody tr th:only-of-type {\n",
       "        vertical-align: middle;\n",
       "    }\n",
       "\n",
       "    .dataframe tbody tr th {\n",
       "        vertical-align: top;\n",
       "    }\n",
       "\n",
       "    .dataframe thead th {\n",
       "        text-align: right;\n",
       "    }\n",
       "</style>\n",
       "<table border=\"1\" class=\"dataframe\">\n",
       "  <thead>\n",
       "    <tr style=\"text-align: right;\">\n",
       "      <th></th>\n",
       "      <th>applicable_date</th>\n",
       "      <th>elec_prices</th>\n",
       "      <th>rain_d</th>\n",
       "      <th>temp_d</th>\n",
       "      <th>wdsp_d</th>\n",
       "      <th>wddir_d</th>\n",
       "      <th>rain_c</th>\n",
       "      <th>temp_c</th>\n",
       "      <th>wdsp_c</th>\n",
       "      <th>wddir_c</th>\n",
       "      <th>rain_g</th>\n",
       "      <th>temp_g</th>\n",
       "      <th>wdsp_g</th>\n",
       "      <th>wddir_g</th>\n",
       "      <th>daily_oil_price</th>\n",
       "      <th>daily_natural_gas</th>\n",
       "    </tr>\n",
       "  </thead>\n",
       "  <tbody>\n",
       "    <tr>\n",
       "      <th>0</th>\n",
       "      <td>2019-01-01 00:00:00</td>\n",
       "      <td>70.28</td>\n",
       "      <td>0.0</td>\n",
       "      <td>8.8</td>\n",
       "      <td>4.626</td>\n",
       "      <td>250</td>\n",
       "      <td>0.0</td>\n",
       "      <td>8.5</td>\n",
       "      <td>2.056</td>\n",
       "      <td>240</td>\n",
       "      <td>0.0</td>\n",
       "      <td>9.9</td>\n",
       "      <td>2.056</td>\n",
       "      <td>260</td>\n",
       "      <td>59.41</td>\n",
       "      <td>2.61649</td>\n",
       "    </tr>\n",
       "    <tr>\n",
       "      <th>1</th>\n",
       "      <td>2019-01-01 01:00:00</td>\n",
       "      <td>65.18</td>\n",
       "      <td>0.0</td>\n",
       "      <td>8.3</td>\n",
       "      <td>4.626</td>\n",
       "      <td>250</td>\n",
       "      <td>0.0</td>\n",
       "      <td>8.5</td>\n",
       "      <td>1.542</td>\n",
       "      <td>270</td>\n",
       "      <td>0.0</td>\n",
       "      <td>9.3</td>\n",
       "      <td>2.056</td>\n",
       "      <td>240</td>\n",
       "      <td>59.41</td>\n",
       "      <td>2.61649</td>\n",
       "    </tr>\n",
       "    <tr>\n",
       "      <th>2</th>\n",
       "      <td>2019-01-01 02:00:00</td>\n",
       "      <td>60.91</td>\n",
       "      <td>0.0</td>\n",
       "      <td>8.4</td>\n",
       "      <td>4.112</td>\n",
       "      <td>240</td>\n",
       "      <td>0.0</td>\n",
       "      <td>8.4</td>\n",
       "      <td>1.542</td>\n",
       "      <td>280</td>\n",
       "      <td>0.0</td>\n",
       "      <td>9.2</td>\n",
       "      <td>2.570</td>\n",
       "      <td>240</td>\n",
       "      <td>59.41</td>\n",
       "      <td>2.61649</td>\n",
       "    </tr>\n",
       "    <tr>\n",
       "      <th>3</th>\n",
       "      <td>2019-01-01 03:00:00</td>\n",
       "      <td>65.16</td>\n",
       "      <td>0.0</td>\n",
       "      <td>8.6</td>\n",
       "      <td>4.112</td>\n",
       "      <td>250</td>\n",
       "      <td>0.0</td>\n",
       "      <td>8.5</td>\n",
       "      <td>2.570</td>\n",
       "      <td>260</td>\n",
       "      <td>0.0</td>\n",
       "      <td>9.1</td>\n",
       "      <td>2.570</td>\n",
       "      <td>250</td>\n",
       "      <td>59.41</td>\n",
       "      <td>2.61649</td>\n",
       "    </tr>\n",
       "    <tr>\n",
       "      <th>4</th>\n",
       "      <td>2019-01-01 04:00:00</td>\n",
       "      <td>65.16</td>\n",
       "      <td>0.0</td>\n",
       "      <td>8.4</td>\n",
       "      <td>5.140</td>\n",
       "      <td>250</td>\n",
       "      <td>0.0</td>\n",
       "      <td>8.5</td>\n",
       "      <td>2.570</td>\n",
       "      <td>270</td>\n",
       "      <td>0.0</td>\n",
       "      <td>8.8</td>\n",
       "      <td>2.056</td>\n",
       "      <td>250</td>\n",
       "      <td>59.41</td>\n",
       "      <td>2.61649</td>\n",
       "    </tr>\n",
       "  </tbody>\n",
       "</table>\n",
       "</div>"
      ],
      "text/plain": [
       "      applicable_date  elec_prices  rain_d  temp_d  wdsp_d  wddir_d  rain_c  \\\n",
       "0 2019-01-01 00:00:00        70.28     0.0     8.8   4.626      250     0.0   \n",
       "1 2019-01-01 01:00:00        65.18     0.0     8.3   4.626      250     0.0   \n",
       "2 2019-01-01 02:00:00        60.91     0.0     8.4   4.112      240     0.0   \n",
       "3 2019-01-01 03:00:00        65.16     0.0     8.6   4.112      250     0.0   \n",
       "4 2019-01-01 04:00:00        65.16     0.0     8.4   5.140      250     0.0   \n",
       "\n",
       "   temp_c  wdsp_c  wddir_c  rain_g  temp_g  wdsp_g  wddir_g  daily_oil_price  \\\n",
       "0     8.5   2.056      240     0.0     9.9   2.056      260            59.41   \n",
       "1     8.5   1.542      270     0.0     9.3   2.056      240            59.41   \n",
       "2     8.4   1.542      280     0.0     9.2   2.570      240            59.41   \n",
       "3     8.5   2.570      260     0.0     9.1   2.570      250            59.41   \n",
       "4     8.5   2.570      270     0.0     8.8   2.056      250            59.41   \n",
       "\n",
       "   daily_natural_gas  \n",
       "0            2.61649  \n",
       "1            2.61649  \n",
       "2            2.61649  \n",
       "3            2.61649  \n",
       "4            2.61649  "
      ]
     },
     "execution_count": 2,
     "metadata": {},
     "output_type": "execute_result"
    }
   ],
   "source": [
    "file= 'E:\\CIT\\MSc_AI\\Research project_NIMBUS\\Rework\\corrected_data.xlsx'\n",
    "data= pd.read_excel(file, sheet_name='data_2019')\n",
    "print(data.shape)\n",
    "data.head(5)"
   ]
  },
  {
   "cell_type": "code",
   "execution_count": 3,
   "metadata": {},
   "outputs": [
    {
     "data": {
      "text/plain": [
       "False"
      ]
     },
     "execution_count": 3,
     "metadata": {},
     "output_type": "execute_result"
    }
   ],
   "source": [
    "data.isnull().values.any()"
   ]
  },
  {
   "cell_type": "markdown",
   "metadata": {},
   "source": [
    "## Exploratory data analysis"
   ]
  },
  {
   "cell_type": "code",
   "execution_count": 4,
   "metadata": {},
   "outputs": [],
   "source": [
    "def plot_pdf(data,feature):\n",
    "    import warnings \n",
    "    warnings.filterwarnings(\"ignore\")\n",
    "\n",
    "    sns.FacetGrid(data,size=5) \\\n",
    "       .map(sns.distplot,feature) \\\n",
    "       .add_legend()\n",
    "    plt.xlabel(feature +\" in €\")\n",
    "    plt.ylabel('PDF')\n",
    "    plt.title(\"Probability distribution of \"+feature)\n",
    "    plt.grid()\n",
    "    plt.show()"
   ]
  },
  {
   "cell_type": "code",
   "execution_count": 5,
   "metadata": {},
   "outputs": [],
   "source": [
    "def scatter_plot(x,y,col_name):\n",
    "    plt.figure(figsize=(15,6))\n",
    "    plt.plot(x, y, 'o', color='blue')\n",
    "    plt.title(\"Scatter plot of \"+col_name)\n",
    "    plt.xlabel(\"instances\")\n",
    "    plt.ylabel(col_name)"
   ]
  },
  {
   "cell_type": "markdown",
   "metadata": {},
   "source": [
    "### Univariate Analysis of the target variable (price) "
   ]
  },
  {
   "cell_type": "code",
   "execution_count": 6,
   "metadata": {},
   "outputs": [
    {
     "data": {
      "text/plain": [
       "count    8304.000000\n",
       "mean       50.572471\n",
       "std        23.430899\n",
       "min       -11.860000\n",
       "25%        38.417500\n",
       "50%        47.394000\n",
       "75%        59.000000\n",
       "max       365.040000\n",
       "Name: elec_prices, dtype: float64"
      ]
     },
     "execution_count": 6,
     "metadata": {},
     "output_type": "execute_result"
    }
   ],
   "source": [
    "# Basic stats:\n",
    "data.elec_prices.describe()"
   ]
  },
  {
   "cell_type": "code",
   "execution_count": 7,
   "metadata": {},
   "outputs": [
    {
     "data": {
      "image/png": "[encoded data removed]",
      "text/plain": [
       "<Figure size 368x360 with 1 Axes>"
      ]
     },
     "metadata": {
      "needs_background": "light"
     },
     "output_type": "display_data"
    }
   ],
   "source": [
    "plot_pdf(data,'elec_prices')"
   ]
  },
  {
   "cell_type": "code",
   "execution_count": 8,
   "metadata": {},
   "outputs": [
    {
     "data": {
      "image/png": "[encoded data removed]",
      "text/plain": [
       "<Figure size 1080x432 with 1 Axes>"
      ]
     },
     "metadata": {
      "needs_background": "light"
     },
     "output_type": "display_data"
    }
   ],
   "source": [
    "scatter_plot(range(data.shape[0]),data[\"elec_prices\"].values,'elec_prices')"
   ]
  },
  {
   "cell_type": "code",
   "execution_count": 9,
   "metadata": {},
   "outputs": [
    {
     "data": {
      "text/plain": [
       "Text(0, 0.5, 'elec_prices')"
      ]
     },
     "execution_count": 9,
     "metadata": {},
     "output_type": "execute_result"
    },
    {
     "data": {
      "image/png": "[encoded data removed]",
      "text/plain": [
       "<Figure size 1296x576 with 1 Axes>"
      ]
     },
     "metadata": {
      "needs_background": "light"
     },
     "output_type": "display_data"
    }
   ],
   "source": [
    "plt.figure(figsize=(18,8))\n",
    "plt.plot(range(data.shape[0]), data[\"elec_prices\"].values,color='red')\n",
    "plt.title(\"Line plot of elec_prices\")\n",
    "plt.xlabel(\"instances\")\n",
    "plt.ylabel(\"elec_prices\")"
   ]
  },
  {
   "cell_type": "markdown",
   "metadata": {},
   "source": [
    "### Feature correlation"
   ]
  },
  {
   "cell_type": "code",
   "execution_count": 10,
   "metadata": {},
   "outputs": [],
   "source": [
    "from scipy.stats import pearsonr\n",
    "def calc_PCC(x,y,feature):\n",
    "    '''Function that takes 2 continuous variables and returns the PCC value'''\n",
    "    corr, _ = pearsonr(x, y)\n",
    "    print('Pearsons correlation for '+feature+ ' with electricity price: %.3f' % corr)"
   ]
  },
  {
   "cell_type": "code",
   "execution_count": 12,
   "metadata": {},
   "outputs": [
    {
     "name": "stdout",
     "output_type": "stream",
     "text": [
      "Pearsons correlation for rain_d with electricity price: -0.035\n",
      "Pearsons correlation for temp_d with electricity price: -0.143\n",
      "Pearsons correlation for wdsp_d with electricity price: -0.237\n",
      "Pearsons correlation for wddir_d with electricity price: -0.004\n",
      "Pearsons correlation for rain_c with electricity price: -0.054\n",
      "Pearsons correlation for temp_c with electricity price: -0.120\n",
      "Pearsons correlation for wdsp_c with electricity price: -0.286\n",
      "Pearsons correlation for wddir_c with electricity price: -0.038\n",
      "Pearsons correlation for rain_g with electricity price: -0.090\n",
      "Pearsons correlation for temp_g with electricity price: -0.107\n",
      "Pearsons correlation for wdsp_g with electricity price: -0.315\n",
      "Pearsons correlation for wddir_g with electricity price: -0.039\n",
      "Pearsons correlation for daily_oil_price with electricity price: -0.088\n",
      "Pearsons correlation for daily_natural_gas with electricity price: 0.259\n"
     ]
    }
   ],
   "source": [
    "cols = data.columns.to_list()\n",
    "x= data.elec_prices.values\n",
    "for col in range(2,len(cols)):\n",
    "    y = data[cols[col]].values\n",
    "    calc_PCC(x,y,cols[col])"
   ]
  },
  {
   "cell_type": "markdown",
   "metadata": {},
   "source": [
    "### Feature engineering"
   ]
  },
  {
   "cell_type": "code",
   "execution_count": 13,
   "metadata": {},
   "outputs": [
    {
     "data": {
      "text/html": [
       "<div>\n",
       "<style scoped>\n",
       "    .dataframe tbody tr th:only-of-type {\n",
       "        vertical-align: middle;\n",
       "    }\n",
       "\n",
       "    .dataframe tbody tr th {\n",
       "        vertical-align: top;\n",
       "    }\n",
       "\n",
       "    .dataframe thead th {\n",
       "        text-align: right;\n",
       "    }\n",
       "</style>\n",
       "<table border=\"1\" class=\"dataframe\">\n",
       "  <thead>\n",
       "    <tr style=\"text-align: right;\">\n",
       "      <th></th>\n",
       "      <th>applicable_date</th>\n",
       "      <th>elec_prices</th>\n",
       "      <th>rain_d</th>\n",
       "      <th>temp_d</th>\n",
       "      <th>wdsp_d</th>\n",
       "      <th>wddir_d</th>\n",
       "      <th>rain_c</th>\n",
       "      <th>temp_c</th>\n",
       "      <th>wdsp_c</th>\n",
       "      <th>wddir_c</th>\n",
       "      <th>rain_g</th>\n",
       "      <th>temp_g</th>\n",
       "      <th>wdsp_g</th>\n",
       "      <th>wddir_g</th>\n",
       "      <th>daily_oil_price</th>\n",
       "      <th>daily_natural_gas</th>\n",
       "    </tr>\n",
       "  </thead>\n",
       "  <tbody>\n",
       "    <tr>\n",
       "      <th>0</th>\n",
       "      <td>2019-01-01 00:00:00</td>\n",
       "      <td>70.28</td>\n",
       "      <td>0.0</td>\n",
       "      <td>8.8</td>\n",
       "      <td>4.626</td>\n",
       "      <td>250</td>\n",
       "      <td>0.0</td>\n",
       "      <td>8.5</td>\n",
       "      <td>2.056</td>\n",
       "      <td>240</td>\n",
       "      <td>0.0</td>\n",
       "      <td>9.9</td>\n",
       "      <td>2.056</td>\n",
       "      <td>260</td>\n",
       "      <td>59.41</td>\n",
       "      <td>2.61649</td>\n",
       "    </tr>\n",
       "    <tr>\n",
       "      <th>1</th>\n",
       "      <td>2019-01-01 01:00:00</td>\n",
       "      <td>65.18</td>\n",
       "      <td>0.0</td>\n",
       "      <td>8.3</td>\n",
       "      <td>4.626</td>\n",
       "      <td>250</td>\n",
       "      <td>0.0</td>\n",
       "      <td>8.5</td>\n",
       "      <td>1.542</td>\n",
       "      <td>270</td>\n",
       "      <td>0.0</td>\n",
       "      <td>9.3</td>\n",
       "      <td>2.056</td>\n",
       "      <td>240</td>\n",
       "      <td>59.41</td>\n",
       "      <td>2.61649</td>\n",
       "    </tr>\n",
       "    <tr>\n",
       "      <th>2</th>\n",
       "      <td>2019-01-01 02:00:00</td>\n",
       "      <td>60.91</td>\n",
       "      <td>0.0</td>\n",
       "      <td>8.4</td>\n",
       "      <td>4.112</td>\n",
       "      <td>240</td>\n",
       "      <td>0.0</td>\n",
       "      <td>8.4</td>\n",
       "      <td>1.542</td>\n",
       "      <td>280</td>\n",
       "      <td>0.0</td>\n",
       "      <td>9.2</td>\n",
       "      <td>2.570</td>\n",
       "      <td>240</td>\n",
       "      <td>59.41</td>\n",
       "      <td>2.61649</td>\n",
       "    </tr>\n",
       "    <tr>\n",
       "      <th>3</th>\n",
       "      <td>2019-01-01 03:00:00</td>\n",
       "      <td>65.16</td>\n",
       "      <td>0.0</td>\n",
       "      <td>8.6</td>\n",
       "      <td>4.112</td>\n",
       "      <td>250</td>\n",
       "      <td>0.0</td>\n",
       "      <td>8.5</td>\n",
       "      <td>2.570</td>\n",
       "      <td>260</td>\n",
       "      <td>0.0</td>\n",
       "      <td>9.1</td>\n",
       "      <td>2.570</td>\n",
       "      <td>250</td>\n",
       "      <td>59.41</td>\n",
       "      <td>2.61649</td>\n",
       "    </tr>\n",
       "    <tr>\n",
       "      <th>4</th>\n",
       "      <td>2019-01-01 04:00:00</td>\n",
       "      <td>65.16</td>\n",
       "      <td>0.0</td>\n",
       "      <td>8.4</td>\n",
       "      <td>5.140</td>\n",
       "      <td>250</td>\n",
       "      <td>0.0</td>\n",
       "      <td>8.5</td>\n",
       "      <td>2.570</td>\n",
       "      <td>270</td>\n",
       "      <td>0.0</td>\n",
       "      <td>8.8</td>\n",
       "      <td>2.056</td>\n",
       "      <td>250</td>\n",
       "      <td>59.41</td>\n",
       "      <td>2.61649</td>\n",
       "    </tr>\n",
       "  </tbody>\n",
       "</table>\n",
       "</div>"
      ],
      "text/plain": [
       "      applicable_date  elec_prices  rain_d  temp_d  wdsp_d  wddir_d  rain_c  \\\n",
       "0 2019-01-01 00:00:00        70.28     0.0     8.8   4.626      250     0.0   \n",
       "1 2019-01-01 01:00:00        65.18     0.0     8.3   4.626      250     0.0   \n",
       "2 2019-01-01 02:00:00        60.91     0.0     8.4   4.112      240     0.0   \n",
       "3 2019-01-01 03:00:00        65.16     0.0     8.6   4.112      250     0.0   \n",
       "4 2019-01-01 04:00:00        65.16     0.0     8.4   5.140      250     0.0   \n",
       "\n",
       "   temp_c  wdsp_c  wddir_c  rain_g  temp_g  wdsp_g  wddir_g  daily_oil_price  \\\n",
       "0     8.5   2.056      240     0.0     9.9   2.056      260            59.41   \n",
       "1     8.5   1.542      270     0.0     9.3   2.056      240            59.41   \n",
       "2     8.4   1.542      280     0.0     9.2   2.570      240            59.41   \n",
       "3     8.5   2.570      260     0.0     9.1   2.570      250            59.41   \n",
       "4     8.5   2.570      270     0.0     8.8   2.056      250            59.41   \n",
       "\n",
       "   daily_natural_gas  \n",
       "0            2.61649  \n",
       "1            2.61649  \n",
       "2            2.61649  \n",
       "3            2.61649  \n",
       "4            2.61649  "
      ]
     },
     "execution_count": 13,
     "metadata": {},
     "output_type": "execute_result"
    }
   ],
   "source": [
    "data.head()"
   ]
  },
  {
   "cell_type": "code",
   "execution_count": 14,
   "metadata": {},
   "outputs": [
    {
     "data": {
      "text/html": [
       "<div>\n",
       "<style scoped>\n",
       "    .dataframe tbody tr th:only-of-type {\n",
       "        vertical-align: middle;\n",
       "    }\n",
       "\n",
       "    .dataframe tbody tr th {\n",
       "        vertical-align: top;\n",
       "    }\n",
       "\n",
       "    .dataframe thead th {\n",
       "        text-align: right;\n",
       "    }\n",
       "</style>\n",
       "<table border=\"1\" class=\"dataframe\">\n",
       "  <thead>\n",
       "    <tr style=\"text-align: right;\">\n",
       "      <th></th>\n",
       "      <th>applicable_date</th>\n",
       "      <th>elec_prices</th>\n",
       "      <th>rain_d</th>\n",
       "      <th>temp_d</th>\n",
       "      <th>wdsp_d</th>\n",
       "      <th>wddir_d</th>\n",
       "      <th>rain_c</th>\n",
       "      <th>temp_c</th>\n",
       "      <th>wdsp_c</th>\n",
       "      <th>wddir_c</th>\n",
       "      <th>rain_g</th>\n",
       "      <th>temp_g</th>\n",
       "      <th>wdsp_g</th>\n",
       "      <th>wddir_g</th>\n",
       "      <th>daily_oil_price</th>\n",
       "      <th>daily_natural_gas</th>\n",
       "    </tr>\n",
       "  </thead>\n",
       "  <tbody>\n",
       "    <tr>\n",
       "      <th>8299</th>\n",
       "      <td>2019-12-12 19:00:00</td>\n",
       "      <td>49.733</td>\n",
       "      <td>0.8</td>\n",
       "      <td>6.9</td>\n",
       "      <td>3.084</td>\n",
       "      <td>230</td>\n",
       "      <td>0.4</td>\n",
       "      <td>6.9</td>\n",
       "      <td>10.794</td>\n",
       "      <td>280</td>\n",
       "      <td>1.1</td>\n",
       "      <td>5.7</td>\n",
       "      <td>6.682</td>\n",
       "      <td>300</td>\n",
       "      <td>66.67</td>\n",
       "      <td>2.03604</td>\n",
       "    </tr>\n",
       "    <tr>\n",
       "      <th>8300</th>\n",
       "      <td>2019-12-12 20:00:00</td>\n",
       "      <td>47.186</td>\n",
       "      <td>2.4</td>\n",
       "      <td>5.8</td>\n",
       "      <td>4.112</td>\n",
       "      <td>240</td>\n",
       "      <td>0.1</td>\n",
       "      <td>6.3</td>\n",
       "      <td>10.280</td>\n",
       "      <td>280</td>\n",
       "      <td>0.8</td>\n",
       "      <td>5.3</td>\n",
       "      <td>5.140</td>\n",
       "      <td>280</td>\n",
       "      <td>66.67</td>\n",
       "      <td>2.03604</td>\n",
       "    </tr>\n",
       "    <tr>\n",
       "      <th>8301</th>\n",
       "      <td>2019-12-12 21:00:00</td>\n",
       "      <td>37.410</td>\n",
       "      <td>2.0</td>\n",
       "      <td>5.1</td>\n",
       "      <td>7.710</td>\n",
       "      <td>270</td>\n",
       "      <td>0.0</td>\n",
       "      <td>5.9</td>\n",
       "      <td>9.252</td>\n",
       "      <td>280</td>\n",
       "      <td>0.2</td>\n",
       "      <td>5.1</td>\n",
       "      <td>5.654</td>\n",
       "      <td>280</td>\n",
       "      <td>66.67</td>\n",
       "      <td>2.03604</td>\n",
       "    </tr>\n",
       "    <tr>\n",
       "      <th>8302</th>\n",
       "      <td>2019-12-12 22:00:00</td>\n",
       "      <td>37.040</td>\n",
       "      <td>0.2</td>\n",
       "      <td>4.2</td>\n",
       "      <td>9.766</td>\n",
       "      <td>270</td>\n",
       "      <td>0.2</td>\n",
       "      <td>4.9</td>\n",
       "      <td>9.252</td>\n",
       "      <td>280</td>\n",
       "      <td>0.5</td>\n",
       "      <td>5.3</td>\n",
       "      <td>5.654</td>\n",
       "      <td>290</td>\n",
       "      <td>66.67</td>\n",
       "      <td>2.03604</td>\n",
       "    </tr>\n",
       "    <tr>\n",
       "      <th>8303</th>\n",
       "      <td>2019-12-12 23:00:00</td>\n",
       "      <td>35.000</td>\n",
       "      <td>0.0</td>\n",
       "      <td>4.4</td>\n",
       "      <td>8.224</td>\n",
       "      <td>270</td>\n",
       "      <td>0.0</td>\n",
       "      <td>5.4</td>\n",
       "      <td>9.766</td>\n",
       "      <td>280</td>\n",
       "      <td>0.4</td>\n",
       "      <td>5.2</td>\n",
       "      <td>6.682</td>\n",
       "      <td>280</td>\n",
       "      <td>66.67</td>\n",
       "      <td>2.03604</td>\n",
       "    </tr>\n",
       "  </tbody>\n",
       "</table>\n",
       "</div>"
      ],
      "text/plain": [
       "         applicable_date  elec_prices  rain_d  temp_d  wdsp_d  wddir_d  \\\n",
       "8299 2019-12-12 19:00:00       49.733     0.8     6.9   3.084      230   \n",
       "8300 2019-12-12 20:00:00       47.186     2.4     5.8   4.112      240   \n",
       "8301 2019-12-12 21:00:00       37.410     2.0     5.1   7.710      270   \n",
       "8302 2019-12-12 22:00:00       37.040     0.2     4.2   9.766      270   \n",
       "8303 2019-12-12 23:00:00       35.000     0.0     4.4   8.224      270   \n",
       "\n",
       "      rain_c  temp_c  wdsp_c  wddir_c  rain_g  temp_g  wdsp_g  wddir_g  \\\n",
       "8299     0.4     6.9  10.794      280     1.1     5.7   6.682      300   \n",
       "8300     0.1     6.3  10.280      280     0.8     5.3   5.140      280   \n",
       "8301     0.0     5.9   9.252      280     0.2     5.1   5.654      280   \n",
       "8302     0.2     4.9   9.252      280     0.5     5.3   5.654      290   \n",
       "8303     0.0     5.4   9.766      280     0.4     5.2   6.682      280   \n",
       "\n",
       "      daily_oil_price  daily_natural_gas  \n",
       "8299            66.67            2.03604  \n",
       "8300            66.67            2.03604  \n",
       "8301            66.67            2.03604  \n",
       "8302            66.67            2.03604  \n",
       "8303            66.67            2.03604  "
      ]
     },
     "execution_count": 14,
     "metadata": {},
     "output_type": "execute_result"
    }
   ],
   "source": [
    "data.tail()"
   ]
  },
  {
   "cell_type": "markdown",
   "metadata": {},
   "source": [
    "#### Rain"
   ]
  },
  {
   "cell_type": "code",
   "execution_count": 15,
   "metadata": {},
   "outputs": [
    {
     "name": "stdout",
     "output_type": "stream",
     "text": [
      "Pearsons correlation for rain_sum with electricity price: -0.094\n",
      "Pearsons correlation for rain_sq with electricity price: -0.040\n",
      "Pearsons correlation for rain_sum_log with electricity price: -0.147\n",
      "Pearsons correlation for rain_sum_sqrt with electricity price: -0.133\n"
     ]
    }
   ],
   "source": [
    "x= data.elec_prices.values\n",
    "rain_sum= (data['rain_d']+data['rain_c']+data['rain_g']).values\n",
    "rain_sq= (data['rain_d']*data['rain_d']+data['rain_c']*data['rain_c']+data['rain_g']*data['rain_g']).values\n",
    "rain_sum_log= np.log(rain_sum+ 0.00001)\n",
    "rain_sum_sqrt= np.sqrt(rain_sum)\n",
    "\n",
    "calc_PCC(x,rain_sum,'rain_sum')\n",
    "calc_PCC(x,rain_sq,'rain_sq')\n",
    "calc_PCC(x,rain_sum_log,'rain_sum_log')\n",
    "calc_PCC(x,rain_sum_sqrt,'rain_sum_sqrt')"
   ]
  },
  {
   "cell_type": "code",
   "execution_count": 16,
   "metadata": {},
   "outputs": [
    {
     "name": "stdout",
     "output_type": "stream",
     "text": [
      "Pearsons correlation for rain_avg with electricity price: -0.094\n",
      "Pearsons correlation for rain_avg_sq with electricity price: -0.045\n",
      "Pearsons correlation for rain_avg_log with electricity price: -0.147\n",
      "Pearsons correlation for rain_avg_sqrt with electricity price: -0.133\n"
     ]
    }
   ],
   "source": [
    "rain_avg = rain_sum/3\n",
    "rain_avg_sq = rain_avg*rain_avg\n",
    "rain_avg_log = np.log(rain_avg+ 0.00001)\n",
    "rain_avg_sqrt= np.sqrt(rain_avg)\n",
    "calc_PCC(x,rain_avg,'rain_avg')\n",
    "calc_PCC(x,rain_avg_sq,'rain_avg_sq')\n",
    "calc_PCC(x,rain_avg_log,'rain_avg_log')\n",
    "calc_PCC(x,rain_avg_sqrt,'rain_avg_sqrt')"
   ]
  },
  {
   "cell_type": "code",
   "execution_count": 17,
   "metadata": {},
   "outputs": [
    {
     "data": {
      "text/plain": [
       "array([0.        , 0.        , 0.        , ..., 0.73333333, 0.3       ,\n",
       "       0.13333333])"
      ]
     },
     "execution_count": 17,
     "metadata": {},
     "output_type": "execute_result"
    }
   ],
   "source": [
    "rain_avg"
   ]
  },
  {
   "cell_type": "code",
   "execution_count": 18,
   "metadata": {},
   "outputs": [
    {
     "data": {
      "text/plain": [
       "array([0. , 0. , 0. , ..., 2.2, 0.9, 0.4])"
      ]
     },
     "execution_count": 18,
     "metadata": {},
     "output_type": "execute_result"
    }
   ],
   "source": [
    "rain_sum"
   ]
  },
  {
   "cell_type": "markdown",
   "metadata": {},
   "source": [
    "#### Wind direction"
   ]
  },
  {
   "cell_type": "code",
   "execution_count": 20,
   "metadata": {},
   "outputs": [
    {
     "name": "stdout",
     "output_type": "stream",
     "text": [
      "Pearsons correlation for wind_sum with electricity price: -0.033\n",
      "Pearsons correlation for wind_sqr with electricity price: -0.018\n",
      "Pearsons correlation for wind_sum_log with electricity price: -0.028\n",
      "Pearsons correlation for wind_sum_sqrt with electricity price: -0.031\n"
     ]
    }
   ],
   "source": [
    "x= data.elec_prices.values\n",
    "wind_sum= (data['wddir_d']+data['wddir_c']+data['wddir_g']).values\n",
    "wind_sqr= (data['wddir_d']*data['wddir_d']+data['wddir_c']*data['wddir_c']+data['wddir_g']*data['wddir_g']).values\n",
    "wind_sum_log= np.log(wind_sum)\n",
    "wind_sum_sqrt= np.sqrt(wind_sum)\n",
    "\n",
    "calc_PCC(x,wind_sum,'wind_sum')\n",
    "calc_PCC(x,wind_sqr,'wind_sqr')\n",
    "calc_PCC(x,wind_sum_log,'wind_sum_log')\n",
    "calc_PCC(x,wind_sum_sqrt,'wind_sum_sqrt')"
   ]
  },
  {
   "cell_type": "code",
   "execution_count": 21,
   "metadata": {},
   "outputs": [
    {
     "name": "stdout",
     "output_type": "stream",
     "text": [
      "Pearsons correlation for wind_avg with electricity price: -0.033\n",
      "Pearsons correlation for wind_avg_sq with electricity price: -0.035\n",
      "Pearsons correlation for wind_avg_log with electricity price: -0.028\n",
      "Pearsons correlation for wind_avg_sqrt with electricity price: -0.031\n"
     ]
    }
   ],
   "source": [
    "wind_avg = wind_sum/3\n",
    "wind_avg_sq = wind_avg*wind_avg\n",
    "wind_avg_log = np.log(wind_avg+ 0.00001)\n",
    "wind_avg_sqrt= np.sqrt(wind_avg)\n",
    "calc_PCC(x,wind_avg,'wind_avg')\n",
    "calc_PCC(x,wind_avg_sq,'wind_avg_sq')\n",
    "calc_PCC(x,wind_avg_log,'wind_avg_log')\n",
    "calc_PCC(x,wind_avg_sqrt,'wind_avg_sqrt')"
   ]
  },
  {
   "cell_type": "markdown",
   "metadata": {},
   "source": [
    "#### Oil prices"
   ]
  },
  {
   "cell_type": "code",
   "execution_count": 22,
   "metadata": {},
   "outputs": [
    {
     "name": "stdout",
     "output_type": "stream",
     "text": [
      "Pearsons correlation for oil_sqr with electricity price: -0.083\n",
      "Pearsons correlation for oil_sqrt with electricity price: -0.090\n",
      "Pearsons correlation for oil_log with electricity price: -0.092\n"
     ]
    }
   ],
   "source": [
    "x= data.elec_prices.values\n",
    "oil= data['daily_oil_price'].values\n",
    "oil_sqr= oil*oil\n",
    "oil_sqrt= np.sqrt(oil)\n",
    "oil_log= np.log(oil)\n",
    "\n",
    "calc_PCC(x,oil_sqr,'oil_sqr')\n",
    "calc_PCC(x,oil_sqrt,'oil_sqrt')\n",
    "calc_PCC(x,oil_log,'oil_log')"
   ]
  },
  {
   "cell_type": "markdown",
   "metadata": {},
   "source": [
    "#### Natural gas prices"
   ]
  },
  {
   "cell_type": "code",
   "execution_count": 23,
   "metadata": {},
   "outputs": [
    {
     "name": "stdout",
     "output_type": "stream",
     "text": [
      "Pearsons correlation for ng_sqr with electricity price: 0.257\n",
      "Pearsons correlation for ng_sqrt with electricity price: 0.257\n",
      "Pearsons correlation for ng_log with electricity price: 0.255\n"
     ]
    }
   ],
   "source": [
    "x= data.elec_prices.values\n",
    "ng = data.daily_natural_gas.values\n",
    "ng_sqr = ng*ng\n",
    "ng_sqrt = np.sqrt(ng)\n",
    "ng_log= np.log(ng)\n",
    "\n",
    "calc_PCC(x,ng_sqr,'ng_sqr')\n",
    "calc_PCC(x,ng_sqrt,'ng_sqrt')\n",
    "calc_PCC(x,ng_log,'ng_log')"
   ]
  },
  {
   "cell_type": "markdown",
   "metadata": {},
   "source": [
    "#### temperature"
   ]
  },
  {
   "cell_type": "code",
   "execution_count": 25,
   "metadata": {},
   "outputs": [
    {
     "name": "stdout",
     "output_type": "stream",
     "text": [
      "Pearsons correlation for temp_sum with electricity price: -0.127\n",
      "Pearsons correlation for temp_sqr with electricity price: -0.098\n",
      "Pearsons correlation for temp_sum_log with electricity price: -0.137\n",
      "Pearsons correlation for temp_sum_sqrt with electricity price: -0.139\n"
     ]
    }
   ],
   "source": [
    "temp_sum= (data['temp_d']+data['temp_c']+data['temp_g'])\n",
    "temp_sqr= (data['temp_d']*data['temp_d']+data['temp_c']*data['temp_c']+data['temp_g']*data['temp_g'])\n",
    "temp_sum_log= np.log(temp_sum+ 00000.1)\n",
    "temp_sum_log = temp_sum_log.ffill(axis = 0)\n",
    "temp_sum_sqrt= np.sqrt(temp_sum)\n",
    "temp_sum_sqrt= temp_sum_sqrt.ffill(axis = 0)\n",
    "\n",
    "calc_PCC(x,temp_sum.values,'temp_sum')\n",
    "calc_PCC(x,temp_sqr.values,'temp_sqr')\n",
    "calc_PCC(x,temp_sum_log.values,'temp_sum_log')\n",
    "calc_PCC(x,temp_sum_sqrt.values,'temp_sum_sqrt')"
   ]
  },
  {
   "cell_type": "code",
   "execution_count": 27,
   "metadata": {},
   "outputs": [
    {
     "name": "stdout",
     "output_type": "stream",
     "text": [
      "Pearsons correlation for temp_avg with electricity price: -0.127\n",
      "Pearsons correlation for temp_avg_sq with electricity price: -0.098\n"
     ]
    },
    {
     "ename": "ValueError",
     "evalue": "array must not contain infs or NaNs",
     "output_type": "error",
     "traceback": [
      "\u001b[1;31m---------------------------------------------------------------------------\u001b[0m",
      "\u001b[1;31mValueError\u001b[0m                                Traceback (most recent call last)",
      "\u001b[1;32m<ipython-input-27-4c333a310ae8>\u001b[0m in \u001b[0;36m<module>\u001b[1;34m\u001b[0m\n\u001b[0;32m      5\u001b[0m \u001b[0mcalc_PCC\u001b[0m\u001b[1;33m(\u001b[0m\u001b[0mx\u001b[0m\u001b[1;33m,\u001b[0m\u001b[0mtemp_avg\u001b[0m\u001b[1;33m,\u001b[0m\u001b[1;34m'temp_avg'\u001b[0m\u001b[1;33m)\u001b[0m\u001b[1;33m\u001b[0m\u001b[1;33m\u001b[0m\u001b[0m\n\u001b[0;32m      6\u001b[0m \u001b[0mcalc_PCC\u001b[0m\u001b[1;33m(\u001b[0m\u001b[0mx\u001b[0m\u001b[1;33m,\u001b[0m\u001b[0mtemp_avg_sq\u001b[0m\u001b[1;33m,\u001b[0m\u001b[1;34m'temp_avg_sq'\u001b[0m\u001b[1;33m)\u001b[0m\u001b[1;33m\u001b[0m\u001b[1;33m\u001b[0m\u001b[0m\n\u001b[1;32m----> 7\u001b[1;33m \u001b[0mcalc_PCC\u001b[0m\u001b[1;33m(\u001b[0m\u001b[0mx\u001b[0m\u001b[1;33m,\u001b[0m\u001b[0mtemp_avg_log\u001b[0m\u001b[1;33m,\u001b[0m\u001b[1;34m'temp_avg_log'\u001b[0m\u001b[1;33m)\u001b[0m\u001b[1;33m\u001b[0m\u001b[1;33m\u001b[0m\u001b[0m\n\u001b[0m\u001b[0;32m      8\u001b[0m \u001b[0mcalc_PCC\u001b[0m\u001b[1;33m(\u001b[0m\u001b[0mx\u001b[0m\u001b[1;33m,\u001b[0m\u001b[0mtemp_avg_sqrt\u001b[0m\u001b[1;33m,\u001b[0m\u001b[1;34m'temp_avg_sqrt'\u001b[0m\u001b[1;33m)\u001b[0m\u001b[1;33m\u001b[0m\u001b[1;33m\u001b[0m\u001b[0m\n",
      "\u001b[1;32m<ipython-input-11-f1057149869c>\u001b[0m in \u001b[0;36mcalc_PCC\u001b[1;34m(x, y, feature)\u001b[0m\n\u001b[0;32m      2\u001b[0m \u001b[1;32mdef\u001b[0m \u001b[0mcalc_PCC\u001b[0m\u001b[1;33m(\u001b[0m\u001b[0mx\u001b[0m\u001b[1;33m,\u001b[0m\u001b[0my\u001b[0m\u001b[1;33m,\u001b[0m\u001b[0mfeature\u001b[0m\u001b[1;33m)\u001b[0m\u001b[1;33m:\u001b[0m\u001b[1;33m\u001b[0m\u001b[1;33m\u001b[0m\u001b[0m\n\u001b[0;32m      3\u001b[0m     \u001b[1;34m'''Function that takes 2 continuous variables and returns the PCC value'''\u001b[0m\u001b[1;33m\u001b[0m\u001b[1;33m\u001b[0m\u001b[0m\n\u001b[1;32m----> 4\u001b[1;33m     \u001b[0mcorr\u001b[0m\u001b[1;33m,\u001b[0m \u001b[0m_\u001b[0m \u001b[1;33m=\u001b[0m \u001b[0mpearsonr\u001b[0m\u001b[1;33m(\u001b[0m\u001b[0mx\u001b[0m\u001b[1;33m,\u001b[0m \u001b[0my\u001b[0m\u001b[1;33m)\u001b[0m\u001b[1;33m\u001b[0m\u001b[1;33m\u001b[0m\u001b[0m\n\u001b[0m\u001b[0;32m      5\u001b[0m     \u001b[0mprint\u001b[0m\u001b[1;33m(\u001b[0m\u001b[1;34m'Pearsons correlation for '\u001b[0m\u001b[1;33m+\u001b[0m\u001b[0mfeature\u001b[0m\u001b[1;33m+\u001b[0m \u001b[1;34m' with electricity price: %.3f'\u001b[0m \u001b[1;33m%\u001b[0m \u001b[0mcorr\u001b[0m\u001b[1;33m)\u001b[0m\u001b[1;33m\u001b[0m\u001b[1;33m\u001b[0m\u001b[0m\n",
      "\u001b[1;32mC:\\python\\anaconda3\\lib\\site-packages\\scipy\\stats\\stats.py\u001b[0m in \u001b[0;36mpearsonr\u001b[1;34m(x, y)\u001b[0m\n\u001b[0;32m   3866\u001b[0m     \u001b[1;31m# [-5e210, 5e210, 3e200, -3e200]\u001b[0m\u001b[1;33m\u001b[0m\u001b[1;33m\u001b[0m\u001b[1;33m\u001b[0m\u001b[0m\n\u001b[0;32m   3867\u001b[0m     \u001b[0mnormxm\u001b[0m \u001b[1;33m=\u001b[0m \u001b[0mlinalg\u001b[0m\u001b[1;33m.\u001b[0m\u001b[0mnorm\u001b[0m\u001b[1;33m(\u001b[0m\u001b[0mxm\u001b[0m\u001b[1;33m)\u001b[0m\u001b[1;33m\u001b[0m\u001b[1;33m\u001b[0m\u001b[0m\n\u001b[1;32m-> 3868\u001b[1;33m     \u001b[0mnormym\u001b[0m \u001b[1;33m=\u001b[0m \u001b[0mlinalg\u001b[0m\u001b[1;33m.\u001b[0m\u001b[0mnorm\u001b[0m\u001b[1;33m(\u001b[0m\u001b[0mym\u001b[0m\u001b[1;33m)\u001b[0m\u001b[1;33m\u001b[0m\u001b[1;33m\u001b[0m\u001b[0m\n\u001b[0m\u001b[0;32m   3869\u001b[0m \u001b[1;33m\u001b[0m\u001b[0m\n\u001b[0;32m   3870\u001b[0m     \u001b[0mthreshold\u001b[0m \u001b[1;33m=\u001b[0m \u001b[1;36m1e-13\u001b[0m\u001b[1;33m\u001b[0m\u001b[1;33m\u001b[0m\u001b[0m\n",
      "\u001b[1;32mC:\\python\\anaconda3\\lib\\site-packages\\scipy\\linalg\\misc.py\u001b[0m in \u001b[0;36mnorm\u001b[1;34m(a, ord, axis, keepdims, check_finite)\u001b[0m\n\u001b[0;32m    138\u001b[0m     \u001b[1;31m# Differs from numpy only in non-finite handling and the use of blas.\u001b[0m\u001b[1;33m\u001b[0m\u001b[1;33m\u001b[0m\u001b[1;33m\u001b[0m\u001b[0m\n\u001b[0;32m    139\u001b[0m     \u001b[1;32mif\u001b[0m \u001b[0mcheck_finite\u001b[0m\u001b[1;33m:\u001b[0m\u001b[1;33m\u001b[0m\u001b[1;33m\u001b[0m\u001b[0m\n\u001b[1;32m--> 140\u001b[1;33m         \u001b[0ma\u001b[0m \u001b[1;33m=\u001b[0m \u001b[0mnp\u001b[0m\u001b[1;33m.\u001b[0m\u001b[0masarray_chkfinite\u001b[0m\u001b[1;33m(\u001b[0m\u001b[0ma\u001b[0m\u001b[1;33m)\u001b[0m\u001b[1;33m\u001b[0m\u001b[1;33m\u001b[0m\u001b[0m\n\u001b[0m\u001b[0;32m    141\u001b[0m     \u001b[1;32melse\u001b[0m\u001b[1;33m:\u001b[0m\u001b[1;33m\u001b[0m\u001b[1;33m\u001b[0m\u001b[0m\n\u001b[0;32m    142\u001b[0m         \u001b[0ma\u001b[0m \u001b[1;33m=\u001b[0m \u001b[0mnp\u001b[0m\u001b[1;33m.\u001b[0m\u001b[0masarray\u001b[0m\u001b[1;33m(\u001b[0m\u001b[0ma\u001b[0m\u001b[1;33m)\u001b[0m\u001b[1;33m\u001b[0m\u001b[1;33m\u001b[0m\u001b[0m\n",
      "\u001b[1;32mC:\\python\\anaconda3\\lib\\site-packages\\numpy\\lib\\function_base.py\u001b[0m in \u001b[0;36masarray_chkfinite\u001b[1;34m(a, dtype, order)\u001b[0m\n\u001b[0;32m    496\u001b[0m     \u001b[0ma\u001b[0m \u001b[1;33m=\u001b[0m \u001b[0masarray\u001b[0m\u001b[1;33m(\u001b[0m\u001b[0ma\u001b[0m\u001b[1;33m,\u001b[0m \u001b[0mdtype\u001b[0m\u001b[1;33m=\u001b[0m\u001b[0mdtype\u001b[0m\u001b[1;33m,\u001b[0m \u001b[0morder\u001b[0m\u001b[1;33m=\u001b[0m\u001b[0morder\u001b[0m\u001b[1;33m)\u001b[0m\u001b[1;33m\u001b[0m\u001b[1;33m\u001b[0m\u001b[0m\n\u001b[0;32m    497\u001b[0m     \u001b[1;32mif\u001b[0m \u001b[0ma\u001b[0m\u001b[1;33m.\u001b[0m\u001b[0mdtype\u001b[0m\u001b[1;33m.\u001b[0m\u001b[0mchar\u001b[0m \u001b[1;32min\u001b[0m \u001b[0mtypecodes\u001b[0m\u001b[1;33m[\u001b[0m\u001b[1;34m'AllFloat'\u001b[0m\u001b[1;33m]\u001b[0m \u001b[1;32mand\u001b[0m \u001b[1;32mnot\u001b[0m \u001b[0mnp\u001b[0m\u001b[1;33m.\u001b[0m\u001b[0misfinite\u001b[0m\u001b[1;33m(\u001b[0m\u001b[0ma\u001b[0m\u001b[1;33m)\u001b[0m\u001b[1;33m.\u001b[0m\u001b[0mall\u001b[0m\u001b[1;33m(\u001b[0m\u001b[1;33m)\u001b[0m\u001b[1;33m:\u001b[0m\u001b[1;33m\u001b[0m\u001b[1;33m\u001b[0m\u001b[0m\n\u001b[1;32m--> 498\u001b[1;33m         raise ValueError(\n\u001b[0m\u001b[0;32m    499\u001b[0m             \"array must not contain infs or NaNs\")\n\u001b[0;32m    500\u001b[0m     \u001b[1;32mreturn\u001b[0m \u001b[0ma\u001b[0m\u001b[1;33m\u001b[0m\u001b[1;33m\u001b[0m\u001b[0m\n",
      "\u001b[1;31mValueError\u001b[0m: array must not contain infs or NaNs"
     ]
    }
   ],
   "source": [
    "temp_avg = temp_sum/3\n",
    "temp_avg_sq = temp_avg*temp_avg\n",
    "temp_avg_log = np.log(temp_avg+ 0.00001)\n",
    "temp_avg_sqrt= np.sqrt(temp_avg)\n",
    "calc_PCC(x,temp_avg,'temp_avg')\n",
    "calc_PCC(x,temp_avg_sq,'temp_avg_sq')\n",
    "calc_PCC(x,temp_avg_log,'temp_avg_log')\n",
    "calc_PCC(x,temp_avg_sqrt,'temp_avg_sqrt')"
   ]
  },
  {
   "cell_type": "code",
   "execution_count": 29,
   "metadata": {},
   "outputs": [
    {
     "data": {
      "text/plain": [
       "0.0"
      ]
     },
     "execution_count": 29,
     "metadata": {},
     "output_type": "execute_result"
    }
   ],
   "source": [
    "np.sqrt(0)"
   ]
  },
  {
   "cell_type": "markdown",
   "metadata": {},
   "source": [
    "#### wind speed"
   ]
  },
  {
   "cell_type": "code",
   "execution_count": 30,
   "metadata": {},
   "outputs": [
    {
     "name": "stdout",
     "output_type": "stream",
     "text": [
      "Pearsons correlation for wdsp_sum with electricity price: -0.318\n",
      "Pearsons correlation for wdsp_sqr with electricity price: -0.304\n",
      "Pearsons correlation for wdsp_sum_log with electricity price: -0.299\n",
      "Pearsons correlation for wdsp_sum_sqrt with electricity price: -0.313\n"
     ]
    }
   ],
   "source": [
    "wdsp_sum= (data['wdsp_d']+data['wdsp_c']+data['wdsp_g']).values\n",
    "wdsp_sqr= (data['wdsp_d']*data['wdsp_d']+data['wdsp_c']*data['wdsp_c']+data['wdsp_g']*data['wdsp_g']).values\n",
    "wdsp_sum_log= np.log(wdsp_sum)\n",
    "wdsp_sum_sqrt= np.sqrt(wdsp_sum)\n",
    "\n",
    "calc_PCC(x,wdsp_sum,'wdsp_sum')\n",
    "calc_PCC(x,wdsp_sqr,'wdsp_sqr')\n",
    "calc_PCC(x,wdsp_sum_log,'wdsp_sum_log')\n",
    "calc_PCC(x,wdsp_sum_sqrt,'wdsp_sum_sqrt')"
   ]
  },
  {
   "cell_type": "code",
   "execution_count": 31,
   "metadata": {},
   "outputs": [
    {
     "name": "stdout",
     "output_type": "stream",
     "text": [
      "Pearsons correlation for wdsp_avg with electricity price: -0.318\n",
      "Pearsons correlation for wdsp_avg_sq with electricity price: -0.308\n",
      "Pearsons correlation for wdsp_avg_log with electricity price: -0.299\n",
      "Pearsons correlation for wdsp_avg_sqrt with electricity price: -0.313\n"
     ]
    }
   ],
   "source": [
    "wdsp_avg = wdsp_sum/3\n",
    "wdsp_avg_sq = wdsp_avg*wdsp_avg\n",
    "wdsp_avg_log = np.log(wdsp_avg+ 0.00001)\n",
    "wdsp_avg_sqrt= np.sqrt(wdsp_avg)\n",
    "calc_PCC(x,wdsp_avg,'wdsp_avg')\n",
    "calc_PCC(x,wdsp_avg_sq,'wdsp_avg_sq')\n",
    "calc_PCC(x,wdsp_avg_log,'wdsp_avg_log')\n",
    "calc_PCC(x,wdsp_avg_sqrt,'wdsp_avg_sqrt')"
   ]
  },
  {
   "cell_type": "markdown",
   "metadata": {},
   "source": [
    "#### Expanding Window Feature"
   ]
  },
  {
   "cell_type": "code",
   "execution_count": 15,
   "metadata": {},
   "outputs": [
    {
     "name": "stdout",
     "output_type": "stream",
     "text": [
      "Pearsons correlation for expanding_window_price with electricity price: 0.396\n"
     ]
    }
   ],
   "source": [
    "x= data.elec_prices.values\n",
    "y = data['elec_prices'].expanding().mean()\n",
    "calc_PCC(x,y.values,'expanding_window_price')"
   ]
  },
  {
   "cell_type": "code",
   "execution_count": 33,
   "metadata": {},
   "outputs": [
    {
     "name": "stdout",
     "output_type": "stream",
     "text": [
      "Pearsons correlation for expanding_window_price_lag1 with electricity price: 0.389\n"
     ]
    }
   ],
   "source": [
    "# lag of expanding window feature\n",
    "y = data['elec_prices'].expanding().mean()\n",
    "y_lag1 = y.shift(1)\n",
    "y_lag1 = y_lag1.bfill(axis ='rows')\n",
    "\n",
    "calc_PCC(x,y_lag1.values,'expanding_window_price_lag1')"
   ]
  },
  {
   "cell_type": "markdown",
   "metadata": {},
   "source": [
    "### Time based features"
   ]
  },
  {
   "cell_type": "code",
   "execution_count": 34,
   "metadata": {},
   "outputs": [
    {
     "data": {
      "text/html": [
       "<div>\n",
       "<style scoped>\n",
       "    .dataframe tbody tr th:only-of-type {\n",
       "        vertical-align: middle;\n",
       "    }\n",
       "\n",
       "    .dataframe tbody tr th {\n",
       "        vertical-align: top;\n",
       "    }\n",
       "\n",
       "    .dataframe thead th {\n",
       "        text-align: right;\n",
       "    }\n",
       "</style>\n",
       "<table border=\"1\" class=\"dataframe\">\n",
       "  <thead>\n",
       "    <tr style=\"text-align: right;\">\n",
       "      <th></th>\n",
       "      <th>applicable_date</th>\n",
       "      <th>elec_prices</th>\n",
       "      <th>rain_d</th>\n",
       "      <th>temp_d</th>\n",
       "      <th>wdsp_d</th>\n",
       "      <th>wddir_d</th>\n",
       "      <th>rain_c</th>\n",
       "      <th>temp_c</th>\n",
       "      <th>wdsp_c</th>\n",
       "      <th>wddir_c</th>\n",
       "      <th>rain_g</th>\n",
       "      <th>temp_g</th>\n",
       "      <th>wdsp_g</th>\n",
       "      <th>wddir_g</th>\n",
       "      <th>daily_oil_price</th>\n",
       "      <th>daily_natural_gas</th>\n",
       "    </tr>\n",
       "  </thead>\n",
       "  <tbody>\n",
       "    <tr>\n",
       "      <th>0</th>\n",
       "      <td>2019-01-01 00:00:00</td>\n",
       "      <td>70.28</td>\n",
       "      <td>0.0</td>\n",
       "      <td>8.8</td>\n",
       "      <td>4.626</td>\n",
       "      <td>250</td>\n",
       "      <td>0.0</td>\n",
       "      <td>8.5</td>\n",
       "      <td>2.056</td>\n",
       "      <td>240</td>\n",
       "      <td>0.0</td>\n",
       "      <td>9.9</td>\n",
       "      <td>2.056</td>\n",
       "      <td>260</td>\n",
       "      <td>59.41</td>\n",
       "      <td>2.61649</td>\n",
       "    </tr>\n",
       "    <tr>\n",
       "      <th>1</th>\n",
       "      <td>2019-01-01 01:00:00</td>\n",
       "      <td>65.18</td>\n",
       "      <td>0.0</td>\n",
       "      <td>8.3</td>\n",
       "      <td>4.626</td>\n",
       "      <td>250</td>\n",
       "      <td>0.0</td>\n",
       "      <td>8.5</td>\n",
       "      <td>1.542</td>\n",
       "      <td>270</td>\n",
       "      <td>0.0</td>\n",
       "      <td>9.3</td>\n",
       "      <td>2.056</td>\n",
       "      <td>240</td>\n",
       "      <td>59.41</td>\n",
       "      <td>2.61649</td>\n",
       "    </tr>\n",
       "    <tr>\n",
       "      <th>2</th>\n",
       "      <td>2019-01-01 02:00:00</td>\n",
       "      <td>60.91</td>\n",
       "      <td>0.0</td>\n",
       "      <td>8.4</td>\n",
       "      <td>4.112</td>\n",
       "      <td>240</td>\n",
       "      <td>0.0</td>\n",
       "      <td>8.4</td>\n",
       "      <td>1.542</td>\n",
       "      <td>280</td>\n",
       "      <td>0.0</td>\n",
       "      <td>9.2</td>\n",
       "      <td>2.570</td>\n",
       "      <td>240</td>\n",
       "      <td>59.41</td>\n",
       "      <td>2.61649</td>\n",
       "    </tr>\n",
       "    <tr>\n",
       "      <th>3</th>\n",
       "      <td>2019-01-01 03:00:00</td>\n",
       "      <td>65.16</td>\n",
       "      <td>0.0</td>\n",
       "      <td>8.6</td>\n",
       "      <td>4.112</td>\n",
       "      <td>250</td>\n",
       "      <td>0.0</td>\n",
       "      <td>8.5</td>\n",
       "      <td>2.570</td>\n",
       "      <td>260</td>\n",
       "      <td>0.0</td>\n",
       "      <td>9.1</td>\n",
       "      <td>2.570</td>\n",
       "      <td>250</td>\n",
       "      <td>59.41</td>\n",
       "      <td>2.61649</td>\n",
       "    </tr>\n",
       "    <tr>\n",
       "      <th>4</th>\n",
       "      <td>2019-01-01 04:00:00</td>\n",
       "      <td>65.16</td>\n",
       "      <td>0.0</td>\n",
       "      <td>8.4</td>\n",
       "      <td>5.140</td>\n",
       "      <td>250</td>\n",
       "      <td>0.0</td>\n",
       "      <td>8.5</td>\n",
       "      <td>2.570</td>\n",
       "      <td>270</td>\n",
       "      <td>0.0</td>\n",
       "      <td>8.8</td>\n",
       "      <td>2.056</td>\n",
       "      <td>250</td>\n",
       "      <td>59.41</td>\n",
       "      <td>2.61649</td>\n",
       "    </tr>\n",
       "  </tbody>\n",
       "</table>\n",
       "</div>"
      ],
      "text/plain": [
       "      applicable_date  elec_prices  rain_d  temp_d  wdsp_d  wddir_d  rain_c  \\\n",
       "0 2019-01-01 00:00:00        70.28     0.0     8.8   4.626      250     0.0   \n",
       "1 2019-01-01 01:00:00        65.18     0.0     8.3   4.626      250     0.0   \n",
       "2 2019-01-01 02:00:00        60.91     0.0     8.4   4.112      240     0.0   \n",
       "3 2019-01-01 03:00:00        65.16     0.0     8.6   4.112      250     0.0   \n",
       "4 2019-01-01 04:00:00        65.16     0.0     8.4   5.140      250     0.0   \n",
       "\n",
       "   temp_c  wdsp_c  wddir_c  rain_g  temp_g  wdsp_g  wddir_g  daily_oil_price  \\\n",
       "0     8.5   2.056      240     0.0     9.9   2.056      260            59.41   \n",
       "1     8.5   1.542      270     0.0     9.3   2.056      240            59.41   \n",
       "2     8.4   1.542      280     0.0     9.2   2.570      240            59.41   \n",
       "3     8.5   2.570      260     0.0     9.1   2.570      250            59.41   \n",
       "4     8.5   2.570      270     0.0     8.8   2.056      250            59.41   \n",
       "\n",
       "   daily_natural_gas  \n",
       "0            2.61649  \n",
       "1            2.61649  \n",
       "2            2.61649  \n",
       "3            2.61649  \n",
       "4            2.61649  "
      ]
     },
     "execution_count": 34,
     "metadata": {},
     "output_type": "execute_result"
    }
   ],
   "source": [
    "data.head()"
   ]
  },
  {
   "cell_type": "code",
   "execution_count": 35,
   "metadata": {},
   "outputs": [
    {
     "data": {
      "text/plain": [
       "(8304, 16)"
      ]
     },
     "execution_count": 35,
     "metadata": {},
     "output_type": "execute_result"
    }
   ],
   "source": [
    "data_= data.copy()\n",
    "data_.shape"
   ]
  },
  {
   "cell_type": "code",
   "execution_count": 36,
   "metadata": {},
   "outputs": [
    {
     "data": {
      "text/plain": [
       "applicable_date      2019-12-12 23:00:00\n",
       "elec_prices                           35\n",
       "rain_d                                 0\n",
       "temp_d                               4.4\n",
       "wdsp_d                             8.224\n",
       "wddir_d                              270\n",
       "rain_c                                 0\n",
       "temp_c                               5.4\n",
       "wdsp_c                             9.766\n",
       "wddir_c                              280\n",
       "rain_g                               0.4\n",
       "temp_g                               5.2\n",
       "wdsp_g                             6.682\n",
       "wddir_g                              280\n",
       "daily_oil_price                    66.67\n",
       "daily_natural_gas                2.03604\n",
       "Name: 8303, dtype: object"
      ]
     },
     "execution_count": 36,
     "metadata": {},
     "output_type": "execute_result"
    }
   ],
   "source": [
    "data_.iloc[-1]"
   ]
  },
  {
   "cell_type": "code",
   "execution_count": 37,
   "metadata": {},
   "outputs": [
    {
     "data": {
      "text/html": [
       "<div>\n",
       "<style scoped>\n",
       "    .dataframe tbody tr th:only-of-type {\n",
       "        vertical-align: middle;\n",
       "    }\n",
       "\n",
       "    .dataframe tbody tr th {\n",
       "        vertical-align: top;\n",
       "    }\n",
       "\n",
       "    .dataframe thead th {\n",
       "        text-align: right;\n",
       "    }\n",
       "</style>\n",
       "<table border=\"1\" class=\"dataframe\">\n",
       "  <thead>\n",
       "    <tr style=\"text-align: right;\">\n",
       "      <th></th>\n",
       "      <th>applicable_date</th>\n",
       "      <th>elec_prices</th>\n",
       "    </tr>\n",
       "  </thead>\n",
       "  <tbody>\n",
       "    <tr>\n",
       "      <th>0</th>\n",
       "      <td>2019-01-01 00:00:00</td>\n",
       "      <td>70.28</td>\n",
       "    </tr>\n",
       "    <tr>\n",
       "      <th>1</th>\n",
       "      <td>2019-01-01 01:00:00</td>\n",
       "      <td>65.18</td>\n",
       "    </tr>\n",
       "    <tr>\n",
       "      <th>2</th>\n",
       "      <td>2019-01-01 02:00:00</td>\n",
       "      <td>60.91</td>\n",
       "    </tr>\n",
       "    <tr>\n",
       "      <th>3</th>\n",
       "      <td>2019-01-01 03:00:00</td>\n",
       "      <td>65.16</td>\n",
       "    </tr>\n",
       "    <tr>\n",
       "      <th>4</th>\n",
       "      <td>2019-01-01 04:00:00</td>\n",
       "      <td>65.16</td>\n",
       "    </tr>\n",
       "  </tbody>\n",
       "</table>\n",
       "</div>"
      ],
      "text/plain": [
       "      applicable_date  elec_prices\n",
       "0 2019-01-01 00:00:00        70.28\n",
       "1 2019-01-01 01:00:00        65.18\n",
       "2 2019-01-01 02:00:00        60.91\n",
       "3 2019-01-01 03:00:00        65.16\n",
       "4 2019-01-01 04:00:00        65.16"
      ]
     },
     "execution_count": 37,
     "metadata": {},
     "output_type": "execute_result"
    }
   ],
   "source": [
    "time_data= data_.copy()\n",
    "time_data= time_data[['applicable_date','elec_prices']]\n",
    "time_data.head()"
   ]
  },
  {
   "cell_type": "code",
   "execution_count": 38,
   "metadata": {},
   "outputs": [
    {
     "data": {
      "text/html": [
       "<div>\n",
       "<style scoped>\n",
       "    .dataframe tbody tr th:only-of-type {\n",
       "        vertical-align: middle;\n",
       "    }\n",
       "\n",
       "    .dataframe tbody tr th {\n",
       "        vertical-align: top;\n",
       "    }\n",
       "\n",
       "    .dataframe thead th {\n",
       "        text-align: right;\n",
       "    }\n",
       "</style>\n",
       "<table border=\"1\" class=\"dataframe\">\n",
       "  <thead>\n",
       "    <tr style=\"text-align: right;\">\n",
       "      <th></th>\n",
       "      <th>applicable_date</th>\n",
       "      <th>elec_prices</th>\n",
       "      <th>month</th>\n",
       "      <th>day</th>\n",
       "      <th>dayofweek_num</th>\n",
       "      <th>dayofyear_num</th>\n",
       "      <th>weekofyear_num</th>\n",
       "      <th>dayofweek_name</th>\n",
       "      <th>Hour</th>\n",
       "    </tr>\n",
       "  </thead>\n",
       "  <tbody>\n",
       "    <tr>\n",
       "      <th>0</th>\n",
       "      <td>2019-01-01 00:00:00</td>\n",
       "      <td>70.28</td>\n",
       "      <td>1</td>\n",
       "      <td>1</td>\n",
       "      <td>1</td>\n",
       "      <td>1</td>\n",
       "      <td>1</td>\n",
       "      <td>Tuesday</td>\n",
       "      <td>0</td>\n",
       "    </tr>\n",
       "    <tr>\n",
       "      <th>1</th>\n",
       "      <td>2019-01-01 01:00:00</td>\n",
       "      <td>65.18</td>\n",
       "      <td>1</td>\n",
       "      <td>1</td>\n",
       "      <td>1</td>\n",
       "      <td>1</td>\n",
       "      <td>1</td>\n",
       "      <td>Tuesday</td>\n",
       "      <td>1</td>\n",
       "    </tr>\n",
       "    <tr>\n",
       "      <th>2</th>\n",
       "      <td>2019-01-01 02:00:00</td>\n",
       "      <td>60.91</td>\n",
       "      <td>1</td>\n",
       "      <td>1</td>\n",
       "      <td>1</td>\n",
       "      <td>1</td>\n",
       "      <td>1</td>\n",
       "      <td>Tuesday</td>\n",
       "      <td>2</td>\n",
       "    </tr>\n",
       "    <tr>\n",
       "      <th>3</th>\n",
       "      <td>2019-01-01 03:00:00</td>\n",
       "      <td>65.16</td>\n",
       "      <td>1</td>\n",
       "      <td>1</td>\n",
       "      <td>1</td>\n",
       "      <td>1</td>\n",
       "      <td>1</td>\n",
       "      <td>Tuesday</td>\n",
       "      <td>3</td>\n",
       "    </tr>\n",
       "    <tr>\n",
       "      <th>4</th>\n",
       "      <td>2019-01-01 04:00:00</td>\n",
       "      <td>65.16</td>\n",
       "      <td>1</td>\n",
       "      <td>1</td>\n",
       "      <td>1</td>\n",
       "      <td>1</td>\n",
       "      <td>1</td>\n",
       "      <td>Tuesday</td>\n",
       "      <td>4</td>\n",
       "    </tr>\n",
       "  </tbody>\n",
       "</table>\n",
       "</div>"
      ],
      "text/plain": [
       "      applicable_date  elec_prices  month  day  dayofweek_num  dayofyear_num  \\\n",
       "0 2019-01-01 00:00:00        70.28      1    1              1              1   \n",
       "1 2019-01-01 01:00:00        65.18      1    1              1              1   \n",
       "2 2019-01-01 02:00:00        60.91      1    1              1              1   \n",
       "3 2019-01-01 03:00:00        65.16      1    1              1              1   \n",
       "4 2019-01-01 04:00:00        65.16      1    1              1              1   \n",
       "\n",
       "   weekofyear_num dayofweek_name  Hour  \n",
       "0               1        Tuesday     0  \n",
       "1               1        Tuesday     1  \n",
       "2               1        Tuesday     2  \n",
       "3               1        Tuesday     3  \n",
       "4               1        Tuesday     4  "
      ]
     },
     "execution_count": 38,
     "metadata": {},
     "output_type": "execute_result"
    }
   ],
   "source": [
    "#time_data['year']=time_data['applicable_date'].dt.year \n",
    "time_data['month']=time_data['applicable_date'].dt.month \n",
    "time_data['day']=time_data['applicable_date'].dt.day\n",
    "\n",
    "time_data['dayofweek_num']=time_data['applicable_date'].dt.dayofweek\n",
    "time_data['dayofyear_num']=time_data['applicable_date'].dt.dayofyear\n",
    "time_data['weekofyear_num']=time_data['applicable_date'].dt.weekofyear\n",
    "time_data['dayofweek_name']=time_data['applicable_date'].dt.day_name()\n",
    "\n",
    "time_data['Hour'] = time_data['applicable_date'].dt.hour\n",
    "\n",
    "time_data.head()"
   ]
  },
  {
   "cell_type": "code",
   "execution_count": 39,
   "metadata": {},
   "outputs": [
    {
     "data": {
      "text/plain": [
       "False"
      ]
     },
     "execution_count": 39,
     "metadata": {},
     "output_type": "execute_result"
    }
   ],
   "source": [
    "time_data.isnull().values.any()"
   ]
  },
  {
   "cell_type": "markdown",
   "metadata": {},
   "source": [
    "time_data= time_data.drop(['year'], axis=1)\n",
    "time_data.head()"
   ]
  },
  {
   "cell_type": "code",
   "execution_count": 40,
   "metadata": {},
   "outputs": [
    {
     "data": {
      "text/plain": [
       "array([1, 2, 3, 4, 5, 6, 0], dtype=int64)"
      ]
     },
     "execution_count": 40,
     "metadata": {},
     "output_type": "execute_result"
    }
   ],
   "source": [
    "time_data['dayofweek_num'].unique()"
   ]
  },
  {
   "cell_type": "code",
   "execution_count": 41,
   "metadata": {},
   "outputs": [
    {
     "data": {
      "text/plain": [
       "array([  1,   2,   3,   4,   5,   6,   7,   8,   9,  10,  11,  12,  13,\n",
       "        14,  15,  16,  17,  18,  19,  20,  21,  22,  23,  24,  25,  26,\n",
       "        27,  28,  29,  30,  31,  32,  33,  34,  35,  36,  37,  38,  39,\n",
       "        40,  41,  42,  43,  44,  45,  46,  47,  48,  49,  50,  51,  52,\n",
       "        53,  54,  55,  56,  57,  58,  59,  60,  61,  62,  63,  64,  65,\n",
       "        66,  67,  68,  69,  70,  71,  72,  73,  74,  75,  76,  77,  78,\n",
       "        79,  80,  81,  82,  83,  84,  85,  86,  87,  88,  89,  90,  91,\n",
       "        92,  93,  94,  95,  96,  97,  98,  99, 100, 101, 102, 103, 104,\n",
       "       105, 106, 107, 108, 109, 110, 111, 112, 113, 114, 115, 116, 117,\n",
       "       118, 119, 120, 121, 122, 123, 124, 125, 126, 127, 128, 129, 130,\n",
       "       131, 132, 133, 134, 135, 136, 137, 138, 139, 140, 141, 142, 143,\n",
       "       144, 145, 146, 147, 148, 149, 150, 151, 152, 153, 154, 155, 156,\n",
       "       157, 158, 159, 160, 161, 162, 163, 164, 165, 166, 167, 168, 169,\n",
       "       170, 171, 172, 173, 174, 175, 176, 177, 178, 179, 180, 181, 182,\n",
       "       183, 184, 185, 186, 187, 188, 189, 190, 191, 192, 193, 194, 195,\n",
       "       196, 197, 198, 199, 200, 201, 202, 203, 204, 205, 206, 207, 208,\n",
       "       209, 210, 211, 212, 213, 214, 215, 216, 217, 218, 219, 220, 221,\n",
       "       222, 223, 224, 225, 226, 227, 228, 229, 230, 231, 232, 233, 234,\n",
       "       235, 236, 237, 238, 239, 240, 241, 242, 243, 244, 245, 246, 247,\n",
       "       248, 249, 250, 251, 252, 253, 254, 255, 256, 257, 258, 259, 260,\n",
       "       261, 262, 263, 264, 265, 266, 267, 268, 269, 270, 271, 272, 273,\n",
       "       274, 275, 276, 277, 278, 279, 280, 281, 282, 283, 284, 285, 286,\n",
       "       287, 288, 289, 290, 291, 292, 293, 294, 295, 296, 297, 298, 299,\n",
       "       300, 301, 302, 303, 304, 305, 306, 307, 308, 309, 310, 311, 312,\n",
       "       313, 314, 315, 316, 317, 318, 319, 320, 321, 322, 323, 324, 325,\n",
       "       326, 327, 328, 329, 330, 331, 332, 333, 334, 335, 336, 337, 338,\n",
       "       339, 340, 341, 342, 343, 344, 345, 346], dtype=int64)"
      ]
     },
     "execution_count": 41,
     "metadata": {},
     "output_type": "execute_result"
    }
   ],
   "source": [
    "time_data['dayofyear_num'].unique()"
   ]
  },
  {
   "cell_type": "code",
   "execution_count": 42,
   "metadata": {},
   "outputs": [
    {
     "data": {
      "text/plain": [
       "array([ 1,  2,  3,  4,  5,  6,  7,  8,  9, 10, 11, 12, 13, 14, 15, 16, 17,\n",
       "       18, 19, 20, 21, 22, 23, 24, 25, 26, 27, 28, 29, 30, 31, 32, 33, 34,\n",
       "       35, 36, 37, 38, 39, 40, 41, 42, 43, 44, 45, 46, 47, 48, 49, 50],\n",
       "      dtype=int64)"
      ]
     },
     "execution_count": 42,
     "metadata": {},
     "output_type": "execute_result"
    }
   ],
   "source": [
    "time_data['weekofyear_num'].unique()"
   ]
  },
  {
   "cell_type": "code",
   "execution_count": 43,
   "metadata": {},
   "outputs": [
    {
     "data": {
      "text/plain": [
       "array(['Tuesday', 'Wednesday', 'Thursday', 'Friday', 'Saturday', 'Sunday',\n",
       "       'Monday'], dtype=object)"
      ]
     },
     "execution_count": 43,
     "metadata": {},
     "output_type": "execute_result"
    }
   ],
   "source": [
    "time_data['dayofweek_name'].unique()"
   ]
  },
  {
   "cell_type": "code",
   "execution_count": 44,
   "metadata": {},
   "outputs": [
    {
     "data": {
      "text/plain": [
       "array([ 0,  1,  2,  3,  4,  5,  6,  7,  8,  9, 10, 11, 12, 13, 14, 15, 16,\n",
       "       17, 18, 19, 20, 21, 22, 23], dtype=int64)"
      ]
     },
     "execution_count": 44,
     "metadata": {},
     "output_type": "execute_result"
    }
   ],
   "source": [
    "time_data['Hour'].unique()"
   ]
  },
  {
   "cell_type": "code",
   "execution_count": 45,
   "metadata": {},
   "outputs": [
    {
     "name": "stdout",
     "output_type": "stream",
     "text": [
      "Pearsons correlation for month with electricity price: -0.254\n"
     ]
    }
   ],
   "source": [
    "x= time_data['elec_prices'].values\n",
    "y = time_data['month'].values\n",
    "calc_PCC(x,y,'month')"
   ]
  },
  {
   "cell_type": "code",
   "execution_count": 46,
   "metadata": {},
   "outputs": [
    {
     "name": "stdout",
     "output_type": "stream",
     "text": [
      "Pearsons correlation for day with electricity price: -0.036\n"
     ]
    }
   ],
   "source": [
    "y = time_data['day'].values\n",
    "calc_PCC(x,y,'day')"
   ]
  },
  {
   "cell_type": "code",
   "execution_count": 47,
   "metadata": {},
   "outputs": [
    {
     "name": "stdout",
     "output_type": "stream",
     "text": [
      "Pearsons correlation for dayofweek_num with electricity price: -0.131\n"
     ]
    }
   ],
   "source": [
    "y = time_data['dayofweek_num'].values\n",
    "calc_PCC(x,y,'dayofweek_num')"
   ]
  },
  {
   "cell_type": "code",
   "execution_count": 48,
   "metadata": {},
   "outputs": [
    {
     "name": "stdout",
     "output_type": "stream",
     "text": [
      "Pearsons correlation for Hour with electricity price: 0.254\n"
     ]
    }
   ],
   "source": [
    "y = time_data['Hour'].values\n",
    "calc_PCC(x,y,'Hour')"
   ]
  },
  {
   "cell_type": "code",
   "execution_count": 49,
   "metadata": {},
   "outputs": [
    {
     "name": "stdout",
     "output_type": "stream",
     "text": [
      "Pearsons correlation for dayofyear_num with electricity price: -0.256\n"
     ]
    }
   ],
   "source": [
    "y = time_data['dayofyear_num'].values\n",
    "calc_PCC(x,y,'dayofyear_num')"
   ]
  },
  {
   "cell_type": "code",
   "execution_count": 50,
   "metadata": {},
   "outputs": [
    {
     "name": "stdout",
     "output_type": "stream",
     "text": [
      "Pearsons correlation for weekofyear_num with electricity price: -0.253\n"
     ]
    }
   ],
   "source": [
    "y = time_data['weekofyear_num'].values\n",
    "calc_PCC(x,y,'weekofyear_num')"
   ]
  },
  {
   "cell_type": "markdown",
   "metadata": {},
   "source": [
    "### correlation between dayofweek_name & price"
   ]
  },
  {
   "cell_type": "code",
   "execution_count": 51,
   "metadata": {},
   "outputs": [],
   "source": [
    "from sklearn import preprocessing\n",
    "day_name= time_data['dayofweek_name'].values\n",
    "le = preprocessing.LabelEncoder()\n",
    "labels= le.fit_transform(day_name)"
   ]
  },
  {
   "cell_type": "code",
   "execution_count": 52,
   "metadata": {},
   "outputs": [
    {
     "data": {
      "text/plain": [
       "8304"
      ]
     },
     "execution_count": 52,
     "metadata": {},
     "output_type": "execute_result"
    }
   ],
   "source": [
    "len(labels)"
   ]
  },
  {
   "cell_type": "code",
   "execution_count": 53,
   "metadata": {},
   "outputs": [
    {
     "data": {
      "text/plain": [
       "array(['Friday', 'Monday', 'Saturday', 'Sunday', 'Thursday', 'Tuesday',\n",
       "       'Wednesday'], dtype=object)"
      ]
     },
     "execution_count": 53,
     "metadata": {},
     "output_type": "execute_result"
    }
   ],
   "source": [
    "le.classes_"
   ]
  },
  {
   "cell_type": "code",
   "execution_count": 54,
   "metadata": {},
   "outputs": [
    {
     "name": "stdout",
     "output_type": "stream",
     "text": [
      "Pearsons correlation for dayofweek_name with electricity price: 0.046\n"
     ]
    }
   ],
   "source": [
    "y = labels\n",
    "calc_PCC(x,y,'dayofweek_name')"
   ]
  }
 ],
 "metadata": {
  "kernelspec": {
   "display_name": "Python 3",
   "language": "python",
   "name": "python3"
  },
  "language_info": {
   "codemirror_mode": {
    "name": "ipython",
    "version": 3
   },
   "file_extension": ".py",
   "mimetype": "text/x-python",
   "name": "python",
   "nbconvert_exporter": "python",
   "pygments_lexer": "ipython3",
   "version": "3.8.3"
  }
 },
 "nbformat": 4,
 "nbformat_minor": 4
}
